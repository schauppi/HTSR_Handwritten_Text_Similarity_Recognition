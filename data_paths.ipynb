{
 "cells": [
  {
   "cell_type": "code",
   "execution_count": 85,
   "id": "ec544aea",
   "metadata": {},
   "outputs": [],
   "source": [
    "hand_A_20 = \"Dataset_22092021_lina/SCID/Data_A/processed/rgb_rows/ccl_20/rows/hand A 20\"\n",
    "hand_B_20 = \"Dataset_22092021_lina/SCID/Data_A/processed/rgb_rows/ccl_20/rows/hand B 20\"\n",
    "hand_A_30 = \"Dataset_22092021_lina/SCID/Data_A/processed/rgb_rows/ccl_30/rows/hand A 30\"\n",
    "hand_B_216 = \"Dataset_22092021_lina/SCID/Data_A/processed/rgb_rows/ccl_216/rows/hand B 216\"\n",
    "hand_A_218 = \"Dataset_22092021_lina/SCID/Data_A/processed/rgb_rows/ccl_218/rows/hand A 218\"\n",
    "hand_B_218 = \"Dataset_22092021_lina/SCID/Data_A/processed/rgb_rows/ccl_218/rows/hand B 218\"\n",
    "hand_C_218 = \"Dataset_22092021_lina/SCID/Data_A/processed/rgb_rows/ccl_218/rows/hand C 218\"\n",
    "hand_D_218 = \"Dataset_22092021_lina/SCID/Data_A/processed/rgb_rows/ccl_218/rows/hand D 218\"\n",
    "hand_A_26 = \"Dataset_22092021_lina/SCID/Data_B/processed/rgb_rows/ccl_26/rows/hand A 26\"\n",
    "hand_A_39 = \"Dataset_22092021_lina/SCID/Data_B/processed/rgb_rows/ccl_39/rows/hand A 39\"\n",
    "hand_B_39 = \"Dataset_22092021_lina/SCID/Data_B/processed/rgb_rows/ccl_39/rows/hand B 39\"\n",
    "hand_A_258 = \"Dataset_22092021_lina/SCID/Data_B/processed/rgb_rows/ccl_258/rows/hand A 258\"\n",
    "hand_A_259 = \"Dataset_22092021_lina/SCID/Data_B/processed/rgb_rows/ccl_259/rows/hand A 259\"\n",
    "hand_B_259 = \"Dataset_22092021_lina/SCID/Data_B/processed/rgb_rows/ccl_259/rows/hand B 259\"\n",
    "hand_A_215 = \"Dataset_22092021_lina/SCID/Data_B/processed/rgb_rows/ccl_215/rows/hand A 215\"\n",
    "hand_B_217 = \"Dataset_22092021_lina/SCID/Data_B/processed/rgb_rows/ccl_217/rows/hand B 217\"\n",
    "hand_A_220 = \"Dataset_22092021_lina/SCID/Data_B/processed/rgb_rows/ccl_220/rows/hand A 220\"\n",
    "hand_B_220 = \"Dataset_22092021_lina/SCID/Data_B/processed/rgb_rows/ccl_220/rows/hand B 220\"\n",
    "hand_HH_216 = \"Dataset_22092021_lina/SCID/Data_B/processed/rgb_rows/ccl_223/rows/hand HH 216\"\n",
    "hand_A_227 = \"Dataset_22092021_lina/SCID/Data_B/processed/rgb_rows/ccl_227/rows/hand A 227\"\n",
    "hand_B_227 = \"Dataset_22092021_lina/SCID/Data_B/processed/rgb_rows/ccl_227/rows/hand B 227\"\n",
    "hand_C_227 = \"Dataset_22092021_lina/SCID/Data_B/processed/rgb_rows/ccl_227/rows/hand C 227\"\n",
    "hand_A_732 = \"Dataset_22092021_lina/SCID/Data_B/processed/rgb_rows/ccl_246/rows/hand A 732\"\n",
    "hand_C_246 = \"Dataset_22092021_lina/SCID/Data_B/processed/rgb_rows/ccl_246/rows/hand C 246\"\n",
    "hand_A_248 = \"Dataset_22092021_lina/SCID/Data_B/processed/rgb_rows/ccl_248/rows/hand A 248\"\n",
    "hand_B_248 = \"Dataset_22092021_lina/SCID/Data_B/processed/rgb_rows/ccl_248/rows/hand B 248 (Otto)\"\n",
    "hand_252_A = \"Dataset_22092021_lina/SCID/Data_B/processed/rgb_rows/ccl_252/rows/hand 252 A\" \n",
    "hand_252_B = \"Dataset_22092021_lina/SCID/Data_B/processed/rgb_rows/ccl_252/rows/hand 252 B\" \n",
    "hand_252_C = \"Dataset_22092021_lina/SCID/Data_B/processed/rgb_rows/ccl_252/rows/hand 252 C\" \n",
    "hand_A_253 = \"Dataset_22092021_lina/SCID/Data_B/processed/rgb_rows/ccl_253/rows/hand A 253\"\n",
    "hand_B_253 = \"Dataset_22092021_lina/SCID/Data_B/processed/rgb_rows/ccl_253/rows/hand B 253\"\n",
    "hand_A_254 = \"Dataset_22092021_lina/SCID/Data_B/processed/rgb_rows/ccl_254/rows/hand A 254\"\n",
    "hand_B_254 = \"Dataset_22092021_lina/SCID/Data_B/processed/rgb_rows/ccl_254/rows/hand B 254\"\n",
    "hand_C_254 = \"Dataset_22092021_lina/SCID/Data_B/processed/rgb_rows/ccl_254/rows/hand C 254\"\n",
    "hand_A_255 = \"Dataset_22092021_lina/SCID/Data_B/processed/rgb_rows/ccl_255/rows/hand A 255\"\n",
    "hand_A_257 = \"Dataset_22092021_lina/SCID/Data_B/processed/rgb_rows/ccl_257/rows/hand A 257\"\n",
    "hand_A_260 = \"Dataset_22092021_lina/SCID/Data_B/processed/rgb_rows/ccl_260/rows/hand A 260\"\n",
    "hand_B_260 = \"Dataset_22092021_lina/SCID/Data_B/processed/rgb_rows/ccl_260/rows/hand B 260\"\n",
    "hand_C_260 = \"Dataset_22092021_lina/SCID/Data_B/processed/rgb_rows/ccl_260/rows/hand C 260\"\n",
    "hand_D_260 = \"Dataset_22092021_lina/SCID/Data_B/processed/rgb_rows/ccl_260/rows/hand D 260\"\n",
    "hand_E_260 = \"Dataset_22092021_lina/SCID/Data_B/processed/rgb_rows/ccl_260/rows/hand E 260\"\n",
    "hand_A_706 = \"Dataset_22092021_lina/SCID/Data_B/processed/rgb_rows/ccl_706/rows/hand A 706\"\n",
    "hand_A_707 = \"Dataset_22092021_lina/SCID/Data_B/processed/rgb_rows/ccl_707/rows/hand A 707\""
   ]
  }
 ],
 "metadata": {
  "kernelspec": {
   "display_name": "Python 3",
   "language": "python",
   "name": "python3"
  },
  "language_info": {
   "codemirror_mode": {
    "name": "ipython",
    "version": 3
   },
   "file_extension": ".py",
   "mimetype": "text/x-python",
   "name": "python",
   "nbconvert_exporter": "python",
   "pygments_lexer": "ipython3",
   "version": "3.6.9"
  }
 },
 "nbformat": 4,
 "nbformat_minor": 5
}
