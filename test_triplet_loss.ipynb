{
 "cells": [
  {
   "cell_type": "code",
   "execution_count": 1,
   "id": "2ec28a88-1109-433c-ae62-298fa7bcb398",
   "metadata": {},
   "outputs": [],
   "source": [
    "%load_ext autoreload\n",
    "%autoreload 2"
   ]
  },
  {
   "cell_type": "code",
   "execution_count": 174,
   "id": "c05ee071-5c74-4954-8281-eec51de39f06",
   "metadata": {},
   "outputs": [],
   "source": [
    "import numpy as np\n",
    "from numpy import savez_compressed\n",
    "from numpy import load\n",
    "import random\n",
    "\n",
    "import tensorflow as tf\n",
    "from tensorflow import keras\n",
    "from tensorflow.keras import metrics\n",
    "from tensorflow.keras import backend as K\n",
    "\n",
    "\n",
    "from helper_functions import load_and_split_data\n",
    "from helper_functions import triplet_loss_l2\n",
    "from helper_functions import triplet_loss_cosine\n",
    "from helper_functions import plot_triplet_roc_curve"
   ]
  },
  {
   "cell_type": "code",
   "execution_count": null,
   "id": "608cc596-a12d-48d4-bbad-528768a15c6e",
   "metadata": {},
   "outputs": [],
   "source": [
    "cosine_similarity = metrics.CosineSimilarity()"
   ]
  },
  {
   "cell_type": "code",
   "execution_count": 4,
   "id": "beb6f738-75f1-4453-861b-b50657b78966",
   "metadata": {},
   "outputs": [
    {
     "name": "stdout",
     "output_type": "stream",
     "text": [
      "CPU times: user 1min 19s, sys: 19 s, total: 1min 38s\n",
      "Wall time: 1min 37s\n"
     ]
    }
   ],
   "source": [
    "%%time\n",
    "train_dataset, test_dataset, val_dataset = load_and_split_data(\"npz_datasets/data_x_15000_rgb_triplet.npz\", \"npz_datasets/data_y_15000_rgb_triplet.npz\", split_size=80, batch_size=128, triplet=True)"
   ]
  },
  {
   "cell_type": "code",
   "execution_count": 5,
   "id": "5034bf32-218e-4da9-ac83-b48fbaad70ce",
   "metadata": {},
   "outputs": [
    {
     "data": {
      "text/plain": [
       "<TakeDataset shapes: (((None, 224, 224, 3), (None, 224, 224, 3), (None, 224, 224, 3)), (None, 0)), types: ((tf.float64, tf.float64, tf.float64), tf.float64)>"
      ]
     },
     "execution_count": 5,
     "metadata": {},
     "output_type": "execute_result"
    }
   ],
   "source": [
    "train_dataset.take(1)"
   ]
  },
  {
   "cell_type": "code",
   "execution_count": 6,
   "id": "aa57e9ba-5ccc-4fd9-a96a-e8e2a65dc7d1",
   "metadata": {},
   "outputs": [],
   "source": [
    "img_width = 224\n",
    "img_height = 224"
   ]
  },
  {
   "cell_type": "code",
   "execution_count": 33,
   "id": "270206c5-61df-47c2-a0c0-b2127ec56039",
   "metadata": {},
   "outputs": [],
   "source": [
    "#Set seed\n",
    "tf.random.set_seed(42)\n",
    "\n",
    "emb_size = 128\n",
    "\n",
    "base_model = tf.keras.applications.vgg16.VGG16(include_top=False)\n",
    "base_model.trainable = False\n",
    "\n",
    "inputs = keras.layers.Input((img_width, img_height, 3))\n",
    "x = base_model(inputs, training=False)\n",
    "x = keras.layers.GlobalAveragePooling2D()(x)\n",
    "x = keras.layers.Dense(512, activation=\"relu\")(x)\n",
    "x = keras.layers.Dense(emb_size, activation=\"relu\")(x)\n",
    "outputs = keras.layers.Lambda(lambda x: tf.keras.backend.l2_normalize(x, axis=1))(x)\n",
    "\n",
    "base_model_vgg_16 = keras.models.Model(inputs, outputs)"
   ]
  },
  {
   "cell_type": "code",
   "execution_count": 34,
   "id": "579a3c84-d71c-4c62-b1fd-64fd28ec61e8",
   "metadata": {},
   "outputs": [],
   "source": [
    "input_anchor = keras.layers.Input(shape=(224,224,3))\n",
    "input_positive = keras.layers.Input(shape=(224,224,3))\n",
    "input_negative = keras.layers.Input(shape=(224,224,3))\n",
    "\n",
    "embed_anchor = base_model_vgg_16(input_anchor)\n",
    "embed_positive = base_model_vgg_16(input_positive)\n",
    "embed_negative = base_model_vgg_16(input_negative)\n",
    "\n",
    "out = keras.layers.concatenate([embed_anchor, embed_positive, embed_negative], axis=1)"
   ]
  },
  {
   "cell_type": "code",
   "execution_count": 35,
   "id": "2be7b520-f5c3-46b2-9058-eee6a7a305ea",
   "metadata": {},
   "outputs": [],
   "source": [
    "model_vgg_16 = keras.models.Model([input_anchor, input_positive, input_negative], out)"
   ]
  },
  {
   "cell_type": "code",
   "execution_count": 36,
   "id": "0b58d35e-1c5c-4aa1-a732-67f43038cb3a",
   "metadata": {},
   "outputs": [],
   "source": [
    "model_vgg_16.compile(loss=triplet_loss_l2(alpha=0.2, emb_size=emb_size), optimizer=\"Adam\")"
   ]
  },
  {
   "cell_type": "code",
   "execution_count": null,
   "id": "45fdf75d-fec2-42c2-a41b-d8fbc663fc74",
   "metadata": {},
   "outputs": [],
   "source": [
    "history_model_vgg_16 = model_vgg_16.fit(train_dataset, validation_data=val_dataset, epochs=20)"
   ]
  },
  {
   "cell_type": "code",
   "execution_count": 38,
   "id": "780d7dfa-10a1-47a9-be3a-063300781dcd",
   "metadata": {},
   "outputs": [],
   "source": [
    "results = model_vgg_16.predict(test_dataset)"
   ]
  },
  {
   "cell_type": "code",
   "execution_count": 25,
   "id": "5d35b011-e6c6-4fd2-b0fc-f28246650cb8",
   "metadata": {},
   "outputs": [],
   "source": [
    "cosine_similarity = metrics.CosineSimilarity()"
   ]
  },
  {
   "cell_type": "code",
   "execution_count": 175,
   "id": "b74e1595-5282-49aa-b767-6f34beb33645",
   "metadata": {},
   "outputs": [
    {
     "data": {
      "image/png": "[encoded data removed]",
      "text/plain": [
       "<Figure size 432x288 with 1 Axes>"
      ]
     },
     "metadata": {
      "needs_background": "light"
     },
     "output_type": "display_data"
    }
   ],
   "source": [
    "plot_triplet_roc_curve(model_vgg_16, test_dataset, \"vgg_16\", emb_size)"
   ]
  }
 ],
 "metadata": {
  "kernelspec": {
   "display_name": "Python 3",
   "language": "python",
   "name": "python3"
  },
  "language_info": {
   "codemirror_mode": {
    "name": "ipython",
    "version": 3
   },
   "file_extension": ".py",
   "mimetype": "text/x-python",
   "name": "python",
   "nbconvert_exporter": "python",
   "pygments_lexer": "ipython3",
   "version": "3.6.9"
  }
 },
 "nbformat": 4,
 "nbformat_minor": 5
}
