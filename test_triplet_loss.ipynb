{
 "cells": [
  {
   "cell_type": "code",
   "execution_count": 2,
   "id": "2ec28a88-1109-433c-ae62-298fa7bcb398",
   "metadata": {},
   "outputs": [
    {
     "name": "stdout",
     "output_type": "stream",
     "text": [
      "The autoreload extension is already loaded. To reload it, use:\n",
      "  %reload_ext autoreload\n"
     ]
    }
   ],
   "source": [
    "%load_ext autoreload\n",
    "%autoreload 2"
   ]
  },
  {
   "cell_type": "code",
   "execution_count": 122,
   "id": "c05ee071-5c74-4954-8281-eec51de39f06",
   "metadata": {},
   "outputs": [],
   "source": [
    "import numpy as np\n",
    "from numpy import savez_compressed\n",
    "from numpy import load\n",
    "import random\n",
    "\n",
    "import tensorflow as tf\n",
    "from tensorflow import keras\n",
    "from tensorflow.keras import metrics\n",
    "from tensorflow.keras import backend as K\n",
    "\n",
    "from paths import dataset_paths\n",
    "from helper_functions import create_list\n",
    "from helper_functions import resize_and_keep_ratio\n",
    "from helper_functions import crop_image\n",
    "from helper_functions import load_and_split_data"
   ]
  },
  {
   "cell_type": "code",
   "execution_count": 4,
   "id": "7215e34d-aa52-48c0-97ea-271c7f7901bd",
   "metadata": {},
   "outputs": [],
   "source": [
    "def crop_image_triplet_loss(image, crop_width):\n",
    "    \"\"\"\n",
    "    Crops an random part out of an image and display the cropped area\n",
    "    \n",
    "    Arguments:\n",
    "        image: image in an numpy array format\n",
    "        width: int value width desired crop width\n",
    "        \n",
    "    Return:\n",
    "        Cropped image in an numpy array format\n",
    "    \"\"\"\n",
    "    #Convert PIL Image object into numpy array\n",
    "    img_array = np.array(image)\n",
    "    #select random point on x-axis and crop the image\n",
    "    x_max = img_array.shape[1] - crop_width\n",
    "    x_1 = np.random.randint(0, x_max)\n",
    "    x_2 = np.random.randint(0, x_max)\n",
    "    crop_1 = img_array[0:crop_width, x_1: x_1 + crop_width]\n",
    "    crop_2 = img_array[0:crop_width, x_2: x_2 + crop_width]\n",
    "\n",
    "    return crop_1, crop_2"
   ]
  },
  {
   "cell_type": "code",
   "execution_count": 5,
   "id": "4c2f5ba4-e472-45b2-8d87-d653b646a6c4",
   "metadata": {},
   "outputs": [],
   "source": [
    "def create_triplet_dataset(dataset_size, height, width, path, rgb=False):\n",
    "    \n",
    "    if rgb == True:\n",
    "        #create empty arrays for rgb data\n",
    "        anchors = np.zeros([dataset_size, height, width, 3])\n",
    "        positives = np.zeros([dataset_size, height, width, 3])\n",
    "        negatives = np.zeros([dataset_size, height, width, 3])\n",
    "        y = np.zeros([dataset_size, 0])\n",
    "    else: \n",
    "        #create empty arrays for grayscale data\n",
    "        anchors = np.zeros([dataset_size, height, width, 1])\n",
    "        positives = np.zeros([dataset_size, height, width, 1])\n",
    "        negatives = np.zeros([dataset_size, height, width, 1])\n",
    "        y = np.zeros([dataset_size, 0])\n",
    "        \n",
    "    i = 0\n",
    "    \n",
    "    while i < dataset_size:\n",
    "        #Select two random folders for anchor/positive and negative samples and save the paths to lists\n",
    "        list_anchor_positive, list_negative = random.sample(dataset_paths, 2)\n",
    "        list_anchor_positive = create_list(list_anchor_positive)\n",
    "        list_negative = create_list(list_negative)\n",
    "        \n",
    "        #load two images for anchor/positive and negative from disk and preprocess it\n",
    "        image_anchor_positive = resize_and_keep_ratio(list_anchor_positive, height, rgb)\n",
    "        image_negative = resize_and_keep_ratio(list_negative, height, rgb)\n",
    "        \n",
    "        #new cycle if one of the 2 loaded images is 0\n",
    "        if image_anchor_positive == 0 or image_negative == 0:\n",
    "            pass\n",
    "        else:\n",
    "            if rgb == True:\n",
    "                anchor, positive = (crop_image_triplet_loss(image_anchor_positive, width))\n",
    "                anchors[i] = anchor / 255.\n",
    "                positives[i] = positive / 255.\n",
    "                negatives[i] = (crop_image(image_negative, width)) / 255.\n",
    "                y[i] = 0\n",
    "                \n",
    "            else:\n",
    "                anchor, positive = (crop_image_triplet_loss(image_anchor_positive, width))\n",
    "                anchors[i] = anchor / 255.\n",
    "                positives[i] = positive / 255.\n",
    "                negative[i] = (crop_image(image_negative, width)) / 255.\n",
    "                y[i] = 0\n",
    "        \n",
    "            i += 1\n",
    "        \n",
    "    return[anchors, positives, negatives], y"
   ]
  },
  {
   "cell_type": "code",
   "execution_count": 6,
   "id": "2fc81321-03da-45b0-9b60-fa7c5d16c12e",
   "metadata": {},
   "outputs": [
    {
     "name": "stdout",
     "output_type": "stream",
     "text": [
      "CPU times: user 2min 35s, sys: 1min 23s, total: 3min 59s\n",
      "Wall time: 4min 4s\n"
     ]
    }
   ],
   "source": [
    "%%time\n",
    "x, y = create_triplet_dataset(15000, 224, 224, dataset_paths, rgb=True)"
   ]
  },
  {
   "cell_type": "code",
   "execution_count": 7,
   "id": "38f112ea-d9cf-4803-b5bc-04594d62c5ee",
   "metadata": {},
   "outputs": [],
   "source": [
    "def save_triplet_arrays(x, y, sample_size, rgb=False):\n",
    "    \"\"\"\n",
    "    Function for saving numpy arrays in numpy .npz format on disc\n",
    "    \n",
    "    Arguments:\n",
    "        sample_size: Number of image pairs in int format\n",
    "        x: x data as numpy array\n",
    "        y: y data as numpy array\n",
    "        rgb: npz extension if rgb or grayscale images\n",
    "    \n",
    "    Returns:\n",
    "        Print statement if saving is successfull\n",
    "    \"\"\"\n",
    "    if rgb == True:\n",
    "        savez_compressed(f'npz_datasets/data_x_{sample_size}_rgb_triplet.npz', x)\n",
    "        savez_compressed(f'npz_datasets/data_y_{sample_size}_rgb_triplet.npz', y)\n",
    "    else:\n",
    "        savez_compressed(f'npz_datasets/data_x_{sample_size}_gray_triplet.npz', x)\n",
    "        savez_compressed(f'npz_datasets/data_y_{sample_size}_gray_triplet.npz', y)\n",
    "    print(\"saved successfully\")"
   ]
  },
  {
   "cell_type": "code",
   "execution_count": 8,
   "id": "c02d7008-8ab0-44da-b20d-5527b948fd6d",
   "metadata": {},
   "outputs": [
    {
     "name": "stdout",
     "output_type": "stream",
     "text": [
      "saved successfully\n"
     ]
    }
   ],
   "source": [
    "sample_size = 15000\n",
    "save_triplet_arrays(x, y, sample_size, rgb=True)"
   ]
  },
  {
   "cell_type": "code",
   "execution_count": 11,
   "id": "beb6f738-75f1-4453-861b-b50657b78966",
   "metadata": {},
   "outputs": [
    {
     "name": "stdout",
     "output_type": "stream",
     "text": [
      "CPU times: user 1min 20s, sys: 19.1 s, total: 1min 39s\n",
      "Wall time: 1min 39s\n"
     ]
    }
   ],
   "source": [
    "%%time\n",
    "train_dataset, test_dataset, val_dataset = load_and_split_data(\"npz_datasets/data_x_15000_rgb_triplet.npz\", \"npz_datasets/data_y_15000_rgb_triplet.npz\", split_size=80, batch_size=128, triplet=True)"
   ]
  },
  {
   "cell_type": "code",
   "execution_count": 34,
   "id": "5034bf32-218e-4da9-ac83-b48fbaad70ce",
   "metadata": {},
   "outputs": [
    {
     "data": {
      "text/plain": [
       "<TakeDataset shapes: (((None, 224, 224, 3), (None, 224, 224, 3), (None, 224, 224, 3)), (None, 0)), types: ((tf.float64, tf.float64, tf.float64), tf.float64)>"
      ]
     },
     "execution_count": 34,
     "metadata": {},
     "output_type": "execute_result"
    }
   ],
   "source": [
    "train_dataset.take(1)"
   ]
  },
  {
   "cell_type": "code",
   "execution_count": 12,
   "id": "3a91424d-8273-4a68-b81e-a38225d4d5af",
   "metadata": {},
   "outputs": [],
   "source": [
    "def triplet_loss_l2(alpha, emb_dim):\n",
    "    def loss(y_true, y_pred):\n",
    "        anc, pos, neg = y_pred[:,:emb_size], y_pred[:,emb_size:2*emb_size], y_pred[:,2*emb_size:]\n",
    "        distance1 = tf.sqrt(tf.reduce_sum(tf.pow(anc - pos, 2), 1, keepdims=True))\n",
    "        distance2 = tf.sqrt(tf.reduce_sum(tf.pow(anc - neg, 2), 1, keepdims=True))\n",
    "        return tf.reduce_mean(tf.maximum(distance1 - distance2 + alpha, 0.))\n",
    "    return loss"
   ]
  },
  {
   "cell_type": "code",
   "execution_count": 13,
   "id": "9379d2c1-0ce6-414c-a1aa-376938225f92",
   "metadata": {},
   "outputs": [],
   "source": [
    "def triplet_loss_cosine(alpha, emb_dim):\n",
    "    def loss(y_true, y_pred):\n",
    "        anc, pos, neg = y_pred[:,:emb_size], y_pred[:,emb_size:2*emb_size], y_pred[:,2*emb_size:]\n",
    "        distance1 = tf.keras.losses.cosine_similarity(anc, pos)\n",
    "        distance2 = tf.keras.losses.cosine_similarity(anc, neg)\n",
    "        return tf.keras.backend.clip(distance1 - distance2 + alpha, 0., None)\n",
    "    return loss"
   ]
  },
  {
   "cell_type": "code",
   "execution_count": 14,
   "id": "aa57e9ba-5ccc-4fd9-a96a-e8e2a65dc7d1",
   "metadata": {},
   "outputs": [],
   "source": [
    "img_width = 224\n",
    "img_height = 224"
   ]
  },
  {
   "cell_type": "code",
   "execution_count": 125,
   "id": "270206c5-61df-47c2-a0c0-b2127ec56039",
   "metadata": {},
   "outputs": [],
   "source": [
    "#Set seed\n",
    "tf.random.set_seed(42)\n",
    "\n",
    "emb_size = 512\n",
    "\n",
    "base_model = tf.keras.applications.vgg16.VGG16(include_top=False)\n",
    "base_model.trainable = False\n",
    "\n",
    "inputs = keras.layers.Input((img_width, img_height, 3))\n",
    "x = base_model(inputs, training=False)\n",
    "x = keras.layers.GlobalAveragePooling2D()(x)\n",
    "x = keras.layers.Dense(512, activation=\"relu\")(x)\n",
    "x = keras.layers.Dense(emb_size, activation=\"relu\")(x)\n",
    "outputs = keras.layers.Lambda(lambda x: tf.keras.backend.l2_normalize(x, axis=1))(x)\n",
    "\n",
    "base_model_vgg_16 = keras.models.Model(inputs, outputs)"
   ]
  },
  {
   "cell_type": "code",
   "execution_count": 126,
   "id": "579a3c84-d71c-4c62-b1fd-64fd28ec61e8",
   "metadata": {},
   "outputs": [],
   "source": [
    "input_anchor = keras.layers.Input(shape=(224,224,3))\n",
    "input_positive = keras.layers.Input(shape=(224,224,3))\n",
    "input_negative = keras.layers.Input(shape=(224,224,3))\n",
    "\n",
    "embed_anchor = base_model_vgg_16(input_anchor)\n",
    "embed_positive = base_model_vgg_16(input_positive)\n",
    "embed_negative = base_model_vgg_16(input_negative)\n",
    "\n",
    "out = keras.layers.concatenate([embed_anchor, embed_positive, embed_negative], axis=1)"
   ]
  },
  {
   "cell_type": "code",
   "execution_count": 127,
   "id": "2be7b520-f5c3-46b2-9058-eee6a7a305ea",
   "metadata": {},
   "outputs": [],
   "source": [
    "model_vgg_16 = keras.models.Model([input_anchor, input_positive, input_negative], out)"
   ]
  },
  {
   "cell_type": "code",
   "execution_count": 128,
   "id": "0b58d35e-1c5c-4aa1-a732-67f43038cb3a",
   "metadata": {},
   "outputs": [],
   "source": [
    "model_vgg_16.compile(loss=triplet_loss_l2(alpha=0.2, emb_dim=emb_size), optimizer=\"Adam\")"
   ]
  },
  {
   "cell_type": "code",
   "execution_count": 129,
   "id": "45fdf75d-fec2-42c2-a41b-d8fbc663fc74",
   "metadata": {},
   "outputs": [
    {
     "name": "stdout",
     "output_type": "stream",
     "text": [
      "Epoch 1/10\n",
      "94/94 [==============================] - 39s 406ms/step - loss: 0.0294 - val_loss: 0.0196\n",
      "Epoch 2/10\n",
      "94/94 [==============================] - 38s 405ms/step - loss: 0.0166 - val_loss: 0.0137\n",
      "Epoch 3/10\n",
      "94/94 [==============================] - 38s 406ms/step - loss: 0.0146 - val_loss: 0.0126\n",
      "Epoch 4/10\n",
      "94/94 [==============================] - 38s 406ms/step - loss: 0.0120 - val_loss: 0.0135\n",
      "Epoch 5/10\n",
      "94/94 [==============================] - 38s 407ms/step - loss: 0.0119 - val_loss: 0.0115\n",
      "Epoch 6/10\n",
      "94/94 [==============================] - 38s 406ms/step - loss: 0.0094 - val_loss: 0.0108\n",
      "Epoch 7/10\n",
      "94/94 [==============================] - 39s 407ms/step - loss: 0.0088 - val_loss: 0.0119\n",
      "Epoch 8/10\n",
      "94/94 [==============================] - 39s 407ms/step - loss: 0.0085 - val_loss: 0.0119\n",
      "Epoch 9/10\n",
      "94/94 [==============================] - 39s 408ms/step - loss: 0.0076 - val_loss: 0.0098\n",
      "Epoch 10/10\n",
      "94/94 [==============================] - 39s 408ms/step - loss: 0.0068 - val_loss: 0.0121\n"
     ]
    }
   ],
   "source": [
    "history_model_vgg_16 = model_vgg_16.fit(train_dataset, validation_data=val_dataset, epochs=10)"
   ]
  },
  {
   "cell_type": "code",
   "execution_count": 130,
   "id": "780d7dfa-10a1-47a9-be3a-063300781dcd",
   "metadata": {},
   "outputs": [],
   "source": [
    "results = model_vgg_16.predict(test_dataset)"
   ]
  },
  {
   "cell_type": "code",
   "execution_count": 25,
   "id": "5d35b011-e6c6-4fd2-b0fc-f28246650cb8",
   "metadata": {},
   "outputs": [],
   "source": [
    "cosine_similarity = metrics.CosineSimilarity()"
   ]
  },
  {
   "cell_type": "code",
   "execution_count": 132,
   "id": "9a48d9ae-2f47-4da7-9d97-692e57a5e76f",
   "metadata": {},
   "outputs": [
    {
     "name": "stdout",
     "output_type": "stream",
     "text": [
      "positve: 0.26056528091430664\n",
      "negative: 0.8722168803215027\n",
      "------------------------\n",
      "positve: 0.25029072165489197\n",
      "negative: 1.0435330867767334\n",
      "------------------------\n",
      "positve: 0.3676890730857849\n",
      "negative: 1.0440152883529663\n",
      "------------------------\n",
      "positve: 0.6030675768852234\n",
      "negative: 0.6117472052574158\n",
      "------------------------\n",
      "positve: 0.27874669432640076\n",
      "negative: 0.8769677877426147\n",
      "------------------------\n",
      "positve: 0.45442497730255127\n",
      "negative: 1.3094731569290161\n",
      "------------------------\n",
      "positve: 0.12623664736747742\n",
      "negative: 0.8270788788795471\n",
      "------------------------\n",
      "positve: 0.35968220233917236\n",
      "negative: 1.1262309551239014\n",
      "------------------------\n",
      "positve: 0.32070085406303406\n",
      "negative: 0.45814943313598633\n",
      "------------------------\n",
      "positve: 0.22830048203468323\n",
      "negative: 0.8598271608352661\n",
      "------------------------\n",
      "positve: 0.3318183720111847\n",
      "negative: 1.307089924812317\n",
      "------------------------\n",
      "positve: 0.2261589765548706\n",
      "negative: 1.0852826833724976\n",
      "------------------------\n",
      "positve: 0.34569957852363586\n",
      "negative: 1.0635557174682617\n",
      "------------------------\n",
      "positve: 0.37215620279312134\n",
      "negative: 1.1225839853286743\n",
      "------------------------\n",
      "positve: 0.18341197073459625\n",
      "negative: 0.8688725233078003\n",
      "------------------------\n",
      "positve: 0.2809865176677704\n",
      "negative: 1.1644846200942993\n",
      "------------------------\n",
      "positve: 0.18164119124412537\n",
      "negative: 0.356554239988327\n",
      "------------------------\n",
      "positve: 0.2743258476257324\n",
      "negative: 0.9031017422676086\n",
      "------------------------\n",
      "positve: 0.2315906137228012\n",
      "negative: 1.372168779373169\n",
      "------------------------\n",
      "positve: 0.46151310205459595\n",
      "negative: 1.2700140476226807\n",
      "------------------------\n"
     ]
    }
   ],
   "source": [
    "for i in range(20):\n",
    "    anchor = results[i][:emb_size]\n",
    "    positive = results[i][emb_size:emb_size*2]\n",
    "    negative = results[i][emb_size*2:]\n",
    "    distance1 = tf.sqrt(tf.reduce_sum(tf.pow(anchor - positive, 2), axis=-1)).numpy()\n",
    "    distance2 = tf.sqrt(tf.reduce_sum(tf.pow(anchor - negative, 2), axis=-1)).numpy()\n",
    "    #positive_similarity = (cosine_similarity(anchor, positive)).numpy()\n",
    "    #negative_similarity = (cosine_similarity(anchor, negative)).numpy()\n",
    "    #print(positive_similarity)\n",
    "    #print(negative_similarity)\n",
    "    print(f\"positve: {distance1}\")\n",
    "    print(f\"negative: {distance2}\")\n",
    "    print(\"------------------------\")"
   ]
  },
  {
   "cell_type": "code",
   "execution_count": 79,
   "id": "be8670d0-8d23-461a-8b44-e8add8f6d8c7",
   "metadata": {},
   "outputs": [],
   "source": [
    "sample = next(iter(test_dataset))\n",
    "anchor = np.expand_dims(sample[0][0][0], axis=0)\n",
    "positive = np.expand_dims(sample[0][1][0], axis=0)\n",
    "negative = np.expand_dims(sample[0][2][0], axis=0)"
   ]
  },
  {
   "cell_type": "code",
   "execution_count": 80,
   "id": "4c0c4ba9-6e11-4d5b-9dbe-8cc0000cb0be",
   "metadata": {},
   "outputs": [],
   "source": [
    "preds = model_vgg_16.predict([anchor, positive, negative])"
   ]
  },
  {
   "cell_type": "code",
   "execution_count": 81,
   "id": "77cf92b9-cb28-4b92-b354-67ab93b47801",
   "metadata": {},
   "outputs": [],
   "source": [
    "anchor_embed = preds[0][:1024]\n",
    "positive_embed = preds[0][1024:1024*2]\n",
    "negative_embed = preds[0][1024*2:]"
   ]
  },
  {
   "cell_type": "code",
   "execution_count": 104,
   "id": "9af702c4-fac8-4d25-89b4-fbd58e73ae35",
   "metadata": {},
   "outputs": [],
   "source": [
    "distance1 = tf.sqrt(tf.reduce_sum(tf.pow(anchor_embed - positive_embed, 2), axis=-1))\n",
    "distance2 = tf.sqrt(tf.reduce_sum(tf.pow(anchor_embed - negative_embed, 2), axis=-1))"
   ]
  },
  {
   "cell_type": "code",
   "execution_count": 106,
   "id": "85fc77e7-855e-4369-bea9-5e700068c1d5",
   "metadata": {},
   "outputs": [
    {
     "name": "stdout",
     "output_type": "stream",
     "text": [
      "tf.Tensor(0.007600005, shape=(), dtype=float32)\n",
      "tf.Tensor(0.012971936, shape=(), dtype=float32)\n"
     ]
    }
   ],
   "source": [
    "print(distance1)\n",
    "print(distance2)"
   ]
  },
  {
   "cell_type": "code",
   "execution_count": 192,
   "id": "0108b192-6cd1-449c-9f7b-64a1876586ad",
   "metadata": {},
   "outputs": [
    {
     "data": {
      "text/plain": [
       "TensorShape([128, 224, 224, 3])"
      ]
     },
     "execution_count": 192,
     "metadata": {},
     "output_type": "execute_result"
    }
   ],
   "source": [
    "sample[0][0].shape"
   ]
  },
  {
   "cell_type": "code",
   "execution_count": 193,
   "id": "2bc6da5d-cafb-4781-ba42-7d8ced19efea",
   "metadata": {},
   "outputs": [
    {
     "data": {
      "text/plain": [
       "TensorShape([128, 224, 224, 3])"
      ]
     },
     "execution_count": 193,
     "metadata": {},
     "output_type": "execute_result"
    }
   ],
   "source": [
    "sample[0][1].shape"
   ]
  },
  {
   "cell_type": "code",
   "execution_count": 194,
   "id": "8120a000-f05c-4932-9b69-1b142f45bc38",
   "metadata": {},
   "outputs": [
    {
     "data": {
      "text/plain": [
       "TensorShape([128, 224, 224, 3])"
      ]
     },
     "execution_count": 194,
     "metadata": {},
     "output_type": "execute_result"
    }
   ],
   "source": [
    "sample[0][2].shape"
   ]
  },
  {
   "cell_type": "code",
   "execution_count": 77,
   "id": "5305a39e-f42d-4a77-8bd1-5f5af641b55e",
   "metadata": {},
   "outputs": [],
   "source": [
    "import matplotlib.pyplot as plt"
   ]
  },
  {
   "cell_type": "code",
   "execution_count": 195,
   "id": "80e79074-6434-428e-a089-edcab70791a9",
   "metadata": {},
   "outputs": [],
   "source": [
    "anchor = sample[0][0][0]\n",
    "positive = sample[0][1][0]\n",
    "negative = sample[0][2][0]"
   ]
  },
  {
   "cell_type": "code",
   "execution_count": 196,
   "id": "4ff72969-23a0-46af-95ee-878854efe4f6",
   "metadata": {},
   "outputs": [],
   "source": [
    "anchor_embed = base_model_vgg_16(np.expand_dims(anchor, axis=0))\n",
    "positive_embed = base_model_vgg_16(np.expand_dims(positive, axis=0))\n",
    "negative_embed = base_model_vgg_16(np.expand_dims(negative, axis=0))"
   ]
  },
  {
   "cell_type": "code",
   "execution_count": 197,
   "id": "d0624ff3-e3dd-48a4-8581-41a9908bbaa7",
   "metadata": {},
   "outputs": [],
   "source": [
    "from tensorflow.keras import metrics\n",
    "cosine_similarity = metrics.CosineSimilarity()"
   ]
  },
  {
   "cell_type": "code",
   "execution_count": 198,
   "id": "33019b0f-69af-4e91-99c8-0ee98fb1a5cc",
   "metadata": {},
   "outputs": [],
   "source": [
    "positive_similarity = (cosine_similarity(anchor_embed, positive_embed)).numpy()\n",
    "negative_similarity = (cosine_similarity(anchor_embed, negative_embed)).numpy()"
   ]
  },
  {
   "cell_type": "code",
   "execution_count": 199,
   "id": "ab41e2fb-116f-4f40-9b67-4b63d4b28cb4",
   "metadata": {},
   "outputs": [
    {
     "name": "stdout",
     "output_type": "stream",
     "text": [
      "0.98693264\n",
      "0.5168765\n"
     ]
    }
   ],
   "source": [
    "print(positive_similarity)\n",
    "print(negative_similarity)"
   ]
  },
  {
   "cell_type": "code",
   "execution_count": 116,
   "id": "f9fd4fb7-8fdf-460c-964b-f9f96227c8f7",
   "metadata": {},
   "outputs": [
    {
     "name": "stdout",
     "output_type": "stream",
     "text": [
      "0.8177115\n",
      "0.42451617\n"
     ]
    }
   ],
   "source": [
    "print(positive_similarity)\n",
    "print(negative_similarity)"
   ]
  },
  {
   "cell_type": "code",
   "execution_count": 200,
   "id": "856f8ec1-51c4-45fa-aad9-a924dac88d4c",
   "metadata": {},
   "outputs": [
    {
     "name": "stdout",
     "output_type": "stream",
     "text": [
      "positive:  0.6735619\n",
      "negative:  0.5168765\n",
      "positive:  0.5825464\n",
      "negative:  0.6322687\n",
      "positive:  0.6720594\n",
      "negative:  0.6494194\n",
      "positive:  0.675735\n",
      "negative:  0.67457324\n",
      "positive:  0.7023089\n",
      "negative:  0.70358056\n",
      "positive:  0.7126394\n",
      "negative:  0.71612483\n",
      "positive:  0.7314385\n",
      "negative:  0.7372568\n",
      "positive:  0.74218076\n",
      "negative:  0.72195804\n",
      "positive:  0.73028135\n",
      "negative:  0.7010739\n",
      "positive:  0.7145568\n",
      "negative:  0.71693486\n"
     ]
    }
   ],
   "source": [
    "for i in range(10):\n",
    "    anchor = sample[0][0][i]\n",
    "    positive = sample[0][1][i]\n",
    "    negative = sample[0][2][i]\n",
    "    \n",
    "    anchor_embed = base_model_vgg_16(np.expand_dims(anchor, axis=0))\n",
    "    positive_embed = base_model_vgg_16(np.expand_dims(positive, axis=0))\n",
    "    negative_embed = base_model_vgg_16(np.expand_dims(negative, axis=0))\n",
    "    \n",
    "    positive_similarity = (cosine_similarity(anchor_embed, positive_embed)).numpy()\n",
    "    negative_similarity = (cosine_similarity(anchor_embed, negative_embed)).numpy()\n",
    "    \n",
    "    print(\"positive: \", positive_similarity)\n",
    "    print(\"negative: \", negative_similarity)"
   ]
  },
  {
   "cell_type": "code",
   "execution_count": 124,
   "id": "d217af90-21e0-419c-8a77-2a6a4c7372d8",
   "metadata": {},
   "outputs": [],
   "source": [
    "import matplotlib.pyplot as plt"
   ]
  },
  {
   "cell_type": "code",
   "execution_count": 131,
   "id": "2211d163-a278-4551-9cce-5bc815ab5316",
   "metadata": {},
   "outputs": [
    {
     "data": {
      "text/plain": [
       "<matplotlib.image.AxesImage at 0x7fba9c4283c8>"
      ]
     },
     "execution_count": 131,
     "metadata": {},
     "output_type": "execute_result"
    },
    {
     "data": {
      "image/png": "[encoded data removed]",
      "text/plain": [
       "<Figure size 432x288 with 1 Axes>"
      ]
     },
     "metadata": {
      "needs_background": "light"
     },
     "output_type": "display_data"
    }
   ],
   "source": [
    "plt.imshow(sample[0][0][3])"
   ]
  },
  {
   "cell_type": "code",
   "execution_count": null,
   "id": "abb49416-7127-43bf-b742-efa97bfc1a19",
   "metadata": {},
   "outputs": [],
   "source": []
  }
 ],
 "metadata": {
  "kernelspec": {
   "display_name": "Python 3",
   "language": "python",
   "name": "python3"
  },
  "language_info": {
   "codemirror_mode": {
    "name": "ipython",
    "version": 3
   },
   "file_extension": ".py",
   "mimetype": "text/x-python",
   "name": "python",
   "nbconvert_exporter": "python",
   "pygments_lexer": "ipython3",
   "version": "3.6.9"
  }
 },
 "nbformat": 4,
 "nbformat_minor": 5
}
