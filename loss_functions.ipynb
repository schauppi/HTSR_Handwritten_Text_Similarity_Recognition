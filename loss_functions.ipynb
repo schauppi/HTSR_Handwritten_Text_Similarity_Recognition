{
 "cells": [
  {
   "cell_type": "code",
   "execution_count": null,
   "id": "f55769f0",
   "metadata": {},
   "outputs": [],
   "source": [
    "import tensorflow as tf\n",
    "from tensorflow.keras import backend as K"
   ]
  },
  {
   "cell_type": "code",
   "execution_count": 1,
   "id": "adf68d80",
   "metadata": {},
   "outputs": [],
   "source": [
    "def contrastive_loss(y, preds, margin=1):\n",
    "    \"\"\"\n",
    "    Calculates the contrastive loss\n",
    "    \n",
    "    Arguments:\n",
    "        y: List of labels\n",
    "        preds: List of predicted labels with same length as y\n",
    "        margin: Intergervalue, defines the baseline distance for which pairs should be classified as dissimilar\n",
    "    \n",
    "    Returns:\n",
    "        A tensor containing constrastive loss\n",
    "    \"\"\"\n",
    "    y = tf.cast(y, preds.dtype)\n",
    "    squaredPreds = K.square(preds)\n",
    "    squaredMargin = K.square(K.maximum(margin - preds, 0))\n",
    "    loss = K.mean(y * squaredPreds + (1 - y) * squaredMargin)\n",
    "    return loss"
   ]
  }
 ],
 "metadata": {
  "kernelspec": {
   "display_name": "Python 3",
   "language": "python",
   "name": "python3"
  },
  "language_info": {
   "codemirror_mode": {
    "name": "ipython",
    "version": 3
   },
   "file_extension": ".py",
   "mimetype": "text/x-python",
   "name": "python",
   "nbconvert_exporter": "python",
   "pygments_lexer": "ipython3",
   "version": "3.6.9"
  }
 },
 "nbformat": 4,
 "nbformat_minor": 5
}
