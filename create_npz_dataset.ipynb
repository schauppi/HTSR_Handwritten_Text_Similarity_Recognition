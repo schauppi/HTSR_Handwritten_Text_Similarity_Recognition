{
 "cells": [
  {
   "cell_type": "code",
   "execution_count": 1,
   "id": "53045cf3",
   "metadata": {},
   "outputs": [],
   "source": [
    "import numpy as np\n",
    "from numpy import savez_compressed\n",
    "from numpy import load\n",
    "import random\n",
    "\n",
    "from paths import dataset_paths\n",
    "from helper_functions import resize_and_keep_ratio\n",
    "from helper_functions import crop_image\n",
    "from helper_functions import create_list"
   ]
  },
  {
   "cell_type": "code",
   "execution_count": 4,
   "id": "81cb5188",
   "metadata": {},
   "outputs": [],
   "source": [
    "def create_dataset(dataset_size, height, width, path):\n",
    "    \"\"\"\n",
    "    Function for creating an numpy arrays Dataset of image pairs with associated labels\n",
    "    \n",
    "    Arguments:\n",
    "        dataset_size: Number of image pairs in int format\n",
    "        \n",
    "        batch_size: desired batch size in int format\n",
    "        height: desired height of the cropped images\n",
    "        width: desired width of the cropped images\n",
    "        path: path to the data directories\n",
    "        \n",
    "    Returns:\n",
    "        An numpy array with the image pairs and labels\n",
    "    \"\"\"\n",
    "    #dataset size / 2 bc. we have two pairs per iteration\n",
    "    dataset_size = int(dataset_size / 2)\n",
    "    \n",
    "    #create empty arrays\n",
    "    x_genuine = np.zeros([dataset_size, 2, 1, height, width])\n",
    "    y_genuine = np.zeros([dataset_size, 1])\n",
    "    x_opposite = np.zeros([dataset_size, 2, 1, height, width])\n",
    "    y_opposite = np.zeros([dataset_size, 1])\n",
    "    \n",
    "    i = 0\n",
    "    \n",
    "    while i < dataset_size:\n",
    "        \n",
    "        #Select random folders for genuine and opposite pairs and save the paths to lists\n",
    "        list_genuine = create_list(random.choice(dataset_paths))\n",
    "        folder_opposite_1, folder_opposite_2 = random.sample(dataset_paths, 2)\n",
    "        list_opposite_1 = create_list(folder_opposite_1)\n",
    "        list_opposite_2 = create_list(folder_opposite_2)\n",
    "\n",
    "        #load the genuine and opposite images from disk and preprocess it\n",
    "        image_1_genuine = resize_and_keep_ratio(list_genuine, height)\n",
    "        image_2_genuine = resize_and_keep_ratio(list_genuine, height)\n",
    "        image_1_opposite = resize_and_keep_ratio(list_opposite_1, height)\n",
    "        image_2_opposite = resize_and_keep_ratio(list_opposite_2, height)\n",
    "        \n",
    "        #new cycle if one of the 4 loaded images is 0\n",
    "        if image_1_genuine == 0 or image_2_genuine == 0 or image_1_opposite == 0 or image_2_opposite == 0:\n",
    "            pass\n",
    "        else:\n",
    "            #crop and standardize the loaded images and save it in the arrays\n",
    "            x_genuine[i, 0, 0, :, :] = (crop_image(image_1_genuine, width)) / 255.\n",
    "            x_genuine[i, 1, 0, :, :] = (crop_image(image_2_genuine, width)) / 255.\n",
    "            y_genuine[i] = 1\n",
    "            \n",
    "            x_opposite[i, 0, 0, :, :] = (crop_image(image_1_opposite, width)) / 255.\n",
    "            x_opposite[i, 1, 0, :, :] = (crop_image(image_2_opposite, width)) / 255.\n",
    "            y_opposite[i] = 0\n",
    "        \n",
    "            i += 1\n",
    "            \n",
    "    #concatenate the arrays\n",
    "    x = np.concatenate([x_genuine, x_opposite], axis=0)\n",
    "    y = np.concatenate([y_genuine, y_opposite], axis=0)\n",
    "    #change the shape of array\n",
    "    x = np.einsum(\"abcde->abdec\", x)\n",
    "    x_1 = x[:, 0]\n",
    "    x_2 = x[:, 1]\n",
    "    \n",
    "    randomize = np.arange(len(x_1))\n",
    "    np.random.shuffle(randomize)\n",
    "    y = y[randomize]\n",
    "    x_1 = x_1[randomize]\n",
    "    x_2 = x_2[randomize]\n",
    "\n",
    "    return [x_1, x_2], y "
   ]
  },
  {
   "cell_type": "code",
   "execution_count": 5,
   "id": "073d390d",
   "metadata": {},
   "outputs": [
    {
     "name": "stdout",
     "output_type": "stream",
     "text": [
      "CPU times: user 1min 38s, sys: 56 s, total: 2min 34s\n",
      "Wall time: 2min 36s\n"
     ]
    }
   ],
   "source": [
    "%%time\n",
    "sample_size = 10000\n",
    "x, y = create_dataset(sample_size, 224, 224, dataset_paths)"
   ]
  },
  {
   "cell_type": "code",
   "execution_count": 6,
   "id": "b0329ef8",
   "metadata": {},
   "outputs": [],
   "source": [
    "def save_arrays(x, y, sample_size):\n",
    "    \"\"\"\n",
    "    Function for saving numpy arrays in numpy .npz format on disc\n",
    "    \n",
    "    Arguments:\n",
    "        sample_size: Number of image pairs in int format\n",
    "        x: x data as numpy array\n",
    "        y: y data as numpy array\n",
    "    \n",
    "    Returns:\n",
    "        Print statement if saving is successfull\n",
    "    \"\"\"\n",
    "    \n",
    "    savez_compressed(f'npz_datasets/data_x_{sample_size}.npz', x)\n",
    "    savez_compressed(f'npz_datasets/data_y_{sample_size}.npz', y)\n",
    "    print(\"saved successfully\")"
   ]
  },
  {
   "cell_type": "code",
   "execution_count": null,
   "id": "170e4c69",
   "metadata": {},
   "outputs": [],
   "source": [
    "save_arrays(x, y, sample_size)"
   ]
  },
  {
   "cell_type": "code",
   "execution_count": 19,
   "id": "776483b6",
   "metadata": {},
   "outputs": [],
   "source": [
    "def load_arrays(path1, path2):\n",
    "    \"\"\"\n",
    "    Function for load .npz files from disc\n",
    "    \n",
    "    Arguments\n",
    "        path1: Path to file 1 in string format (x data)\n",
    "        path2: Path to file 2 in string format (y data)\n",
    "        \n",
    "    Returns:\n",
    "        x and y data in numpy array format\n",
    "    \"\"\"\n",
    "    dict_data_x = load(path1)\n",
    "    dict_data_y = load(path2)\n",
    "    x = dict_data_x['arr_0']\n",
    "    y = dict_data_y['arr_0']\n",
    "    return x, y"
   ]
  },
  {
   "cell_type": "code",
   "execution_count": 22,
   "id": "2c892982",
   "metadata": {},
   "outputs": [],
   "source": [
    "x, y = load_arrays(\"npz_datasets/data_x_5000.npz\", \"npz_datasets/data_y_5000.npz\")"
   ]
  }
 ],
 "metadata": {
  "kernelspec": {
   "display_name": "Python 3",
   "language": "python",
   "name": "python3"
  },
  "language_info": {
   "codemirror_mode": {
    "name": "ipython",
    "version": 3
   },
   "file_extension": ".py",
   "mimetype": "text/x-python",
   "name": "python",
   "nbconvert_exporter": "python",
   "pygments_lexer": "ipython3",
   "version": "3.6.9"
  }
 },
 "nbformat": 4,
 "nbformat_minor": 5
}
