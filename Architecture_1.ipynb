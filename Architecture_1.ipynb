{
 "cells": [
  {
   "cell_type": "markdown",
   "metadata": {
    "collapsed": true,
    "pycharm": {
     "name": "#%% md\n"
    }
   },
   "source": [
    "Paper: Siamese Neural Networks for One-shot Image Recognition\n",
    "http://www.cs.cmu.edu/~rsalakhu/papers/oneshot1.pdf"
   ]
  },
  {
   "cell_type": "markdown",
   "source": [
    "Images sizes: 40x40 / 75x75 / 105x105 / 120x120 / 150x150\n",
    "Images in RGB / Grayscale"
   ],
   "metadata": {
    "collapsed": false,
    "pycharm": {
     "name": "#%% md\n"
    }
   }
  },
  {
   "cell_type": "code",
   "execution_count": 11,
   "outputs": [
    {
     "name": "stdout",
     "output_type": "stream",
     "text": [
      "The autoreload extension is already loaded. To reload it, use:\n",
      "  %reload_ext autoreload\n"
     ]
    }
   ],
   "source": [
    "%load_ext autoreload\n",
    "%autoreload 2"
   ],
   "metadata": {
    "collapsed": false,
    "pycharm": {
     "name": "#%%\n"
    }
   }
  },
  {
   "cell_type": "code",
   "execution_count": 59,
   "outputs": [],
   "source": [
    "import tensorflow as tf\n",
    "from tensorflow import keras\n",
    "from tensorflow.keras import backend as K\n",
    "\n",
    "from helper_functions import create_tf_data_datasets_contrastive\n",
    "from helper_functions import plot_training"
   ],
   "metadata": {
    "collapsed": false,
    "pycharm": {
     "name": "#%%\n"
    }
   }
  },
  {
   "cell_type": "markdown",
   "source": [
    "## Original Model"
   ],
   "metadata": {
    "collapsed": false,
    "pycharm": {
     "name": "#%% md\n"
    }
   }
  },
  {
   "cell_type": "code",
   "execution_count": 61,
   "outputs": [],
   "source": [
    "anchor_images_path = \"npz_datasets/pairs_30k_224_224/anchor\"\n",
    "positive_images_path = \"npz_datasets/pairs_30k_224_224/positive\"\n",
    "width, height, channels = 105, 105, 3\n",
    "batch_size = 128\n",
    "train_dataset, val_dataset = create_tf_data_datasets_contrastive(anchor_images_path, positive_images_path, height, width, batch_size, rgb=True)"
   ],
   "metadata": {
    "collapsed": false,
    "pycharm": {
     "name": "#%%\n"
    }
   }
  },
  {
   "cell_type": "code",
   "execution_count": 62,
   "outputs": [],
   "source": [
    "def get_original_model(height, width, channels):\n",
    "\n",
    "    input = keras.layers.Input(shape=(height, width, channels))\n",
    "\n",
    "    x = keras.layers.Conv2D(64, (10,10), activation=\"relu\",\n",
    "                            kernel_initializer=keras.initializers.RandomNormal(mean=0, stddev=0.01),\n",
    "                            bias_initializer=keras.initializers.RandomNormal(mean=0, stddev=0.01),\n",
    "                            kernel_regularizer=keras.regularizers.l2(2e-4))(input)\n",
    "    x = keras.layers.MaxPooling2D(2,2)(x)\n",
    "\n",
    "    x = keras.layers.Conv2D(128, (7,7), activation=\"relu\",\n",
    "                            kernel_initializer=keras.initializers.RandomNormal(mean=0, stddev=0.01),\n",
    "                            bias_initializer=keras.initializers.RandomNormal(mean=0, stddev=0.01),\n",
    "                            kernel_regularizer=keras.regularizers.l2(2e-4))(x)\n",
    "    x = keras.layers.MaxPooling2D(2,2)(x)\n",
    "\n",
    "    x = keras.layers.Conv2D(128, (4,4), activation=\"relu\",\n",
    "                        kernel_initializer=keras.initializers.RandomNormal(mean=0, stddev=0.01),\n",
    "                        bias_initializer=keras.initializers.RandomNormal(mean=0, stddev=0.01),\n",
    "                        kernel_regularizer=keras.regularizers.l2(2e-4))(x)\n",
    "    x = keras.layers.MaxPooling2D(2,2)(x)\n",
    "\n",
    "    x = keras.layers.Conv2D(256, (4,4), activation=\"relu\",\n",
    "                        kernel_initializer=keras.initializers.RandomNormal(mean=0, stddev=0.01),\n",
    "                        bias_initializer=keras.initializers.RandomNormal(mean=0, stddev=0.01),\n",
    "                        kernel_regularizer=keras.regularizers.l2(2e-4))(x)\n",
    "\n",
    "    x = keras.layers.Flatten()(x)\n",
    "    output = keras.layers.Dense(4096, activation=\"sigmoid\", kernel_initializer=keras.initializers.RandomNormal(mean=0, stddev=0.2),\n",
    "                           bias_initializer=keras.initializers.RandomNormal(mean=0, stddev=0.01),\n",
    "                           kernel_regularizer=keras.regularizers.l2(1e-3))(x)\n",
    "\n",
    "    model = keras.models.Model(input, output)\n",
    "\n",
    "    return model"
   ],
   "metadata": {
    "collapsed": false,
    "pycharm": {
     "name": "#%%\n"
    }
   }
  },
  {
   "cell_type": "code",
   "execution_count": 63,
   "outputs": [],
   "source": [
    "original_model = get_original_model(height,width,channels)"
   ],
   "metadata": {
    "collapsed": false,
    "pycharm": {
     "name": "#%%\n"
    }
   }
  },
  {
   "cell_type": "code",
   "execution_count": 64,
   "outputs": [
    {
     "name": "stdout",
     "output_type": "stream",
     "text": [
      "Model: \"model_4\"\n",
      "_________________________________________________________________\n",
      "Layer (type)                 Output Shape              Param #   \n",
      "=================================================================\n",
      "input_24 (InputLayer)        [(None, 105, 105, 3)]     0         \n",
      "_________________________________________________________________\n",
      "conv2d_14 (Conv2D)           (None, 96, 96, 64)        19264     \n",
      "_________________________________________________________________\n",
      "max_pooling2d_9 (MaxPooling2 (None, 48, 48, 64)        0         \n",
      "_________________________________________________________________\n",
      "conv2d_15 (Conv2D)           (None, 42, 42, 128)       401536    \n",
      "_________________________________________________________________\n",
      "max_pooling2d_10 (MaxPooling (None, 21, 21, 128)       0         \n",
      "_________________________________________________________________\n",
      "conv2d_16 (Conv2D)           (None, 18, 18, 128)       262272    \n",
      "_________________________________________________________________\n",
      "max_pooling2d_11 (MaxPooling (None, 9, 9, 128)         0         \n",
      "_________________________________________________________________\n",
      "conv2d_17 (Conv2D)           (None, 6, 6, 256)         524544    \n",
      "_________________________________________________________________\n",
      "flatten_3 (Flatten)          (None, 9216)              0         \n",
      "_________________________________________________________________\n",
      "dense_4 (Dense)              (None, 4096)              37752832  \n",
      "=================================================================\n",
      "Total params: 38,960,448\n",
      "Trainable params: 38,960,448\n",
      "Non-trainable params: 0\n",
      "_________________________________________________________________\n"
     ]
    }
   ],
   "source": [
    "original_model.summary()"
   ],
   "metadata": {
    "collapsed": false,
    "pycharm": {
     "name": "#%%\n"
    }
   }
  },
  {
   "cell_type": "code",
   "execution_count": 65,
   "outputs": [],
   "source": [
    "left_input = keras.layers.Input(shape=(height, width, channels))\n",
    "right_input = keras.layers.Input(shape=(height, width, channels))\n",
    "\n",
    "encoded_l = original_model(left_input)\n",
    "encoded_r = original_model(right_input)\n",
    "\n",
    "L1_layer = keras.layers.Lambda(lambda tensors: K.abs(tensors[0] - tensors[1]))\n",
    "merge_layer = L1_layer([encoded_l, encoded_r])\n",
    "\n",
    "prediction = keras.layers.Dense(1, activation=\"sigmoid\")(merge_layer)\n",
    "\n",
    "original_siamese_model = keras.models.Model([left_input, right_input], outputs=prediction)"
   ],
   "metadata": {
    "collapsed": false,
    "pycharm": {
     "name": "#%%\n"
    }
   }
  },
  {
   "cell_type": "code",
   "execution_count": 66,
   "outputs": [],
   "source": [
    "original_siamese_model.compile(loss=\"binary_crossentropy\",\n",
    "                               optimizer=keras.optimizers.SGD(learning_rate=0.001, momentum=0.5), metrics=[\"accuracy\"])"
   ],
   "metadata": {
    "collapsed": false,
    "pycharm": {
     "name": "#%%\n"
    }
   }
  },
  {
   "cell_type": "code",
   "execution_count": null,
   "outputs": [
    {
     "name": "stdout",
     "output_type": "stream",
     "text": [
      "Epoch 1/100\n",
      "166/166 [==============================] - 15s 79ms/step - loss: 1509.9143 - accuracy: 0.5129 - val_loss: 1508.9049 - val_accuracy: 0.5153\n",
      "Epoch 2/100\n",
      "166/166 [==============================] - 13s 72ms/step - loss: 1507.9109 - accuracy: 0.5152 - val_loss: 1506.9022 - val_accuracy: 0.5096\n",
      "Epoch 3/100\n",
      "166/166 [==============================] - 13s 73ms/step - loss: 1505.9102 - accuracy: 0.5222 - val_loss: 1504.9026 - val_accuracy: 0.5288\n",
      "Epoch 4/100\n",
      "166/166 [==============================] - 13s 73ms/step - loss: 1503.9116 - accuracy: 0.5228 - val_loss: 1502.9055 - val_accuracy: 0.5326\n",
      "Epoch 5/100\n",
      "166/166 [==============================] - 13s 72ms/step - loss: 1501.9149 - accuracy: 0.5364 - val_loss: 1500.9100 - val_accuracy: 0.5300\n",
      "Epoch 6/100\n",
      "166/166 [==============================] - 13s 73ms/step - loss: 1499.9215 - accuracy: 0.5276 - val_loss: 1498.9170 - val_accuracy: 0.5251\n",
      "Epoch 7/100\n",
      "166/166 [==============================] - 13s 72ms/step - loss: 1497.9290 - accuracy: 0.5291 - val_loss: 1496.9277 - val_accuracy: 0.5255\n",
      "Epoch 8/100\n",
      "166/166 [==============================] - 13s 73ms/step - loss: 1495.9402 - accuracy: 0.5320 - val_loss: 1494.9382 - val_accuracy: 0.5388\n",
      "Epoch 9/100\n",
      "166/166 [==============================] - 13s 72ms/step - loss: 1493.9525 - accuracy: 0.5368 - val_loss: 1492.9532 - val_accuracy: 0.5353\n",
      "Epoch 10/100\n",
      "166/166 [==============================] - 13s 73ms/step - loss: 1491.9684 - accuracy: 0.5462 - val_loss: 1490.9691 - val_accuracy: 0.5543\n",
      "Epoch 11/100\n",
      "166/166 [==============================] - 13s 72ms/step - loss: 1489.9868 - accuracy: 0.5522 - val_loss: 1488.9882 - val_accuracy: 0.5726\n",
      "Epoch 12/100\n",
      "166/166 [==============================] - 13s 73ms/step - loss: 1488.0083 - accuracy: 0.5646 - val_loss: 1487.0109 - val_accuracy: 0.5735\n",
      "Epoch 13/100\n",
      "166/166 [==============================] - 13s 72ms/step - loss: 1486.0319 - accuracy: 0.5728 - val_loss: 1485.0360 - val_accuracy: 0.5828\n",
      "Epoch 14/100\n",
      "166/166 [==============================] - 13s 73ms/step - loss: 1484.0587 - accuracy: 0.5809 - val_loss: 1483.0645 - val_accuracy: 0.5850\n",
      "Epoch 15/100\n",
      "166/166 [==============================] - 13s 73ms/step - loss: 1482.0870 - accuracy: 0.5881 - val_loss: 1481.0955 - val_accuracy: 0.5935\n",
      "Epoch 16/100\n",
      "166/166 [==============================] - 13s 72ms/step - loss: 1480.1185 - accuracy: 0.5922 - val_loss: 1479.1261 - val_accuracy: 0.5963\n",
      "Epoch 17/100\n",
      "166/166 [==============================] - 13s 73ms/step - loss: 1478.1514 - accuracy: 0.5978 - val_loss: 1477.1628 - val_accuracy: 0.5975\n",
      "Epoch 18/100\n",
      "166/166 [==============================] - 13s 73ms/step - loss: 1476.1879 - accuracy: 0.6007 - val_loss: 1475.2020 - val_accuracy: 0.6005\n",
      "Epoch 19/100\n",
      "166/166 [==============================] - 13s 73ms/step - loss: 1474.2266 - accuracy: 0.6115 - val_loss: 1473.2391 - val_accuracy: 0.6141\n",
      "Epoch 20/100\n",
      "166/166 [==============================] - 13s 72ms/step - loss: 1472.2659 - accuracy: 0.6193 - val_loss: 1471.2750 - val_accuracy: 0.6290\n",
      "Epoch 21/100\n",
      "166/166 [==============================] - 13s 73ms/step - loss: 1470.3081 - accuracy: 0.6262 - val_loss: 1469.3226 - val_accuracy: 0.6316\n",
      "Epoch 22/100\n",
      "166/166 [==============================] - 13s 72ms/step - loss: 1468.3518 - accuracy: 0.6345 - val_loss: 1467.3711 - val_accuracy: 0.6322\n",
      "Epoch 23/100\n",
      "166/166 [==============================] - 13s 72ms/step - loss: 1466.3987 - accuracy: 0.6407 - val_loss: 1465.4147 - val_accuracy: 0.6484\n",
      "Epoch 24/100\n",
      "166/166 [==============================] - 13s 72ms/step - loss: 1464.4471 - accuracy: 0.6446 - val_loss: 1463.4592 - val_accuracy: 0.6540\n",
      "Epoch 25/100\n",
      "166/166 [==============================] - 13s 72ms/step - loss: 1462.4950 - accuracy: 0.6559 - val_loss: 1461.5132 - val_accuracy: 0.6604\n",
      "Epoch 26/100\n",
      "166/166 [==============================] - 13s 72ms/step - loss: 1460.5446 - accuracy: 0.6696 - val_loss: 1459.5648 - val_accuracy: 0.6691\n",
      "Epoch 27/100\n",
      "166/166 [==============================] - 13s 72ms/step - loss: 1458.5962 - accuracy: 0.6811 - val_loss: 1457.6194 - val_accuracy: 0.6780\n",
      "Epoch 28/100\n",
      "166/166 [==============================] - 13s 72ms/step - loss: 1456.6538 - accuracy: 0.6904 - val_loss: 1455.6704 - val_accuracy: 0.6987\n",
      "Epoch 29/100\n",
      "166/166 [==============================] - 13s 72ms/step - loss: 1454.7152 - accuracy: 0.6969 - val_loss: 1453.7487 - val_accuracy: 0.6902\n",
      "Epoch 30/100\n",
      "166/166 [==============================] - 13s 72ms/step - loss: 1452.7793 - accuracy: 0.7014 - val_loss: 1451.8007 - val_accuracy: 0.7025\n",
      "Epoch 31/100\n",
      "166/166 [==============================] - 13s 72ms/step - loss: 1450.8433 - accuracy: 0.7087 - val_loss: 1449.8665 - val_accuracy: 0.7113\n",
      "Epoch 32/100\n",
      "166/166 [==============================] - 13s 72ms/step - loss: 1448.9165 - accuracy: 0.7066 - val_loss: 1447.9387 - val_accuracy: 0.7123\n",
      "Epoch 33/100\n",
      "166/166 [==============================] - 13s 72ms/step - loss: 1446.9878 - accuracy: 0.7136 - val_loss: 1446.0135 - val_accuracy: 0.7223\n",
      "Epoch 34/100\n",
      "166/166 [==============================] - 13s 73ms/step - loss: 1445.0612 - accuracy: 0.7202 - val_loss: 1444.0900 - val_accuracy: 0.7196\n",
      "Epoch 35/100\n",
      "166/166 [==============================] - 13s 72ms/step - loss: 1443.1447 - accuracy: 0.7187 - val_loss: 1442.1667 - val_accuracy: 0.7266\n",
      "Epoch 36/100\n",
      "166/166 [==============================] - 13s 73ms/step - loss: 1441.2211 - accuracy: 0.7230 - val_loss: 1440.2845 - val_accuracy: 0.7055\n",
      "Epoch 37/100\n",
      "166/166 [==============================] - 13s 73ms/step - loss: 1439.3138 - accuracy: 0.7237 - val_loss: 1438.3408 - val_accuracy: 0.7283\n",
      "Epoch 38/100\n",
      "166/166 [==============================] - 13s 72ms/step - loss: 1437.4766 - accuracy: 0.6205 - val_loss: 1436.5938 - val_accuracy: 0.5013\n",
      "Epoch 39/100\n",
      "166/166 [==============================] - 13s 73ms/step - loss: 1435.6405 - accuracy: 0.5171 - val_loss: 1434.6770 - val_accuracy: 0.5368\n",
      "Epoch 40/100\n",
      "166/166 [==============================] - 13s 72ms/step - loss: 1433.7257 - accuracy: 0.5647 - val_loss: 1432.7614 - val_accuracy: 0.5831\n",
      "Epoch 41/100\n",
      "166/166 [==============================] - 13s 72ms/step - loss: 1431.8171 - accuracy: 0.5919 - val_loss: 1430.8578 - val_accuracy: 0.5926\n",
      "Epoch 42/100\n",
      "166/166 [==============================] - 13s 73ms/step - loss: 1429.9136 - accuracy: 0.5981 - val_loss: 1428.9564 - val_accuracy: 0.6067\n",
      "Epoch 43/100\n",
      "166/166 [==============================] - 13s 72ms/step - loss: 1428.0138 - accuracy: 0.6055 - val_loss: 1427.0583 - val_accuracy: 0.6088\n",
      "Epoch 44/100\n",
      "166/166 [==============================] - 13s 73ms/step - loss: 1426.1163 - accuracy: 0.6120 - val_loss: 1425.1597 - val_accuracy: 0.6150\n",
      "Epoch 45/100\n",
      "166/166 [==============================] - 13s 72ms/step - loss: 1424.2198 - accuracy: 0.6200 - val_loss: 1423.2667 - val_accuracy: 0.6182\n",
      "Epoch 46/100\n",
      "166/166 [==============================] - 13s 73ms/step - loss: 1422.3215 - accuracy: 0.6380 - val_loss: 1421.3602 - val_accuracy: 0.6699\n",
      "Epoch 47/100\n",
      "166/166 [==============================] - 13s 73ms/step - loss: 1420.4154 - accuracy: 0.6767 - val_loss: 1419.4517 - val_accuracy: 0.6923\n",
      "Epoch 48/100\n",
      "166/166 [==============================] - 13s 72ms/step - loss: 1418.5067 - accuracy: 0.6811 - val_loss: 1417.5494 - val_accuracy: 0.6836\n",
      "Epoch 49/100\n",
      "166/166 [==============================] - 13s 72ms/step - loss: 1416.6099 - accuracy: 0.6845 - val_loss: 1415.6509 - val_accuracy: 0.6812\n",
      "Epoch 50/100\n",
      "166/166 [==============================] - 13s 72ms/step - loss: 1414.7202 - accuracy: 0.6939 - val_loss: 1413.7781 - val_accuracy: 0.6921\n",
      "Epoch 51/100\n",
      "166/166 [==============================] - 13s 72ms/step - loss: 1412.8340 - accuracy: 0.7065 - val_loss: 1411.8851 - val_accuracy: 0.7110\n",
      "Epoch 52/100\n",
      "166/166 [==============================] - 13s 72ms/step - loss: 1410.9513 - accuracy: 0.7115 - val_loss: 1410.0028 - val_accuracy: 0.7240\n",
      "Epoch 53/100\n",
      " 31/166 [====>.........................] - ETA: 7s - loss: 1409.8313 - accuracy: 0.7218"
     ]
    }
   ],
   "source": [
    "history_original_siamese_model = original_siamese_model.fit(train_dataset, epochs=100, validation_data=val_dataset)"
   ],
   "metadata": {
    "collapsed": false,
    "pycharm": {
     "name": "#%%\n",
     "is_executing": true
    }
   }
  },
  {
   "cell_type": "code",
   "execution_count": 70,
   "outputs": [
    {
     "name": "stdout",
     "output_type": "stream",
     "text": [
      "42/42 [==============================] - 2s 24ms/step - loss: 1322.8503 - accuracy: 0.7868\n"
     ]
    },
    {
     "data": {
      "text/plain": "[1322.850341796875, 0.7867646813392639]"
     },
     "execution_count": 70,
     "metadata": {},
     "output_type": "execute_result"
    }
   ],
   "source": [
    "original_siamese_model.evaluate(val_dataset)"
   ],
   "metadata": {
    "collapsed": false,
    "pycharm": {
     "name": "#%%\n"
    }
   }
  },
  {
   "cell_type": "code",
   "execution_count": 71,
   "outputs": [
    {
     "data": {
      "text/plain": "<Figure size 432x288 with 1 Axes>",
      "image/png": "[encoded data removed]"
     },
     "metadata": {},
     "output_type": "display_data"
    }
   ],
   "source": [
    "plot_training(history_original_siamese_model)"
   ],
   "metadata": {
    "collapsed": false,
    "pycharm": {
     "name": "#%%\n"
    }
   }
  },
  {
   "cell_type": "code",
   "execution_count": null,
   "outputs": [],
   "source": [],
   "metadata": {
    "collapsed": false,
    "pycharm": {
     "name": "#%%\n"
    }
   }
  }
 ],
 "metadata": {
  "kernelspec": {
   "display_name": "Python 3",
   "language": "python",
   "name": "python3"
  },
  "language_info": {
   "codemirror_mode": {
    "name": "ipython",
    "version": 2
   },
   "file_extension": ".py",
   "mimetype": "text/x-python",
   "name": "python",
   "nbconvert_exporter": "python",
   "pygments_lexer": "ipython2",
   "version": "2.7.6"
  }
 },
 "nbformat": 4,
 "nbformat_minor": 0
}