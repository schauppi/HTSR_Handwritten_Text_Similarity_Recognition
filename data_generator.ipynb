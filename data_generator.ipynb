{
 "cells": [
  {
   "cell_type": "code",
   "execution_count": 10,
   "id": "2b9eafb8",
   "metadata": {},
   "outputs": [],
   "source": [
    "import numpy as np\n",
    "from helper_functions import resize_and_keep_ratio, crop_image\n",
    "from paths import dataset_paths\n",
    "import random"
   ]
  },
  {
   "cell_type": "code",
   "execution_count": 194,
   "id": "8915b580",
   "metadata": {},
   "outputs": [],
   "source": [
    "def data_generator(batch_size=256):\n",
    "    \"\"\"\n",
    "    Data Generator for training process in the .fit function. Yields x and y pair with batch size every epoch\n",
    "    \n",
    "    Arguments:\n",
    "        batch_size: desired batch size in int format\n",
    "        \n",
    "    Returns:\n",
    "        Batch of siamese image pairs x with their label y\n",
    "    \"\"\"\n",
    "    height, width = 224, 224\n",
    "    path = dataset_paths\n",
    "    while True:\n",
    "        x, y = create_batch(batch_size, height, width, path)\n",
    "        yield x, y"
   ]
  },
  {
   "cell_type": "code",
   "execution_count": 12,
   "id": "6d8cbdce",
   "metadata": {},
   "outputs": [],
   "source": [
    "def create_list(folder):\n",
    "    \"\"\"\n",
    "    Creates an list with an item inside\n",
    "    \n",
    "    Arguments:\n",
    "        folder: Desired item to get into list\n",
    "        \n",
    "    Returns:\n",
    "        List with the folder object inside\n",
    "    \"\"\"\n",
    "    folder_list = []\n",
    "    folder_list.append(folder)\n",
    "    return folder_list"
   ]
  },
  {
   "cell_type": "code",
   "execution_count": 271,
   "id": "55378337",
   "metadata": {},
   "outputs": [],
   "source": [
    "def create_batch(batch_size, height, width, path):\n",
    "    \"\"\"\n",
    "    Function to create siamese pairs. Randomly takes genuine and opposite pairs from data directory, scales it, croppe out an image piece and normalizes it.\n",
    "    \n",
    "    Arguments:\n",
    "        batch_size: desired batch size in int format\n",
    "        height: desired height of the cropped images\n",
    "        width: desired width of the cropped images\n",
    "        path: path to the data directories\n",
    "        \n",
    "    Returns:\n",
    "        Three shuffled arrays in format ((x_1, x_2), y). x_1 and x_2 are the cropped images and y is the labels array\n",
    "    \"\"\"\n",
    "    #batch size / 2 bc. we have two pairs per iteration\n",
    "    batch_size = int(batch_size / 2)\n",
    "    \n",
    "    #create empty arrays\n",
    "    x_genuine = np.zeros([batch_size, 2, 1, height, width])\n",
    "    y_genuine = np.zeros([batch_size, 1])\n",
    "    x_opposite = np.zeros([batch_size, 2, 1, height, width])\n",
    "    y_opposite = np.zeros([batch_size, 1])\n",
    "    \n",
    "    i = 0\n",
    "    \n",
    "    while i < batch_size:\n",
    "        \n",
    "        #Select random folders for genuine and opposite pairs and save the paths to lists\n",
    "        list_genuine = create_list(random.choice(dataset_paths))\n",
    "        folder_opposite_1, folder_opposite_2 = random.sample(dataset_paths, 2)\n",
    "        list_opposite_1 = create_list(folder_opposite_1)\n",
    "        list_opposite_2 = create_list(folder_opposite_2)\n",
    "        \n",
    "        #load the genuine and opposite images from disk and preprocess it\n",
    "        image_1_genuine = resize_and_keep_ratio(list_genuine, height)\n",
    "        image_2_genuine = resize_and_keep_ratio(list_genuine, height)\n",
    "        image_1_opposite = resize_and_keep_ratio(list_opposite_1, height)\n",
    "        image_2_opposite = resize_and_keep_ratio(list_opposite_2, height)\n",
    "        \n",
    "        #new cycle if one of the 4 loaded images is 0\n",
    "        if image_1_genuine == 0 or image_2_genuine == 0 or image_1_opposite == 0 or image_2_opposite == 0:\n",
    "            pass\n",
    "        else:\n",
    "            #crop and standardize the loaded images and save it in the arrays\n",
    "            x_genuine[i, 0, 0, :, :] = (crop_image(image_1_genuine, width)) / 255.\n",
    "            x_genuine[i, 1, 0, :, :] = (crop_image(image_2_genuine, width)) / 255.\n",
    "            y_genuine[i] = 1\n",
    "            \n",
    "            x_opposite[i, 0, 0, :, :] = (crop_image(image_1_opposite, width)) / 255.\n",
    "            x_opposite[i, 1, 0, :, :] = (crop_image(image_2_opposite, width)) / 255.\n",
    "            y_opposite[i] = 0\n",
    "        \n",
    "            i += 1\n",
    "    #concatenate the arrays\n",
    "    x = np.concatenate([x_genuine, x_opposite], axis=0)\n",
    "    y = np.concatenate([y_genuine, y_opposite], axis=0)\n",
    "    #change the shape of array\n",
    "    x = np.einsum(\"abcde->abdec\", x)\n",
    "    x_1 = x[:, 0]\n",
    "    x_2 = x[:, 1]\n",
    "    \n",
    "    randomize = np.arange(len(x_1))\n",
    "    np.random.shuffle(randomize)\n",
    "    y = y[randomize]\n",
    "    x_1 = x_1[randomize]\n",
    "    x_2 = x_2[randomize]\n",
    "\n",
    "    return [x_1, x_2], y "
   ]
  },
  {
   "cell_type": "code",
   "execution_count": 272,
   "id": "663e87c0",
   "metadata": {},
   "outputs": [
    {
     "name": "stdout",
     "output_type": "stream",
     "text": [
      "CPU times: user 2.51 s, sys: 1.48 s, total: 3.99 s\n",
      "Wall time: 4.06 s\n"
     ]
    }
   ],
   "source": [
    "%%time\n",
    "x, y = create_batch(256, 224, 224, dataset_paths)"
   ]
  },
  {
   "cell_type": "code",
   "execution_count": 219,
   "id": "58ff1da5",
   "metadata": {},
   "outputs": [],
   "source": [
    "gen = data_generator()"
   ]
  },
  {
   "cell_type": "code",
   "execution_count": 247,
   "id": "496283eb",
   "metadata": {},
   "outputs": [],
   "source": [
    "x, y = next(gen)"
   ]
  }
 ],
 "metadata": {
  "kernelspec": {
   "display_name": "Python 3",
   "language": "python",
   "name": "python3"
  },
  "language_info": {
   "codemirror_mode": {
    "name": "ipython",
    "version": 3
   },
   "file_extension": ".py",
   "mimetype": "text/x-python",
   "name": "python",
   "nbconvert_exporter": "python",
   "pygments_lexer": "ipython3",
   "version": "3.6.9"
  }
 },
 "nbformat": 4,
 "nbformat_minor": 5
}
