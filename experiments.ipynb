{
 "cells": [
  {
   "cell_type": "code",
   "execution_count": 2,
   "id": "ecbd41d2-0312-46cb-9daf-13f1853d525b",
   "metadata": {},
   "outputs": [],
   "source": [
    "%load_ext autoreload\n",
    "%autoreload 2"
   ]
  },
  {
   "cell_type": "code",
   "execution_count": 243,
   "id": "085a9386",
   "metadata": {},
   "outputs": [],
   "source": [
    "import tensorflow as tf\n",
    "from tensorflow import keras\n",
    "from tensorflow.keras import backend as K\n",
    "import pandas as pd\n",
    "\n",
    "from helper_functions import euclidean_distance\n",
    "from helper_functions import contrastive_loss\n",
    "from helper_functions import load_arrays\n",
    "from helper_functions import plot_training\n",
    "from helper_functions import load_and_split_data\n",
    "from helper_functions import plot_confusion_matrix\n",
    "from helper_functions import get_model_predictions\n",
    "from helper_functions import plot_roc_curve\n",
    "from helper_functions import plot_prec_rec_curve\n",
    "from helper_functions import recall_f\n",
    "from helper_functions import precision_f\n",
    "from helper_functions import f1\n",
    "from helper_functions import evaluate_preds"
   ]
  },
  {
   "cell_type": "markdown",
   "id": "66c644c0",
   "metadata": {},
   "source": [
    "# Load and prepare Data"
   ]
  },
  {
   "cell_type": "markdown",
   "id": "534b17dd",
   "metadata": {},
   "source": [
    "### Load and create fast input pipeline with tf.data.dataset"
   ]
  },
  {
   "cell_type": "code",
   "execution_count": 3,
   "id": "d91cf3d7",
   "metadata": {},
   "outputs": [
    {
     "name": "stdout",
     "output_type": "stream",
     "text": [
      "CPU times: user 11.8 s, sys: 2.88 s, total: 14.7 s\n",
      "Wall time: 14.7 s\n"
     ]
    }
   ],
   "source": [
    "%%time\n",
    "train_dataset, test_dataset, val_dataset = load_and_split_data(\"npz_datasets/data_x_10000.npz\", \"npz_datasets/data_y_10000.npz\", split_size=80, batch_size=256)"
   ]
  },
  {
   "cell_type": "code",
   "execution_count": 4,
   "id": "d3fb6f55-0c02-46fd-88c0-8ee9d18510e4",
   "metadata": {},
   "outputs": [
    {
     "name": "stdout",
     "output_type": "stream",
     "text": [
      "CPU times: user 53.3 s, sys: 13.3 s, total: 1min 6s\n",
      "Wall time: 1min 6s\n"
     ]
    }
   ],
   "source": [
    "%%time\n",
    "train_dataset_rgb, test_dataset_rgb, val_dataset_rgb = load_and_split_data(\"npz_datasets/data_x_15000_rgb.npz\", \"npz_datasets/data_y_15000_rgb.npz\", split_size=80, batch_size=256)"
   ]
  },
  {
   "cell_type": "markdown",
   "id": "5982ae04",
   "metadata": {},
   "source": [
    "# Baseline Model"
   ]
  },
  {
   "cell_type": "code",
   "execution_count": 30,
   "id": "88e7c6b6",
   "metadata": {},
   "outputs": [],
   "source": [
    "img_width = 224\n",
    "img_height = 224"
   ]
  },
  {
   "cell_type": "code",
   "execution_count": 31,
   "id": "ad6bb6c7",
   "metadata": {},
   "outputs": [],
   "source": [
    "#Set seed\n",
    "tf.random.set_seed(42)\n",
    "\n",
    "#Build the model\n",
    "inputs = keras.layers.Input((img_width, img_height, 1))\n",
    "\n",
    "x = keras.layers.Conv2D(4, (3,3), activation=\"relu\")(inputs)\n",
    "x = keras.layers.MaxPool2D(3,3)(x)\n",
    "x = keras.layers.Conv2D(16, (3,3), activation=\"relu\")(x)\n",
    "x = keras.layers.MaxPool2D(3,3)(x)\n",
    "x = keras.layers.Conv2D(32, (3,3), activation=\"relu\")(x)\n",
    "x = keras.layers.MaxPool2D(3,3)(x)\n",
    "\n",
    "x = keras.layers.Flatten()(x)\n",
    "\n",
    "outputs = keras.layers.Dense(48, activation=\"relu\")(x)\n",
    "\n",
    "base_model_1 = keras.models.Model(inputs, outputs)"
   ]
  },
  {
   "cell_type": "code",
   "execution_count": 32,
   "id": "a083cf48",
   "metadata": {},
   "outputs": [
    {
     "name": "stdout",
     "output_type": "stream",
     "text": [
      "Model: \"model_5\"\n",
      "_________________________________________________________________\n",
      "Layer (type)                 Output Shape              Param #   \n",
      "=================================================================\n",
      "input_9 (InputLayer)         [(None, 224, 224, 1)]     0         \n",
      "_________________________________________________________________\n",
      "conv2d_6 (Conv2D)            (None, 222, 222, 4)       40        \n",
      "_________________________________________________________________\n",
      "max_pooling2d_6 (MaxPooling2 (None, 74, 74, 4)         0         \n",
      "_________________________________________________________________\n",
      "conv2d_7 (Conv2D)            (None, 72, 72, 16)        592       \n",
      "_________________________________________________________________\n",
      "max_pooling2d_7 (MaxPooling2 (None, 24, 24, 16)        0         \n",
      "_________________________________________________________________\n",
      "conv2d_8 (Conv2D)            (None, 22, 22, 32)        4640      \n",
      "_________________________________________________________________\n",
      "max_pooling2d_8 (MaxPooling2 (None, 7, 7, 32)          0         \n",
      "_________________________________________________________________\n",
      "flatten_2 (Flatten)          (None, 1568)              0         \n",
      "_________________________________________________________________\n",
      "dense_2 (Dense)              (None, 48)                75312     \n",
      "=================================================================\n",
      "Total params: 80,584\n",
      "Trainable params: 80,584\n",
      "Non-trainable params: 0\n",
      "_________________________________________________________________\n"
     ]
    }
   ],
   "source": [
    "base_model_1.summary()"
   ]
  },
  {
   "cell_type": "code",
   "execution_count": 33,
   "id": "41cf29d8",
   "metadata": {},
   "outputs": [],
   "source": [
    "#define inputs and ouputs\n",
    "img_a = keras.layers.Input((img_width, img_height, 1))\n",
    "img_b = keras.layers.Input((img_width, img_height, 1))\n",
    "\n",
    "feat_vect_a = base_model_1(img_a)\n",
    "feat_vect_b = base_model_1(img_b)\n",
    "\n",
    "distance = keras.layers.Lambda(euclidean_distance)([feat_vect_a, feat_vect_b])"
   ]
  },
  {
   "cell_type": "code",
   "execution_count": 34,
   "id": "447d279a",
   "metadata": {},
   "outputs": [],
   "source": [
    "#Compile the model \n",
    "model_1 = keras.models.Model(inputs=[img_a, img_b], outputs=distance)\n",
    "model_1.compile(loss=contrastive_loss, optimizer=\"Adam\", metrics=[\"accuracy\"])"
   ]
  },
  {
   "cell_type": "code",
   "execution_count": 35,
   "id": "a44b5680",
   "metadata": {},
   "outputs": [
    {
     "name": "stdout",
     "output_type": "stream",
     "text": [
      "Epoch 1/20\n",
      "32/32 [==============================] - 7s 208ms/step - loss: 0.3094 - accuracy: 0.4832 - val_loss: 0.2910 - val_accuracy: 0.4675\n",
      "Epoch 2/20\n",
      "32/32 [==============================] - 6s 204ms/step - loss: 0.2679 - accuracy: 0.5070 - val_loss: 0.2732 - val_accuracy: 0.4819\n",
      "Epoch 3/20\n",
      "32/32 [==============================] - 6s 203ms/step - loss: 0.2543 - accuracy: 0.5341 - val_loss: 0.2696 - val_accuracy: 0.4794\n",
      "Epoch 4/20\n",
      "32/32 [==============================] - 6s 203ms/step - loss: 0.2463 - accuracy: 0.5594 - val_loss: 0.2671 - val_accuracy: 0.4875\n",
      "Epoch 5/20\n",
      "32/32 [==============================] - 6s 204ms/step - loss: 0.2389 - accuracy: 0.5861 - val_loss: 0.2672 - val_accuracy: 0.4969\n",
      "Epoch 6/20\n",
      "32/32 [==============================] - 7s 205ms/step - loss: 0.2318 - accuracy: 0.6115 - val_loss: 0.2668 - val_accuracy: 0.4969\n",
      "Epoch 7/20\n",
      "32/32 [==============================] - 7s 205ms/step - loss: 0.2249 - accuracy: 0.6403 - val_loss: 0.2682 - val_accuracy: 0.4950\n",
      "Epoch 8/20\n",
      "32/32 [==============================] - 7s 204ms/step - loss: 0.2202 - accuracy: 0.6578 - val_loss: 0.2679 - val_accuracy: 0.4888\n",
      "Epoch 9/20\n",
      "32/32 [==============================] - 7s 206ms/step - loss: 0.2137 - accuracy: 0.6811 - val_loss: 0.2679 - val_accuracy: 0.5050\n",
      "Epoch 10/20\n",
      "32/32 [==============================] - 7s 207ms/step - loss: 0.2079 - accuracy: 0.7003 - val_loss: 0.2670 - val_accuracy: 0.4981\n",
      "Epoch 11/20\n",
      "32/32 [==============================] - 7s 206ms/step - loss: 0.2024 - accuracy: 0.7235 - val_loss: 0.2669 - val_accuracy: 0.5019\n",
      "Epoch 12/20\n",
      "32/32 [==============================] - 7s 204ms/step - loss: 0.1970 - accuracy: 0.7427 - val_loss: 0.2672 - val_accuracy: 0.5113\n",
      "Epoch 13/20\n",
      "32/32 [==============================] - 7s 205ms/step - loss: 0.1914 - accuracy: 0.7626 - val_loss: 0.2674 - val_accuracy: 0.5081\n",
      "Epoch 14/20\n",
      "32/32 [==============================] - 6s 203ms/step - loss: 0.1863 - accuracy: 0.7804 - val_loss: 0.2673 - val_accuracy: 0.5125\n",
      "Epoch 15/20\n",
      "32/32 [==============================] - 7s 205ms/step - loss: 0.1818 - accuracy: 0.7928 - val_loss: 0.2690 - val_accuracy: 0.5100\n",
      "Epoch 16/20\n",
      "32/32 [==============================] - 7s 204ms/step - loss: 0.1777 - accuracy: 0.8035 - val_loss: 0.2702 - val_accuracy: 0.5056\n",
      "Epoch 17/20\n",
      "32/32 [==============================] - 7s 204ms/step - loss: 0.1725 - accuracy: 0.8164 - val_loss: 0.2698 - val_accuracy: 0.5175\n",
      "Epoch 18/20\n",
      "32/32 [==============================] - 6s 203ms/step - loss: 0.1685 - accuracy: 0.8284 - val_loss: 0.2703 - val_accuracy: 0.5125\n",
      "Epoch 19/20\n",
      "32/32 [==============================] - 6s 203ms/step - loss: 0.1646 - accuracy: 0.8411 - val_loss: 0.2723 - val_accuracy: 0.5081\n",
      "Epoch 20/20\n",
      "32/32 [==============================] - 6s 204ms/step - loss: 0.1614 - accuracy: 0.8481 - val_loss: 0.2720 - val_accuracy: 0.5019\n"
     ]
    }
   ],
   "source": [
    "epochs=20\n",
    "history_model_1 = model_1.fit(train_dataset, validation_data=test_dataset, epochs=epochs)"
   ]
  },
  {
   "cell_type": "code",
   "execution_count": 36,
   "id": "7e4345a5",
   "metadata": {},
   "outputs": [
    {
     "data": {
      "image/png": "[encoded data removed]",
      "text/plain": [
       "<Figure size 432x288 with 1 Axes>"
      ]
     },
     "metadata": {},
     "output_type": "display_data"
    }
   ],
   "source": [
    "plot_training(history_model_1)"
   ]
  },
  {
   "cell_type": "markdown",
   "id": "b4ef0dce-06ba-4868-b768-5cbd84ef3821",
   "metadata": {},
   "source": [
    "# Evaluate the model"
   ]
  },
  {
   "cell_type": "code",
   "execution_count": 37,
   "id": "4034b0e1-ff11-4ba6-9908-85a92b596ecb",
   "metadata": {},
   "outputs": [
    {
     "name": "stdout",
     "output_type": "stream",
     "text": [
      "2/2 [==============================] - 0s 81ms/step - loss: 0.2797 - accuracy: 0.4925\n"
     ]
    },
    {
     "data": {
      "text/plain": [
       "[0.2797412574291229, 0.4925000071525574]"
      ]
     },
     "execution_count": 37,
     "metadata": {},
     "output_type": "execute_result"
    }
   ],
   "source": [
    "model_1.evaluate(val_dataset)"
   ]
  },
  {
   "cell_type": "markdown",
   "id": "ba794820-d54c-4377-b652-13cf9d07be33",
   "metadata": {},
   "source": [
    "# EfficientNetB0"
   ]
  },
  {
   "cell_type": "code",
   "execution_count": 179,
   "id": "7437cede-1017-4419-9e77-4cacfea2f36b",
   "metadata": {},
   "outputs": [],
   "source": [
    "img_width = 224\n",
    "img_height = 224"
   ]
  },
  {
   "cell_type": "code",
   "execution_count": 180,
   "id": "287d7630-857b-4bc7-88e7-9a532c5ccf29",
   "metadata": {},
   "outputs": [],
   "source": [
    "#Set seed\n",
    "tf.random.set_seed(42)\n",
    "\n",
    "base_model = tf.keras.applications.efficientnet.EfficientNetB0(include_top=False)\n",
    "base_model.trainable = False\n",
    "\n",
    "inputs = keras.layers.Input((img_width, img_height, 3))\n",
    "x = base_model(inputs, training=False)\n",
    "x = keras.layers.GlobalAveragePooling2D()(x)\n",
    "x = keras.layers.Dense(512, activation=\"relu\")(x)\n",
    "x = keras.layers.Dropout(0.1)(x)\n",
    "outputs = keras.layers.Dense(256, activation=\"relu\")(x)\n",
    "\n",
    "base_model_efficientnet_b0 = keras.models.Model(inputs, outputs)"
   ]
  },
  {
   "cell_type": "code",
   "execution_count": 181,
   "id": "7b869c7f-62ab-4d8a-b134-df017a3565ba",
   "metadata": {},
   "outputs": [
    {
     "name": "stdout",
     "output_type": "stream",
     "text": [
      "Model: \"model_41\"\n",
      "_________________________________________________________________\n",
      "Layer (type)                 Output Shape              Param #   \n",
      "=================================================================\n",
      "input_74 (InputLayer)        [(None, 224, 224, 3)]     0         \n",
      "_________________________________________________________________\n",
      "efficientnetb0 (Functional)  (None, None, None, 1280)  4049571   \n",
      "_________________________________________________________________\n",
      "global_average_pooling2d_18  (None, 1280)              0         \n",
      "_________________________________________________________________\n",
      "dense_56 (Dense)             (None, 512)               655872    \n",
      "_________________________________________________________________\n",
      "dropout_18 (Dropout)         (None, 512)               0         \n",
      "_________________________________________________________________\n",
      "dense_57 (Dense)             (None, 256)               131328    \n",
      "=================================================================\n",
      "Total params: 4,836,771\n",
      "Trainable params: 787,200\n",
      "Non-trainable params: 4,049,571\n",
      "_________________________________________________________________\n"
     ]
    }
   ],
   "source": [
    "base_model_efficientnet_b0.summary()"
   ]
  },
  {
   "cell_type": "code",
   "execution_count": 182,
   "id": "16733770-730a-4123-bdbf-5db11d822761",
   "metadata": {},
   "outputs": [],
   "source": [
    "#define inputs and ouputs\n",
    "img_a = keras.layers.Input((img_width, img_height, 3))\n",
    "img_b = keras.layers.Input((img_width, img_height, 3))\n",
    "\n",
    "feat_vect_a = base_model_efficientnet_b0(img_a)\n",
    "feat_vect_b = base_model_efficientnet_b0(img_b)\n",
    "\n",
    "distance = keras.layers.Lambda(euclidean_distance)([feat_vect_a, feat_vect_b])\n",
    "outputs = keras.layers.Dense(1, activation=\"sigmoid\")(distance)"
   ]
  },
  {
   "cell_type": "code",
   "execution_count": 183,
   "id": "51231f82-488d-49d6-9b4c-a9a9564ab44a",
   "metadata": {},
   "outputs": [],
   "source": [
    "#Compile the model \n",
    "model_efficientnet_b0 = keras.models.Model(inputs=[img_a, img_b], outputs=outputs)\n",
    "model_efficientnet_b0.compile(loss=contrastive_loss, optimizer=\"Adam\", metrics=[\"accuracy\", f1, precision_f, recall_f])"
   ]
  },
  {
   "cell_type": "code",
   "execution_count": 184,
   "id": "a64b5360-39dc-44d8-903b-13c525d3438e",
   "metadata": {},
   "outputs": [
    {
     "name": "stdout",
     "output_type": "stream",
     "text": [
      "Epoch 1/10\n",
      "47/47 [==============================] - 45s 843ms/step - loss: 0.2510 - accuracy: 0.4949 - f1: 0.4165 - precision_f: 0.3923 - recall_f: 0.5138 - val_loss: 0.2500 - val_accuracy: 0.5071 - val_f1: 0.0000e+00 - val_precision_f: 0.0000e+00 - val_recall_f: 0.0000e+00\n",
      "Epoch 2/10\n",
      "47/47 [==============================] - 38s 811ms/step - loss: 0.2500 - accuracy: 0.4958 - f1: 0.0458 - precision_f: 0.0875 - recall_f: 0.0313 - val_loss: 0.2500 - val_accuracy: 0.5071 - val_f1: 0.0000e+00 - val_precision_f: 0.0000e+00 - val_recall_f: 0.0000e+00\n",
      "Epoch 3/10\n",
      "47/47 [==============================] - 38s 809ms/step - loss: 0.2500 - accuracy: 0.4987 - f1: 0.0000e+00 - precision_f: 0.0000e+00 - recall_f: 0.0000e+00 - val_loss: 0.2500 - val_accuracy: 0.5071 - val_f1: 0.0000e+00 - val_precision_f: 0.0000e+00 - val_recall_f: 0.0000e+00\n",
      "Epoch 4/10\n",
      "47/47 [==============================] - 38s 811ms/step - loss: 0.2500 - accuracy: 0.4987 - f1: 0.0000e+00 - precision_f: 0.0000e+00 - recall_f: 0.0000e+00 - val_loss: 0.2500 - val_accuracy: 0.5071 - val_f1: 0.0000e+00 - val_precision_f: 0.0000e+00 - val_recall_f: 0.0000e+00\n",
      "Epoch 5/10\n",
      "47/47 [==============================] - 38s 811ms/step - loss: 0.2500 - accuracy: 0.5005 - f1: 0.0151 - precision_f: 0.0117 - recall_f: 0.0213 - val_loss: 0.2500 - val_accuracy: 0.4929 - val_f1: 0.6641 - val_precision_f: 0.4979 - val_recall_f: 1.0000\n",
      "Epoch 6/10\n",
      "47/47 [==============================] - 38s 812ms/step - loss: 0.2500 - accuracy: 0.5013 - f1: 0.6674 - precision_f: 0.5014 - recall_f: 1.0000 - val_loss: 0.2500 - val_accuracy: 0.4929 - val_f1: 0.6634 - val_precision_f: 0.4973 - val_recall_f: 1.0000\n",
      "Epoch 7/10\n",
      "47/47 [==============================] - 38s 812ms/step - loss: 0.2500 - accuracy: 0.5013 - f1: 0.6672 - precision_f: 0.5014 - recall_f: 1.0000 - val_loss: 0.2500 - val_accuracy: 0.4929 - val_f1: 0.6617 - val_precision_f: 0.4953 - val_recall_f: 1.0000\n",
      "Epoch 8/10\n",
      "47/47 [==============================] - 38s 812ms/step - loss: 0.2500 - accuracy: 0.5013 - f1: 0.6673 - precision_f: 0.5014 - recall_f: 1.0000 - val_loss: 0.2500 - val_accuracy: 0.4929 - val_f1: 0.6641 - val_precision_f: 0.4979 - val_recall_f: 1.0000\n",
      "Epoch 9/10\n",
      "47/47 [==============================] - 38s 812ms/step - loss: 0.2500 - accuracy: 0.5013 - f1: 0.6675 - precision_f: 0.5015 - recall_f: 1.0000 - val_loss: 0.2500 - val_accuracy: 0.4929 - val_f1: 0.6652 - val_precision_f: 0.4992 - val_recall_f: 1.0000\n",
      "Epoch 10/10\n",
      "47/47 [==============================] - 38s 811ms/step - loss: 0.2500 - accuracy: 0.5013 - f1: 0.6674 - precision_f: 0.5014 - recall_f: 1.0000 - val_loss: 0.2500 - val_accuracy: 0.4929 - val_f1: 0.6642 - val_precision_f: 0.4986 - val_recall_f: 1.0000\n"
     ]
    }
   ],
   "source": [
    "epochs=10\n",
    "history_model_efficientnet_b0 = model_efficientnet_b0.fit(train_dataset_rgb, validation_data=test_dataset_rgb, epochs=epochs)"
   ]
  },
  {
   "cell_type": "code",
   "execution_count": 185,
   "id": "b41930bb-1fd5-408d-9efb-776fd332bbf7",
   "metadata": {},
   "outputs": [
    {
     "data": {
      "image/png": "[encoded data removed]",
      "text/plain": [
       "<Figure size 432x288 with 1 Axes>"
      ]
     },
     "metadata": {},
     "output_type": "display_data"
    }
   ],
   "source": [
    "plot_training(history_model_efficientnet_b0)"
   ]
  },
  {
   "cell_type": "code",
   "execution_count": 186,
   "id": "2adb06db-6990-49c2-8612-9ff87d828496",
   "metadata": {},
   "outputs": [
    {
     "name": "stdout",
     "output_type": "stream",
     "text": [
      "3/3 [==============================] - 2s 421ms/step - loss: 0.2500 - accuracy: 0.5017 - f1: 0.6759 - precision_f: 0.5112 - recall_f: 1.0000\n"
     ]
    }
   ],
   "source": [
    "efficientnet_b0_results = evaluate_preds(model_efficientnet_b0, val_dataset_rgb)"
   ]
  },
  {
   "cell_type": "markdown",
   "id": "82a85b11-8909-4121-862b-bf31df9726d8",
   "metadata": {},
   "source": [
    "# VGG 16"
   ]
  },
  {
   "cell_type": "code",
   "execution_count": 187,
   "id": "76911006-8ce7-48f7-9f7e-a07bac901921",
   "metadata": {},
   "outputs": [],
   "source": [
    "img_width = 224\n",
    "img_height = 224"
   ]
  },
  {
   "cell_type": "code",
   "execution_count": 188,
   "id": "b556e517-88f3-44e6-9d27-a2e0a9001f13",
   "metadata": {},
   "outputs": [],
   "source": [
    "#Set seed\n",
    "tf.random.set_seed(42)\n",
    "\n",
    "base_model = tf.keras.applications.vgg16.VGG16(include_top=False)\n",
    "base_model.trainable = False\n",
    "\n",
    "inputs = keras.layers.Input((img_width, img_height, 3))\n",
    "x = base_model(inputs, training=False)\n",
    "x = keras.layers.GlobalAveragePooling2D()(x)\n",
    "x = keras.layers.Dense(512, activation=\"relu\")(x)\n",
    "x = keras.layers.Dropout(0.1)(x)\n",
    "outputs = keras.layers.Dense(256, activation=\"relu\")(x)\n",
    "\n",
    "base_model_vgg_16 = keras.models.Model(inputs, outputs)"
   ]
  },
  {
   "cell_type": "code",
   "execution_count": 189,
   "id": "f26be55c-899b-4e62-b43d-bc219dc4424b",
   "metadata": {},
   "outputs": [
    {
     "name": "stdout",
     "output_type": "stream",
     "text": [
      "Model: \"model_43\"\n",
      "_________________________________________________________________\n",
      "Layer (type)                 Output Shape              Param #   \n",
      "=================================================================\n",
      "input_78 (InputLayer)        [(None, 224, 224, 3)]     0         \n",
      "_________________________________________________________________\n",
      "vgg16 (Functional)           (None, None, None, 512)   14714688  \n",
      "_________________________________________________________________\n",
      "global_average_pooling2d_19  (None, 512)               0         \n",
      "_________________________________________________________________\n",
      "dense_59 (Dense)             (None, 512)               262656    \n",
      "_________________________________________________________________\n",
      "dropout_19 (Dropout)         (None, 512)               0         \n",
      "_________________________________________________________________\n",
      "dense_60 (Dense)             (None, 256)               131328    \n",
      "=================================================================\n",
      "Total params: 15,108,672\n",
      "Trainable params: 393,984\n",
      "Non-trainable params: 14,714,688\n",
      "_________________________________________________________________\n"
     ]
    }
   ],
   "source": [
    "base_model_vgg_16.summary()"
   ]
  },
  {
   "cell_type": "code",
   "execution_count": 190,
   "id": "aefc1f06-9655-4199-ab7b-a828aa081ad4",
   "metadata": {},
   "outputs": [],
   "source": [
    "#define inputs and ouputs\n",
    "img_a = keras.layers.Input((img_width, img_height, 3))\n",
    "img_b = keras.layers.Input((img_width, img_height, 3))\n",
    "\n",
    "feat_vect_a = base_model_vgg_16(img_a)\n",
    "feat_vect_b = base_model_vgg_16(img_b)\n",
    "\n",
    "distance = keras.layers.Lambda(euclidean_distance)([feat_vect_a, feat_vect_b])\n",
    "outputs = keras.layers.Dense(1, activation=\"sigmoid\")(distance)"
   ]
  },
  {
   "cell_type": "code",
   "execution_count": 191,
   "id": "f4f0cd0e-f785-4088-b422-1da9dc39dec8",
   "metadata": {},
   "outputs": [],
   "source": [
    "#Compile the model \n",
    "model_vgg_16 = keras.models.Model(inputs=[img_a, img_b], outputs=outputs)\n",
    "model_vgg_16.compile(loss=contrastive_loss, optimizer=\"Adam\", metrics=[\"accuracy\", f1, precision_f, recall_f])"
   ]
  },
  {
   "cell_type": "code",
   "execution_count": 192,
   "id": "c6cbe9fa-1c04-4a1b-8c7c-ad35278835d7",
   "metadata": {},
   "outputs": [
    {
     "name": "stdout",
     "output_type": "stream",
     "text": [
      "Epoch 1/10\n",
      "47/47 [==============================] - 48s 1s/step - loss: 0.2528 - accuracy: 0.4987 - f1: 0.0000e+00 - precision_f: 0.0000e+00 - recall_f: 0.0000e+00 - val_loss: 0.2425 - val_accuracy: 0.5071 - val_f1: 0.0016 - val_precision_f: 0.1000 - val_recall_f: 7.9365e-04\n",
      "Epoch 2/10\n",
      "47/47 [==============================] - 47s 1s/step - loss: 0.2412 - accuracy: 0.5072 - f1: 0.0413 - precision_f: 0.4329 - recall_f: 0.0225 - val_loss: 0.2351 - val_accuracy: 0.5575 - val_f1: 0.3199 - val_precision_f: 0.6605 - val_recall_f: 0.2126\n",
      "Epoch 3/10\n",
      "47/47 [==============================] - 47s 1s/step - loss: 0.2354 - accuracy: 0.5512 - f1: 0.2876 - precision_f: 0.6924 - recall_f: 0.1881 - val_loss: 0.2311 - val_accuracy: 0.5846 - val_f1: 0.4544 - val_precision_f: 0.6608 - val_recall_f: 0.3488\n",
      "Epoch 4/10\n",
      "47/47 [==============================] - 47s 1s/step - loss: 0.2313 - accuracy: 0.5834 - f1: 0.4367 - precision_f: 0.6750 - recall_f: 0.3253 - val_loss: 0.2275 - val_accuracy: 0.6100 - val_f1: 0.5315 - val_precision_f: 0.6574 - val_recall_f: 0.4474\n",
      "Epoch 5/10\n",
      "47/47 [==============================] - 47s 1s/step - loss: 0.2266 - accuracy: 0.6022 - f1: 0.5046 - precision_f: 0.6689 - recall_f: 0.4076 - val_loss: 0.2238 - val_accuracy: 0.6317 - val_f1: 0.5720 - val_precision_f: 0.6755 - val_recall_f: 0.4974\n",
      "Epoch 6/10\n",
      "47/47 [==============================] - 47s 1s/step - loss: 0.2234 - accuracy: 0.6187 - f1: 0.5490 - precision_f: 0.6745 - recall_f: 0.4652 - val_loss: 0.2214 - val_accuracy: 0.6333 - val_f1: 0.5862 - val_precision_f: 0.6639 - val_recall_f: 0.5301\n",
      "Epoch 7/10\n",
      "47/47 [==============================] - 47s 1s/step - loss: 0.2207 - accuracy: 0.6338 - f1: 0.5896 - precision_f: 0.6728 - recall_f: 0.5271 - val_loss: 0.2192 - val_accuracy: 0.6463 - val_f1: 0.6294 - val_precision_f: 0.6535 - val_recall_f: 0.6098\n",
      "Epoch 8/10\n",
      "47/47 [==============================] - 47s 1s/step - loss: 0.2185 - accuracy: 0.6374 - f1: 0.6016 - precision_f: 0.6678 - recall_f: 0.5490 - val_loss: 0.2173 - val_accuracy: 0.6587 - val_f1: 0.6543 - val_precision_f: 0.6615 - val_recall_f: 0.6498\n",
      "Epoch 9/10\n",
      "47/47 [==============================] - 47s 1s/step - loss: 0.2181 - accuracy: 0.6415 - f1: 0.6165 - precision_f: 0.6630 - recall_f: 0.5793 - val_loss: 0.2156 - val_accuracy: 0.6567 - val_f1: 0.6526 - val_precision_f: 0.6625 - val_recall_f: 0.6473\n",
      "Epoch 10/10\n",
      "47/47 [==============================] - 47s 1000ms/step - loss: 0.2151 - accuracy: 0.6507 - f1: 0.6339 - precision_f: 0.6679 - recall_f: 0.6053 - val_loss: 0.2131 - val_accuracy: 0.6667 - val_f1: 0.6656 - val_precision_f: 0.6580 - val_recall_f: 0.6748\n"
     ]
    }
   ],
   "source": [
    "epochs=10\n",
    "history_model_vgg_16 = model_vgg_16.fit(train_dataset_rgb, validation_data=test_dataset_rgb, epochs=epochs, \n",
    "                             callbacks=[keras.callbacks.EarlyStopping(monitor='val_loss', verbose=1, patience=15), \n",
    "                                       keras.callbacks.ReduceLROnPlateau(monitor='val_loss', factor=0.4, verbose=1, patience=5)])"
   ]
  },
  {
   "cell_type": "code",
   "execution_count": 193,
   "id": "022e46ba-0ead-4479-8499-ec744253af0a",
   "metadata": {},
   "outputs": [
    {
     "data": {
      "image/png": "[encoded data removed]",
      "text/plain": [
       "<Figure size 432x288 with 1 Axes>"
      ]
     },
     "metadata": {},
     "output_type": "display_data"
    }
   ],
   "source": [
    "plot_training(history_model_3)"
   ]
  },
  {
   "cell_type": "code",
   "execution_count": 194,
   "id": "e3f8249d-f8e9-4e04-b290-4a4694252a9f",
   "metadata": {},
   "outputs": [
    {
     "name": "stdout",
     "output_type": "stream",
     "text": [
      "3/3 [==============================] - 3s 541ms/step - loss: 0.2236 - accuracy: 0.6300 - f1: 0.6421 - precision_f: 0.6187 - recall_f: 0.6683\n"
     ]
    }
   ],
   "source": [
    "vgg16_results = evaluate_preds(model_vgg_16, val_dataset_rgb)"
   ]
  },
  {
   "cell_type": "markdown",
   "id": "1ec3fd9a-0d6a-41c6-ac40-cd6b29847045",
   "metadata": {},
   "source": [
    "# VGG 19"
   ]
  },
  {
   "cell_type": "code",
   "execution_count": 195,
   "id": "aa0b1f2f-848c-45a6-a251-b498e156f880",
   "metadata": {},
   "outputs": [],
   "source": [
    "img_width = 224\n",
    "img_height = 224"
   ]
  },
  {
   "cell_type": "code",
   "execution_count": 196,
   "id": "968a5255-f290-4ca0-9ed3-ce9980d24816",
   "metadata": {},
   "outputs": [],
   "source": [
    "#Set seed\n",
    "tf.random.set_seed(42)\n",
    "\n",
    "base_model = tf.keras.applications.vgg19.VGG19(include_top=False)\n",
    "base_model.trainable = False\n",
    "\n",
    "inputs = keras.layers.Input((img_width, img_height, 3))\n",
    "x = base_model(inputs, training=False)\n",
    "x = keras.layers.GlobalAveragePooling2D()(x)\n",
    "x = keras.layers.Dense(512, activation=\"relu\")(x)\n",
    "x = keras.layers.Dropout(0.1)(x)\n",
    "outputs = keras.layers.Dense(256, activation=\"relu\")(x)\n",
    "\n",
    "base_model_vgg_19 = keras.models.Model(inputs, outputs)"
   ]
  },
  {
   "cell_type": "code",
   "execution_count": 197,
   "id": "8cdfa4dc-0c2b-4540-b782-a22eeff7adfd",
   "metadata": {},
   "outputs": [
    {
     "name": "stdout",
     "output_type": "stream",
     "text": [
      "Model: \"model_45\"\n",
      "_________________________________________________________________\n",
      "Layer (type)                 Output Shape              Param #   \n",
      "=================================================================\n",
      "input_82 (InputLayer)        [(None, 224, 224, 3)]     0         \n",
      "_________________________________________________________________\n",
      "vgg19 (Functional)           (None, None, None, 512)   20024384  \n",
      "_________________________________________________________________\n",
      "global_average_pooling2d_20  (None, 512)               0         \n",
      "_________________________________________________________________\n",
      "dense_62 (Dense)             (None, 512)               262656    \n",
      "_________________________________________________________________\n",
      "dropout_20 (Dropout)         (None, 512)               0         \n",
      "_________________________________________________________________\n",
      "dense_63 (Dense)             (None, 256)               131328    \n",
      "=================================================================\n",
      "Total params: 20,418,368\n",
      "Trainable params: 393,984\n",
      "Non-trainable params: 20,024,384\n",
      "_________________________________________________________________\n"
     ]
    }
   ],
   "source": [
    "base_model_vgg_19.summary()"
   ]
  },
  {
   "cell_type": "code",
   "execution_count": 198,
   "id": "0049eeb8-0234-485e-9a41-88d92ccae7fe",
   "metadata": {},
   "outputs": [],
   "source": [
    "#define inputs and ouputs\n",
    "img_a = keras.layers.Input((img_width, img_height, 3))\n",
    "img_b = keras.layers.Input((img_width, img_height, 3))\n",
    "\n",
    "feat_vect_a = base_model_vgg_19(img_a)\n",
    "feat_vect_b = base_model_vgg_19(img_b)\n",
    "\n",
    "distance = keras.layers.Lambda(euclidean_distance)([feat_vect_a, feat_vect_b])\n",
    "outputs = keras.layers.Dense(1, activation=\"sigmoid\")(distance)"
   ]
  },
  {
   "cell_type": "code",
   "execution_count": 199,
   "id": "06e026fe-1ec0-434d-ad1b-26f607dd4001",
   "metadata": {},
   "outputs": [],
   "source": [
    "#Compile the model \n",
    "model_vgg_19 = keras.models.Model(inputs=[img_a, img_b], outputs=outputs)\n",
    "model_vgg_19.compile(loss=contrastive_loss, optimizer=\"Adam\", metrics=[\"accuracy\", f1, precision_f, recall_f])"
   ]
  },
  {
   "cell_type": "code",
   "execution_count": 200,
   "id": "771fcbf2-eef7-4265-b985-24ca8281b6b8",
   "metadata": {},
   "outputs": [
    {
     "name": "stdout",
     "output_type": "stream",
     "text": [
      "Epoch 1/10\n",
      "47/47 [==============================] - 52s 1s/step - loss: 0.2786 - accuracy: 0.4933 - f1: 0.5866 - precision_f: 0.4977 - recall_f: 0.7969 - val_loss: 0.2506 - val_accuracy: 0.4796 - val_f1: 0.6273 - val_precision_f: 0.4884 - val_recall_f: 0.8792\n",
      "Epoch 2/10\n",
      "47/47 [==============================] - 51s 1s/step - loss: 0.2503 - accuracy: 0.4918 - f1: 0.2949 - precision_f: 0.4864 - recall_f: 0.3173 - val_loss: 0.2502 - val_accuracy: 0.4804 - val_f1: 0.5209 - val_precision_f: 0.4831 - val_recall_f: 0.5684\n",
      "Epoch 3/10\n",
      "47/47 [==============================] - 51s 1s/step - loss: 0.2502 - accuracy: 0.4918 - f1: 0.1350 - precision_f: 0.1266 - recall_f: 0.1589 - val_loss: 0.2500 - val_accuracy: 0.5071 - val_f1: 0.0000e+00 - val_precision_f: 0.0000e+00 - val_recall_f: 0.0000e+00\n",
      "Epoch 4/10\n",
      "47/47 [==============================] - 51s 1s/step - loss: 0.2500 - accuracy: 0.4987 - f1: 0.0000e+00 - precision_f: 0.0000e+00 - recall_f: 0.0000e+00 - val_loss: 0.2500 - val_accuracy: 0.5071 - val_f1: 0.0000e+00 - val_precision_f: 0.0000e+00 - val_recall_f: 0.0000e+00\n",
      "Epoch 5/10\n",
      "47/47 [==============================] - 51s 1s/step - loss: 0.2500 - accuracy: 0.4987 - f1: 0.0000e+00 - precision_f: 0.0000e+00 - recall_f: 0.0000e+00 - val_loss: 0.2500 - val_accuracy: 0.5071 - val_f1: 0.0016 - val_precision_f: 0.1000 - val_recall_f: 8.0000e-04\n",
      "Epoch 6/10\n",
      "47/47 [==============================] - 51s 1s/step - loss: 0.2500 - accuracy: 0.4986 - f1: 0.0000e+00 - precision_f: 0.0000e+00 - recall_f: 0.0000e+00 - val_loss: 0.2500 - val_accuracy: 0.5071 - val_f1: 0.0000e+00 - val_precision_f: 0.0000e+00 - val_recall_f: 0.0000e+00\n",
      "Epoch 7/10\n",
      "47/47 [==============================] - 51s 1s/step - loss: 0.2500 - accuracy: 0.4987 - f1: 3.4596e-04 - precision_f: 0.0213 - recall_f: 1.7440e-04 - val_loss: 0.2500 - val_accuracy: 0.5075 - val_f1: 0.0018 - val_precision_f: 0.1000 - val_recall_f: 9.0909e-04\n",
      "Epoch 8/10\n",
      "47/47 [==============================] - 51s 1s/step - loss: 0.2500 - accuracy: 0.4987 - f1: 0.0010 - precision_f: 0.0638 - recall_f: 5.0889e-04 - val_loss: 0.2500 - val_accuracy: 0.5075 - val_f1: 0.0018 - val_precision_f: 0.1000 - val_recall_f: 9.2593e-04\n",
      "\n",
      "Epoch 00008: ReduceLROnPlateau reducing learning rate to 0.0004000000189989805.\n",
      "Epoch 9/10\n",
      "47/47 [==============================] - 51s 1s/step - loss: 0.2500 - accuracy: 0.4986 - f1: 0.0013 - precision_f: 0.0851 - recall_f: 6.3651e-04 - val_loss: 0.2500 - val_accuracy: 0.5067 - val_f1: 0.0032 - val_precision_f: 0.2000 - val_recall_f: 0.0016\n",
      "Epoch 10/10\n",
      "47/47 [==============================] - 51s 1s/step - loss: 0.2500 - accuracy: 0.4988 - f1: 0.6102 - precision_f: 0.4789 - recall_f: 0.9152 - val_loss: 0.2500 - val_accuracy: 0.4929 - val_f1: 0.6605 - val_precision_f: 0.4940 - val_recall_f: 1.0000\n"
     ]
    }
   ],
   "source": [
    "epochs=10\n",
    "history_model_vgg_19 = model_vgg_19.fit(train_dataset_rgb, validation_data=test_dataset_rgb, epochs=epochs, \n",
    "                             callbacks=[keras.callbacks.EarlyStopping(monitor='val_loss', verbose=1, patience=15), \n",
    "                                       keras.callbacks.ReduceLROnPlateau(monitor='val_loss', factor=0.4, verbose=1, patience=5)])"
   ]
  },
  {
   "cell_type": "code",
   "execution_count": 201,
   "id": "510adc19-043f-4bd3-a8e3-f1296f3e2eeb",
   "metadata": {},
   "outputs": [
    {
     "data": {
      "image/png": "[encoded data removed]",
      "text/plain": [
       "<Figure size 432x288 with 1 Axes>"
      ]
     },
     "metadata": {},
     "output_type": "display_data"
    }
   ],
   "source": [
    "plot_training(history_model_vgg_19)"
   ]
  },
  {
   "cell_type": "code",
   "execution_count": 202,
   "id": "c1acdb70-706a-4f72-be9c-cd0b4afcd84c",
   "metadata": {},
   "outputs": [
    {
     "name": "stdout",
     "output_type": "stream",
     "text": [
      "3/3 [==============================] - 3s 579ms/step - loss: 0.2500 - accuracy: 0.5017 - f1: 0.6760 - precision_f: 0.5112 - recall_f: 1.0000\n"
     ]
    }
   ],
   "source": [
    "vgg19_results = evaluate_preds(model_vgg_19, val_dataset_rgb)"
   ]
  },
  {
   "cell_type": "markdown",
   "id": "a518a3a1-b5cd-4454-99f0-082434f343ec",
   "metadata": {},
   "source": [
    "# Resnet 101 V2"
   ]
  },
  {
   "cell_type": "code",
   "execution_count": 203,
   "id": "d1b726ae-8cb7-4981-a333-4b2c49576724",
   "metadata": {},
   "outputs": [],
   "source": [
    "img_width = 224\n",
    "img_height = 224"
   ]
  },
  {
   "cell_type": "code",
   "execution_count": 204,
   "id": "cc8dc5af-fff7-4118-a01e-02e9e2dc4bb9",
   "metadata": {},
   "outputs": [],
   "source": [
    "#Set seed\n",
    "tf.random.set_seed(42)\n",
    "\n",
    "base_model = tf.keras.applications.resnet_v2.ResNet101V2(include_top=False)\n",
    "base_model.trainable = False\n",
    "\n",
    "inputs = keras.layers.Input((img_width, img_height, 3))\n",
    "x = base_model(inputs, training=False)\n",
    "x = keras.layers.GlobalAveragePooling2D()(x)\n",
    "x = keras.layers.Dense(512, activation=\"relu\")(x)\n",
    "x = keras.layers.Dropout(0.1)(x)\n",
    "outputs = keras.layers.Dense(256, activation=\"relu\")(x)\n",
    "\n",
    "base_model_resnet_101 = keras.models.Model(inputs, outputs)"
   ]
  },
  {
   "cell_type": "code",
   "execution_count": 205,
   "id": "44a1f567-2505-45b2-a2c9-6a41bd81f1b9",
   "metadata": {},
   "outputs": [
    {
     "name": "stdout",
     "output_type": "stream",
     "text": [
      "Model: \"model_47\"\n",
      "_________________________________________________________________\n",
      "Layer (type)                 Output Shape              Param #   \n",
      "=================================================================\n",
      "input_86 (InputLayer)        [(None, 224, 224, 3)]     0         \n",
      "_________________________________________________________________\n",
      "resnet101v2 (Functional)     (None, None, None, 2048)  42626560  \n",
      "_________________________________________________________________\n",
      "global_average_pooling2d_21  (None, 2048)              0         \n",
      "_________________________________________________________________\n",
      "dense_65 (Dense)             (None, 512)               1049088   \n",
      "_________________________________________________________________\n",
      "dropout_21 (Dropout)         (None, 512)               0         \n",
      "_________________________________________________________________\n",
      "dense_66 (Dense)             (None, 256)               131328    \n",
      "=================================================================\n",
      "Total params: 43,806,976\n",
      "Trainable params: 1,180,416\n",
      "Non-trainable params: 42,626,560\n",
      "_________________________________________________________________\n"
     ]
    }
   ],
   "source": [
    "base_model_resnet_101.summary()"
   ]
  },
  {
   "cell_type": "code",
   "execution_count": 206,
   "id": "478b77c3-f332-4ca9-8b53-9c5004deb356",
   "metadata": {},
   "outputs": [],
   "source": [
    "#define inputs and ouputs\n",
    "img_a = keras.layers.Input((img_width, img_height, 3))\n",
    "img_b = keras.layers.Input((img_width, img_height, 3))\n",
    "\n",
    "feat_vect_a = base_model_resnet_101(img_a)\n",
    "feat_vect_b = base_model_resnet_101(img_b)\n",
    "\n",
    "distance = keras.layers.Lambda(euclidean_distance)([feat_vect_a, feat_vect_b])\n",
    "outputs = keras.layers.Dense(1, activation=\"sigmoid\")(distance)"
   ]
  },
  {
   "cell_type": "code",
   "execution_count": 207,
   "id": "35e46efa-d94e-41e2-bb29-cb8a1c17a427",
   "metadata": {},
   "outputs": [],
   "source": [
    "#Compile the model \n",
    "model_resnet_101 = keras.models.Model(inputs=[img_a, img_b], outputs=outputs)\n",
    "model_resnet_101.compile(loss=contrastive_loss, optimizer=\"Adam\", metrics=[\"accuracy\", f1, precision_f, recall_f])"
   ]
  },
  {
   "cell_type": "code",
   "execution_count": 208,
   "id": "92766ac7-ff7b-498e-b24f-3a00261ede9c",
   "metadata": {},
   "outputs": [
    {
     "name": "stdout",
     "output_type": "stream",
     "text": [
      "Epoch 1/10\n",
      "47/47 [==============================] - 60s 1s/step - loss: 0.2440 - accuracy: 0.4987 - f1: 0.0000e+00 - precision_f: 0.0000e+00 - recall_f: 0.0000e+00 - val_loss: 0.2318 - val_accuracy: 0.5117 - val_f1: 0.0201 - val_precision_f: 0.7000 - val_recall_f: 0.0102\n",
      "Epoch 2/10\n",
      "47/47 [==============================] - 53s 1s/step - loss: 0.2305 - accuracy: 0.5247 - f1: 0.1404 - precision_f: 0.5669 - recall_f: 0.0871 - val_loss: 0.2250 - val_accuracy: 0.5788 - val_f1: 0.3958 - val_precision_f: 0.6647 - val_recall_f: 0.2846\n",
      "Epoch 3/10\n",
      "47/47 [==============================] - 53s 1s/step - loss: 0.2232 - accuracy: 0.5936 - f1: 0.4663 - precision_f: 0.6786 - recall_f: 0.3711 - val_loss: 0.2211 - val_accuracy: 0.6129 - val_f1: 0.5408 - val_precision_f: 0.6542 - val_recall_f: 0.4626\n",
      "Epoch 4/10\n",
      "47/47 [==============================] - 53s 1s/step - loss: 0.2173 - accuracy: 0.6252 - f1: 0.5679 - precision_f: 0.6718 - recall_f: 0.5040 - val_loss: 0.2189 - val_accuracy: 0.6237 - val_f1: 0.6043 - val_precision_f: 0.6358 - val_recall_f: 0.5776\n",
      "Epoch 5/10\n",
      "47/47 [==============================] - 53s 1s/step - loss: 0.2118 - accuracy: 0.6614 - f1: 0.6327 - precision_f: 0.6896 - recall_f: 0.5940 - val_loss: 0.2160 - val_accuracy: 0.6408 - val_f1: 0.6249 - val_precision_f: 0.6503 - val_recall_f: 0.6044\n",
      "Epoch 6/10\n",
      "47/47 [==============================] - 53s 1s/step - loss: 0.2062 - accuracy: 0.6883 - f1: 0.6636 - precision_f: 0.7204 - recall_f: 0.6230 - val_loss: 0.2146 - val_accuracy: 0.6650 - val_f1: 0.6632 - val_precision_f: 0.6619 - val_recall_f: 0.6661\n",
      "Epoch 7/10\n",
      "47/47 [==============================] - 53s 1s/step - loss: 0.2017 - accuracy: 0.7084 - f1: 0.6864 - precision_f: 0.7448 - recall_f: 0.6474 - val_loss: 0.2098 - val_accuracy: 0.6692 - val_f1: 0.6362 - val_precision_f: 0.7044 - val_recall_f: 0.5814\n",
      "Epoch 8/10\n",
      "47/47 [==============================] - 53s 1s/step - loss: 0.1965 - accuracy: 0.7298 - f1: 0.7068 - precision_f: 0.7712 - recall_f: 0.6619 - val_loss: 0.2090 - val_accuracy: 0.6617 - val_f1: 0.6200 - val_precision_f: 0.7064 - val_recall_f: 0.5533\n",
      "Epoch 9/10\n",
      "47/47 [==============================] - 53s 1s/step - loss: 0.1912 - accuracy: 0.7407 - f1: 0.7197 - precision_f: 0.7810 - recall_f: 0.6769 - val_loss: 0.2108 - val_accuracy: 0.6454 - val_f1: 0.5892 - val_precision_f: 0.6909 - val_recall_f: 0.5156\n",
      "Epoch 10/10\n",
      "47/47 [==============================] - 53s 1s/step - loss: 0.1864 - accuracy: 0.7542 - f1: 0.7369 - precision_f: 0.7912 - recall_f: 0.6967 - val_loss: 0.2090 - val_accuracy: 0.6562 - val_f1: 0.6006 - val_precision_f: 0.6932 - val_recall_f: 0.5332\n"
     ]
    }
   ],
   "source": [
    "epochs=10\n",
    "history_model_resnet_101 = model_resnet_101.fit(train_dataset_rgb, validation_data=test_dataset_rgb, epochs=epochs, \n",
    "                             callbacks=[keras.callbacks.EarlyStopping(monitor='val_loss', verbose=1, patience=15), \n",
    "                                       keras.callbacks.ReduceLROnPlateau(monitor='val_loss', factor=0.4, verbose=1, patience=5)])"
   ]
  },
  {
   "cell_type": "code",
   "execution_count": 209,
   "id": "c5cc652b-f8bd-4d21-b81a-477bbb9fb435",
   "metadata": {},
   "outputs": [
    {
     "data": {
      "image/png": "[encoded data removed]",
      "text/plain": [
       "<Figure size 432x288 with 1 Axes>"
      ]
     },
     "metadata": {},
     "output_type": "display_data"
    }
   ],
   "source": [
    "plot_training(history_model_resnet_101)"
   ]
  },
  {
   "cell_type": "code",
   "execution_count": 210,
   "id": "96c0e939-560d-4687-83b4-0eef2eafff88",
   "metadata": {},
   "outputs": [
    {
     "name": "stdout",
     "output_type": "stream",
     "text": [
      "3/3 [==============================] - 3s 600ms/step - loss: 0.2233 - accuracy: 0.6217 - f1: 0.5811 - precision_f: 0.6875 - recall_f: 0.5126\n"
     ]
    }
   ],
   "source": [
    "resnet_101_results = evaluate_preds(model_resnet_101, val_dataset_rgb)"
   ]
  },
  {
   "cell_type": "markdown",
   "id": "c263a76b-6441-42ee-b765-503084fadd5f",
   "metadata": {},
   "source": [
    "# Alexnet - from Scratch"
   ]
  },
  {
   "cell_type": "code",
   "execution_count": 84,
   "id": "daf6ae0c-036d-4e94-b8fe-445bbe89afdb",
   "metadata": {},
   "outputs": [],
   "source": [
    "img_width = 224\n",
    "img_height = 224"
   ]
  },
  {
   "cell_type": "code",
   "execution_count": 101,
   "id": "b2ac4752-6417-48f4-8e4f-55121d0483de",
   "metadata": {},
   "outputs": [],
   "source": [
    "#Set seed\n",
    "tf.random.set_seed(42)\n",
    "\n",
    "#Build the model\n",
    "inputs = keras.layers.Input((img_width, img_height, 1))\n",
    "\n",
    "x = keras.layers.Conv2D(96, (11,11), strides=4, padding=\"same\")(inputs)\n",
    "x = keras.layers.Lambda(tf.nn.local_response_normalization)(x)\n",
    "x = keras.layers.Activation(\"relu\")(x)\n",
    "x = keras.layers.MaxPool2D((3,3), strides=2)(x)\n",
    "\n",
    "x = keras.layers.Conv2D(256, (5,5), strides=4, padding=\"same\")(x)\n",
    "x = keras.layers.Lambda(tf.nn.local_response_normalization)(x)\n",
    "x = keras.layers.Activation(\"relu\")(x)\n",
    "x = keras.layers.MaxPool2D((3,3), strides=2)(x)\n",
    "\n",
    "x = keras.layers.Conv2D(384, (3,3), strides=4, padding=\"same\")(x)\n",
    "x = keras.layers.Activation(\"relu\")(x)\n",
    "\n",
    "x = keras.layers.Conv2D(384, (3,3), strides=4, padding=\"same\")(x)\n",
    "x = keras.layers.Activation(\"relu\")(x)\n",
    "\n",
    "x = keras.layers.Conv2D(256, (3,3), strides=4, padding=\"same\")(x)\n",
    "x = keras.layers.Activation(\"relu\")(x)\n",
    "\n",
    "x = keras.layers.Flatten()(x)\n",
    "\n",
    "x = keras.layers.Dense(4096, activation=\"relu\")(x)\n",
    "x = keras.layers.Dropout(0.5)(x)\n",
    "\n",
    "x = keras.layers.Dense(4096, activation=\"relu\")(x)\n",
    "x = keras.layers.Dropout(0.5)(x)\n",
    "\n",
    "outputs = keras.layers.Dense(48, activation=\"relu\")(x)\n",
    "\n",
    "base_model_5 = keras.models.Model(inputs, outputs)"
   ]
  },
  {
   "cell_type": "code",
   "execution_count": 102,
   "id": "a52c4373-8de5-4f58-ae16-5b684f96c5c0",
   "metadata": {},
   "outputs": [
    {
     "name": "stdout",
     "output_type": "stream",
     "text": [
      "Model: \"model_20\"\n",
      "_________________________________________________________________\n",
      "Layer (type)                 Output Shape              Param #   \n",
      "=================================================================\n",
      "input_41 (InputLayer)        [(None, 224, 224, 1)]     0         \n",
      "_________________________________________________________________\n",
      "conv2d_24 (Conv2D)           (None, 56, 56, 96)        11712     \n",
      "_________________________________________________________________\n",
      "lambda_15 (Lambda)           (None, 56, 56, 96)        0         \n",
      "_________________________________________________________________\n",
      "activation_15 (Activation)   (None, 56, 56, 96)        0         \n",
      "_________________________________________________________________\n",
      "max_pooling2d_21 (MaxPooling (None, 27, 27, 96)        0         \n",
      "_________________________________________________________________\n",
      "conv2d_25 (Conv2D)           (None, 7, 7, 256)         614656    \n",
      "_________________________________________________________________\n",
      "lambda_16 (Lambda)           (None, 7, 7, 256)         0         \n",
      "_________________________________________________________________\n",
      "activation_16 (Activation)   (None, 7, 7, 256)         0         \n",
      "_________________________________________________________________\n",
      "max_pooling2d_22 (MaxPooling (None, 3, 3, 256)         0         \n",
      "_________________________________________________________________\n",
      "conv2d_26 (Conv2D)           (None, 1, 1, 384)         885120    \n",
      "_________________________________________________________________\n",
      "activation_17 (Activation)   (None, 1, 1, 384)         0         \n",
      "_________________________________________________________________\n",
      "conv2d_27 (Conv2D)           (None, 1, 1, 384)         1327488   \n",
      "_________________________________________________________________\n",
      "activation_18 (Activation)   (None, 1, 1, 384)         0         \n",
      "_________________________________________________________________\n",
      "conv2d_28 (Conv2D)           (None, 1, 1, 256)         884992    \n",
      "_________________________________________________________________\n",
      "activation_19 (Activation)   (None, 1, 1, 256)         0         \n",
      "_________________________________________________________________\n",
      "flatten_6 (Flatten)          (None, 256)               0         \n",
      "_________________________________________________________________\n",
      "dense_20 (Dense)             (None, 4096)              1052672   \n",
      "_________________________________________________________________\n",
      "dropout_6 (Dropout)          (None, 4096)              0         \n",
      "_________________________________________________________________\n",
      "dense_21 (Dense)             (None, 4096)              16781312  \n",
      "_________________________________________________________________\n",
      "dropout_7 (Dropout)          (None, 4096)              0         \n",
      "_________________________________________________________________\n",
      "dense_22 (Dense)             (None, 48)                196656    \n",
      "=================================================================\n",
      "Total params: 21,754,608\n",
      "Trainable params: 21,754,608\n",
      "Non-trainable params: 0\n",
      "_________________________________________________________________\n"
     ]
    }
   ],
   "source": [
    "base_model_5.summary()"
   ]
  },
  {
   "cell_type": "code",
   "execution_count": 103,
   "id": "ebe43e47-dfbb-46a7-bf35-cc8f4bbf62b4",
   "metadata": {},
   "outputs": [],
   "source": [
    "#define inputs and ouputs\n",
    "img_a = keras.layers.Input((img_width, img_height, 1))\n",
    "img_b = keras.layers.Input((img_width, img_height, 1))\n",
    "\n",
    "feat_vect_a = base_model_5(img_a)\n",
    "feat_vect_b = base_model_5(img_b)\n",
    "\n",
    "distance = keras.layers.Lambda(euclidean_distance)([feat_vect_a, feat_vect_b])"
   ]
  },
  {
   "cell_type": "code",
   "execution_count": 104,
   "id": "1c3d7b34-f397-4ef3-87e7-15b6848d384a",
   "metadata": {},
   "outputs": [],
   "source": [
    "#Compile the model \n",
    "model_5 = keras.models.Model(inputs=[img_a, img_b], outputs=distance)\n",
    "model_5.compile(loss=contrastive_loss, optimizer=\"Adam\", metrics=[\"accuracy\"])"
   ]
  },
  {
   "cell_type": "code",
   "execution_count": null,
   "id": "a07e3127-1ac6-469b-a5d5-568bc3d73f2f",
   "metadata": {},
   "outputs": [],
   "source": [
    "epochs=10\n",
    "history_model_5 = model_5.fit(train_dataset, validation_data=test_dataset, epochs=epochs, callbacks=[keras.callbacks.ReduceLROnPlateau(monitor='val_loss', factor=0.5, verbose=1, patience=2)])"
   ]
  },
  {
   "cell_type": "code",
   "execution_count": 111,
   "id": "e131e91b-4f9a-4cb9-a060-fd6b24ff863c",
   "metadata": {},
   "outputs": [
    {
     "data": {
      "image/png": "[encoded data removed]",
      "text/plain": [
       "<Figure size 432x288 with 1 Axes>"
      ]
     },
     "metadata": {},
     "output_type": "display_data"
    }
   ],
   "source": [
    "plot_training(history_model_5)"
   ]
  },
  {
   "cell_type": "markdown",
   "id": "5a9e5109-78d6-46a6-b277-13c12df19c1d",
   "metadata": {},
   "source": [
    "# Model from Scratch"
   ]
  },
  {
   "cell_type": "code",
   "execution_count": 5,
   "id": "3e10aa36-b9a3-4b64-82f7-6dd63baee4eb",
   "metadata": {},
   "outputs": [],
   "source": [
    "img_width = 224\n",
    "img_height = 224"
   ]
  },
  {
   "cell_type": "code",
   "execution_count": 80,
   "id": "bd76ab9c-2742-41a8-b2c4-1006e70b7f42",
   "metadata": {},
   "outputs": [],
   "source": [
    "#Set seed\n",
    "tf.random.set_seed(42)\n",
    "\n",
    "#Build the model\n",
    "inputs = keras.layers.Input((img_width, img_height, 1))\n",
    "\n",
    "x = keras.layers.Conv2D(8, (2,2), activation=\"relu\")(inputs)\n",
    "x = keras.layers.MaxPool2D(2,2)(x)\n",
    "\n",
    "x = keras.layers.Conv2D(8, (2,2), activation=\"relu\")(x)\n",
    "x = keras.layers.MaxPool2D(2,2)(x)\n",
    "\n",
    "x = keras.layers.Conv2D(16, (2,2), activation=\"relu\")(x)\n",
    "x = keras.layers.MaxPool2D(2,2)(x)\n",
    "\n",
    "x = keras.layers.Conv2D(32, (2,2), activation=\"relu\")(x)\n",
    "x = keras.layers.MaxPool2D(2,2)(x)\n",
    "\n",
    "x = keras.layers.Conv2D(64, (2,2), activation=\"relu\")(x)\n",
    "x = keras.layers.MaxPool2D(2,2)(x)\n",
    "\n",
    "x = keras.layers.Flatten()(x)\n",
    "\n",
    "outputs = keras.layers.Dense(128, activation=\"relu\")(x)\n",
    "\n",
    "base_model_6 = keras.models.Model(inputs, outputs)"
   ]
  },
  {
   "cell_type": "code",
   "execution_count": 81,
   "id": "0a9091fd-d0e8-47d4-898b-9c5e24328440",
   "metadata": {},
   "outputs": [
    {
     "name": "stdout",
     "output_type": "stream",
     "text": [
      "Model: \"model_28\"\n",
      "_________________________________________________________________\n",
      "Layer (type)                 Output Shape              Param #   \n",
      "=================================================================\n",
      "input_38 (InputLayer)        [(None, 224, 224, 1)]     0         \n",
      "_________________________________________________________________\n",
      "conv2d_59 (Conv2D)           (None, 223, 223, 8)       40        \n",
      "_________________________________________________________________\n",
      "max_pooling2d_55 (MaxPooling (None, 111, 111, 8)       0         \n",
      "_________________________________________________________________\n",
      "conv2d_60 (Conv2D)           (None, 110, 110, 8)       264       \n",
      "_________________________________________________________________\n",
      "max_pooling2d_56 (MaxPooling (None, 55, 55, 8)         0         \n",
      "_________________________________________________________________\n",
      "conv2d_61 (Conv2D)           (None, 54, 54, 16)        528       \n",
      "_________________________________________________________________\n",
      "max_pooling2d_57 (MaxPooling (None, 27, 27, 16)        0         \n",
      "_________________________________________________________________\n",
      "conv2d_62 (Conv2D)           (None, 26, 26, 32)        2080      \n",
      "_________________________________________________________________\n",
      "max_pooling2d_58 (MaxPooling (None, 13, 13, 32)        0         \n",
      "_________________________________________________________________\n",
      "conv2d_63 (Conv2D)           (None, 12, 12, 64)        8256      \n",
      "_________________________________________________________________\n",
      "max_pooling2d_59 (MaxPooling (None, 6, 6, 64)          0         \n",
      "_________________________________________________________________\n",
      "flatten_17 (Flatten)         (None, 2304)              0         \n",
      "_________________________________________________________________\n",
      "dense_20 (Dense)             (None, 128)               295040    \n",
      "=================================================================\n",
      "Total params: 306,208\n",
      "Trainable params: 306,208\n",
      "Non-trainable params: 0\n",
      "_________________________________________________________________\n"
     ]
    }
   ],
   "source": [
    "base_model_6.summary()"
   ]
  },
  {
   "cell_type": "code",
   "execution_count": 82,
   "id": "3ed0c090-55d5-4a70-8bf8-703179545200",
   "metadata": {},
   "outputs": [],
   "source": [
    "#define inputs and ouputs\n",
    "img_a = keras.layers.Input((img_width, img_height, 1))\n",
    "img_b = keras.layers.Input((img_width, img_height, 1))\n",
    "\n",
    "feat_vect_a = base_model_6(img_a)\n",
    "feat_vect_b = base_model_6(img_b)\n",
    "\n",
    "distance = keras.layers.Lambda(euclidean_distance)([feat_vect_a, feat_vect_b])\n",
    "outputs = keras.layers.Dense(1, activation=\"sigmoid\")(distance)"
   ]
  },
  {
   "cell_type": "code",
   "execution_count": 83,
   "id": "1a79f10f-c910-4fe6-a3f3-3cc72511ae30",
   "metadata": {},
   "outputs": [],
   "source": [
    "#Compile the model \n",
    "model_6 = keras.models.Model(inputs=[img_a, img_b], outputs=outputs)\n",
    "model_6.compile(loss=contrastive_loss, optimizer=\"Adam\", metrics=[\"accuracy\"])"
   ]
  },
  {
   "cell_type": "code",
   "execution_count": null,
   "id": "0a145a07-993d-44e5-a33b-67c21e104131",
   "metadata": {},
   "outputs": [],
   "source": [
    "epochs=150\n",
    "history_model_6 = model_6.fit(train_dataset, validation_data=test_dataset, epochs=epochs, \n",
    "                             callbacks=[keras.callbacks.EarlyStopping(monitor='val_loss', verbose=1, patience=5), \n",
    "                                       keras.callbacks.ReduceLROnPlateau(monitor='val_loss', factor=0.2, verbose=1, patience=5)])"
   ]
  },
  {
   "cell_type": "code",
   "execution_count": 85,
   "id": "62bd009e-6ad0-4b80-8825-47b6de092c56",
   "metadata": {},
   "outputs": [
    {
     "data": {
      "image/png": "[encoded data removed]",
      "text/plain": [
       "<Figure size 432x288 with 1 Axes>"
      ]
     },
     "metadata": {},
     "output_type": "display_data"
    }
   ],
   "source": [
    "plot_training(history_model_6)"
   ]
  },
  {
   "cell_type": "markdown",
   "id": "014ba513-20e7-45ea-b694-b7d91ca34c5f",
   "metadata": {},
   "source": [
    "# InceptionResNetV2"
   ]
  },
  {
   "cell_type": "code",
   "execution_count": 211,
   "id": "85d48b4a-6ed2-4a85-a9c4-819e8d90a75b",
   "metadata": {},
   "outputs": [],
   "source": [
    "img_width = 224\n",
    "img_height = 224"
   ]
  },
  {
   "cell_type": "code",
   "execution_count": 212,
   "id": "57c4c0c5-afa3-4fcb-b2b0-c521b9259b3f",
   "metadata": {},
   "outputs": [],
   "source": [
    "\n",
    "#Set seed\n",
    "tf.random.set_seed(42)\n",
    "\n",
    "base_model = tf.keras.applications.InceptionResNetV2(include_top=False)\n",
    "base_model.trainable = False\n",
    "\n",
    "inputs = keras.layers.Input((img_width, img_height, 3))\n",
    "x = base_model(inputs, training=False)\n",
    "x = keras.layers.GlobalAveragePooling2D()(x)\n",
    "x = keras.layers.Dense(512, activation=\"relu\")(x)\n",
    "x = keras.layers.Dropout(0.1)(x)\n",
    "outputs = keras.layers.Dense(256, activation=\"relu\")(x)\n",
    "\n",
    "base_model_resnet = keras.models.Model(inputs, outputs)"
   ]
  },
  {
   "cell_type": "code",
   "execution_count": 213,
   "id": "c95a3209-bd86-47b8-954b-4fed81983d3c",
   "metadata": {},
   "outputs": [
    {
     "name": "stdout",
     "output_type": "stream",
     "text": [
      "Model: \"model_49\"\n",
      "_________________________________________________________________\n",
      "Layer (type)                 Output Shape              Param #   \n",
      "=================================================================\n",
      "input_90 (InputLayer)        [(None, 224, 224, 3)]     0         \n",
      "_________________________________________________________________\n",
      "inception_resnet_v2 (Functio (None, None, None, 1536)  54336736  \n",
      "_________________________________________________________________\n",
      "global_average_pooling2d_22  (None, 1536)              0         \n",
      "_________________________________________________________________\n",
      "dense_68 (Dense)             (None, 512)               786944    \n",
      "_________________________________________________________________\n",
      "dropout_22 (Dropout)         (None, 512)               0         \n",
      "_________________________________________________________________\n",
      "dense_69 (Dense)             (None, 256)               131328    \n",
      "=================================================================\n",
      "Total params: 55,255,008\n",
      "Trainable params: 918,272\n",
      "Non-trainable params: 54,336,736\n",
      "_________________________________________________________________\n"
     ]
    }
   ],
   "source": [
    "base_model_resnet.summary()"
   ]
  },
  {
   "cell_type": "code",
   "execution_count": 214,
   "id": "52530b8e-b587-4a54-b4cf-d7e933305e2c",
   "metadata": {},
   "outputs": [],
   "source": [
    "#define inputs and ouputs\n",
    "img_a = keras.layers.Input((img_width, img_height, 3))\n",
    "img_b = keras.layers.Input((img_width, img_height, 3))\n",
    "\n",
    "feat_vect_a = base_model_resnet(img_a)\n",
    "feat_vect_b = base_model_resnet(img_b)\n",
    "\n",
    "distance = keras.layers.Lambda(euclidean_distance)([feat_vect_a, feat_vect_b])\n",
    "outputs = keras.layers.Dense(1, activation=\"sigmoid\")(distance)"
   ]
  },
  {
   "cell_type": "code",
   "execution_count": 215,
   "id": "a50c0445-b1bc-490a-b6eb-4424dcb99524",
   "metadata": {},
   "outputs": [],
   "source": [
    "#Compile the model \n",
    "model_resnet = keras.models.Model(inputs=[img_a, img_b], outputs=outputs)\n",
    "model_resnet.compile(loss=contrastive_loss, optimizer=\"Adam\", metrics=[\"accuracy\", f1, precision_f, recall_f])"
   ]
  },
  {
   "cell_type": "code",
   "execution_count": 216,
   "id": "de637fa1-e94a-44d8-8eca-e552319d0b69",
   "metadata": {},
   "outputs": [
    {
     "name": "stdout",
     "output_type": "stream",
     "text": [
      "Epoch 1/10\n",
      "47/47 [==============================] - 70s 1s/step - loss: 0.2504 - accuracy: 0.5010 - f1: 0.0241 - precision_f: 0.2269 - recall_f: 0.0130 - val_loss: 0.2334 - val_accuracy: 0.5467 - val_f1: 0.2310 - val_precision_f: 0.7065 - val_recall_f: 0.1386\n",
      "Epoch 2/10\n",
      "47/47 [==============================] - 55s 1s/step - loss: 0.2350 - accuracy: 0.5255 - f1: 0.1837 - precision_f: 0.6755 - recall_f: 0.1120 - val_loss: 0.2291 - val_accuracy: 0.5771 - val_f1: 0.4335 - val_precision_f: 0.6327 - val_recall_f: 0.3305\n",
      "Epoch 3/10\n",
      "47/47 [==============================] - 55s 1s/step - loss: 0.2309 - accuracy: 0.5539 - f1: 0.3408 - precision_f: 0.6504 - recall_f: 0.2440 - val_loss: 0.2262 - val_accuracy: 0.6221 - val_f1: 0.5592 - val_precision_f: 0.6564 - val_recall_f: 0.4896\n",
      "Epoch 4/10\n",
      "47/47 [==============================] - 55s 1s/step - loss: 0.2259 - accuracy: 0.5874 - f1: 0.4726 - precision_f: 0.6549 - recall_f: 0.3790 - val_loss: 0.2231 - val_accuracy: 0.6350 - val_f1: 0.5978 - val_precision_f: 0.6599 - val_recall_f: 0.5478\n",
      "Epoch 5/10\n",
      "47/47 [==============================] - 55s 1s/step - loss: 0.2229 - accuracy: 0.6105 - f1: 0.5277 - precision_f: 0.6708 - recall_f: 0.4442 - val_loss: 0.2204 - val_accuracy: 0.6483 - val_f1: 0.6299 - val_precision_f: 0.6669 - val_recall_f: 0.5994\n",
      "Epoch 6/10\n",
      "47/47 [==============================] - 55s 1s/step - loss: 0.2196 - accuracy: 0.6287 - f1: 0.5700 - precision_f: 0.6768 - recall_f: 0.5014 - val_loss: 0.2173 - val_accuracy: 0.6542 - val_f1: 0.6448 - val_precision_f: 0.6619 - val_recall_f: 0.6304\n",
      "Epoch 7/10\n",
      "47/47 [==============================] - 55s 1s/step - loss: 0.2169 - accuracy: 0.6400 - f1: 0.5886 - precision_f: 0.6872 - recall_f: 0.5269 - val_loss: 0.2149 - val_accuracy: 0.6571 - val_f1: 0.6351 - val_precision_f: 0.6739 - val_recall_f: 0.6018\n",
      "Epoch 8/10\n",
      "47/47 [==============================] - 55s 1s/step - loss: 0.2138 - accuracy: 0.6511 - f1: 0.6126 - precision_f: 0.6893 - recall_f: 0.5565 - val_loss: 0.2127 - val_accuracy: 0.6637 - val_f1: 0.6500 - val_precision_f: 0.6738 - val_recall_f: 0.6302\n",
      "Epoch 9/10\n",
      "47/47 [==============================] - 55s 1s/step - loss: 0.2110 - accuracy: 0.6635 - f1: 0.6354 - precision_f: 0.6960 - recall_f: 0.5897 - val_loss: 0.2122 - val_accuracy: 0.6679 - val_f1: 0.6540 - val_precision_f: 0.6761 - val_recall_f: 0.6356\n",
      "Epoch 10/10\n",
      "47/47 [==============================] - 55s 1s/step - loss: 0.2082 - accuracy: 0.6758 - f1: 0.6590 - precision_f: 0.6966 - recall_f: 0.6291 - val_loss: 0.2074 - val_accuracy: 0.6762 - val_f1: 0.6577 - val_precision_f: 0.6809 - val_recall_f: 0.6370\n"
     ]
    }
   ],
   "source": [
    "epochs=10\n",
    "history_model_resnet = model_resnet.fit(train_dataset_rgb, validation_data=test_dataset_rgb, epochs=epochs, \n",
    "                             callbacks=[keras.callbacks.EarlyStopping(monitor='val_loss', verbose=1, patience=15), \n",
    "                                       keras.callbacks.ReduceLROnPlateau(monitor='val_loss', factor=0.4, verbose=1, patience=5)])"
   ]
  },
  {
   "cell_type": "code",
   "execution_count": 217,
   "id": "29777fbb-9b5d-4605-9780-583a334e2426",
   "metadata": {},
   "outputs": [
    {
     "data": {
      "image/png": "[encoded data removed]",
      "text/plain": [
       "<Figure size 432x288 with 1 Axes>"
      ]
     },
     "metadata": {},
     "output_type": "display_data"
    }
   ],
   "source": [
    "plot_training(history_model_resnet)"
   ]
  },
  {
   "cell_type": "code",
   "execution_count": 218,
   "id": "6c4b4610-fca3-4e68-9e1b-a443f747a004",
   "metadata": {},
   "outputs": [
    {
     "name": "stdout",
     "output_type": "stream",
     "text": [
      "3/3 [==============================] - 3s 638ms/step - loss: 0.2205 - accuracy: 0.6217 - f1: 0.6249 - precision_f: 0.6424 - recall_f: 0.6094\n"
     ]
    }
   ],
   "source": [
    "inception_resnet_results = evaluate_preds(model_resnet, val_dataset_rgb)"
   ]
  },
  {
   "cell_type": "markdown",
   "id": "3f0aa2db-31b5-4812-9164-a74b4af41d7f",
   "metadata": {},
   "source": [
    "# MobileNet V3 Large"
   ]
  },
  {
   "cell_type": "code",
   "execution_count": 219,
   "id": "cd089d54-77ab-4f88-8e2f-1f3040d953e5",
   "metadata": {},
   "outputs": [],
   "source": [
    "img_width = 224\n",
    "img_height = 224"
   ]
  },
  {
   "cell_type": "code",
   "execution_count": 220,
   "id": "c0cf81eb-a4a6-48a9-977b-d3fbf36c19d8",
   "metadata": {},
   "outputs": [
    {
     "name": "stdout",
     "output_type": "stream",
     "text": [
      "WARNING:tensorflow:`input_shape` is undefined or non-square, or `rows` is not 224. Weights for input shape (224, 224) will be loaded as the default.\n"
     ]
    },
    {
     "name": "stderr",
     "output_type": "stream",
     "text": [
      "WARNING:tensorflow:`input_shape` is undefined or non-square, or `rows` is not 224. Weights for input shape (224, 224) will be loaded as the default.\n"
     ]
    }
   ],
   "source": [
    "#Set seed\n",
    "tf.random.set_seed(42)\n",
    "\n",
    "base_model = tf.keras.applications.MobileNetV3Large(include_top=False)\n",
    "base_model.trainable = False\n",
    "\n",
    "inputs = keras.layers.Input((img_width, img_height, 3))\n",
    "x = base_model(inputs, training=False)\n",
    "x = keras.layers.GlobalAveragePooling2D()(x)\n",
    "x = keras.layers.Dense(512, activation=\"relu\")(x)\n",
    "x = keras.layers.Dropout(0.1)(x)\n",
    "outputs = keras.layers.Dense(256, activation=\"relu\")(x)\n",
    "\n",
    "base_model_mobilenet_v3 = keras.models.Model(inputs, outputs)"
   ]
  },
  {
   "cell_type": "code",
   "execution_count": 221,
   "id": "97ff86b9-f8a2-4b28-aeba-ef328c2a3d28",
   "metadata": {},
   "outputs": [
    {
     "name": "stdout",
     "output_type": "stream",
     "text": [
      "Model: \"model_51\"\n",
      "_________________________________________________________________\n",
      "Layer (type)                 Output Shape              Param #   \n",
      "=================================================================\n",
      "input_94 (InputLayer)        [(None, 224, 224, 3)]     0         \n",
      "_________________________________________________________________\n",
      "MobilenetV3large (Functional (None, None, None, 1280)  4226432   \n",
      "_________________________________________________________________\n",
      "global_average_pooling2d_23  (None, 1280)              0         \n",
      "_________________________________________________________________\n",
      "dense_71 (Dense)             (None, 512)               655872    \n",
      "_________________________________________________________________\n",
      "dropout_23 (Dropout)         (None, 512)               0         \n",
      "_________________________________________________________________\n",
      "dense_72 (Dense)             (None, 256)               131328    \n",
      "=================================================================\n",
      "Total params: 5,013,632\n",
      "Trainable params: 787,200\n",
      "Non-trainable params: 4,226,432\n",
      "_________________________________________________________________\n"
     ]
    }
   ],
   "source": [
    "base_model_mobilenet_v3.summary()"
   ]
  },
  {
   "cell_type": "code",
   "execution_count": 222,
   "id": "6fbcd21e-377f-4f8b-bd70-c43a797b2840",
   "metadata": {},
   "outputs": [],
   "source": [
    "#define inputs and ouputs\n",
    "img_a = keras.layers.Input((img_width, img_height, 3))\n",
    "img_b = keras.layers.Input((img_width, img_height, 3))\n",
    "\n",
    "feat_vect_a = base_model_mobilenet_v3(img_a)\n",
    "feat_vect_b = base_model_mobilenet_v3(img_b)\n",
    "\n",
    "distance = keras.layers.Lambda(euclidean_distance)([feat_vect_a, feat_vect_b])\n",
    "outputs = keras.layers.Dense(1, activation=\"sigmoid\")(distance)"
   ]
  },
  {
   "cell_type": "code",
   "execution_count": 223,
   "id": "97c75b92-9e2d-4522-b8dd-ddd1398391aa",
   "metadata": {},
   "outputs": [],
   "source": [
    "#Compile the model \n",
    "model_mobilenet_v3 = keras.models.Model(inputs=[img_a, img_b], outputs=outputs)\n",
    "model_mobilenet_v3.compile(loss=contrastive_loss, optimizer=\"Adam\", metrics=[\"accuracy\", f1, precision_f, recall_f])"
   ]
  },
  {
   "cell_type": "code",
   "execution_count": 224,
   "id": "00d5b373-6ff2-47f6-a222-c0b4f8fe337b",
   "metadata": {},
   "outputs": [
    {
     "name": "stdout",
     "output_type": "stream",
     "text": [
      "Epoch 1/10\n",
      "47/47 [==============================] - 37s 708ms/step - loss: 0.2517 - accuracy: 0.5183 - f1: 0.4192 - precision_f: 0.4276 - recall_f: 0.5043 - val_loss: 0.2495 - val_accuracy: 0.5754 - val_f1: 0.6915 - val_precision_f: 0.5437 - val_recall_f: 0.9513\n",
      "Epoch 2/10\n",
      "47/47 [==============================] - 32s 681ms/step - loss: 0.2493 - accuracy: 0.5640 - f1: 0.5527 - precision_f: 0.5720 - recall_f: 0.5517 - val_loss: 0.2493 - val_accuracy: 0.5763 - val_f1: 0.6437 - val_precision_f: 0.5503 - val_recall_f: 0.7776\n",
      "Epoch 3/10\n",
      "47/47 [==============================] - 32s 682ms/step - loss: 0.2500 - accuracy: 0.5014 - f1: 0.6658 - precision_f: 0.5018 - recall_f: 0.9943 - val_loss: 0.2501 - val_accuracy: 0.4929 - val_f1: 0.6641 - val_precision_f: 0.4979 - val_recall_f: 1.0000\n",
      "Epoch 4/10\n",
      "47/47 [==============================] - 32s 681ms/step - loss: 0.2500 - accuracy: 0.5013 - f1: 0.6674 - precision_f: 0.5014 - recall_f: 1.0000 - val_loss: 0.2501 - val_accuracy: 0.4929 - val_f1: 0.6553 - val_precision_f: 0.4882 - val_recall_f: 1.0000\n",
      "Epoch 5/10\n",
      "47/47 [==============================] - 32s 683ms/step - loss: 0.2500 - accuracy: 0.5013 - f1: 0.6675 - precision_f: 0.5015 - recall_f: 1.0000 - val_loss: 0.2501 - val_accuracy: 0.4929 - val_f1: 0.6619 - val_precision_f: 0.4953 - val_recall_f: 1.0000\n",
      "Epoch 6/10\n",
      "47/47 [==============================] - 32s 681ms/step - loss: 0.2500 - accuracy: 0.5013 - f1: 0.6670 - precision_f: 0.5014 - recall_f: 1.0000 - val_loss: 0.2500 - val_accuracy: 0.4929 - val_f1: 0.6625 - val_precision_f: 0.4960 - val_recall_f: 1.0000\n",
      "Epoch 7/10\n",
      "47/47 [==============================] - 32s 680ms/step - loss: 0.2500 - accuracy: 0.5013 - f1: 0.6673 - precision_f: 0.5014 - recall_f: 1.0000 - val_loss: 0.2500 - val_accuracy: 0.4929 - val_f1: 0.6595 - val_precision_f: 0.4927 - val_recall_f: 1.0000\n",
      "\n",
      "Epoch 00007: ReduceLROnPlateau reducing learning rate to 0.0004000000189989805.\n",
      "Epoch 8/10\n",
      "47/47 [==============================] - 32s 682ms/step - loss: 0.2500 - accuracy: 0.5013 - f1: 0.6673 - precision_f: 0.5014 - recall_f: 1.0000 - val_loss: 0.2500 - val_accuracy: 0.4929 - val_f1: 0.6576 - val_precision_f: 0.4908 - val_recall_f: 1.0000\n",
      "Epoch 9/10\n",
      "47/47 [==============================] - 32s 682ms/step - loss: 0.2500 - accuracy: 0.5013 - f1: 0.6674 - precision_f: 0.5014 - recall_f: 1.0000 - val_loss: 0.2500 - val_accuracy: 0.4929 - val_f1: 0.6647 - val_precision_f: 0.4986 - val_recall_f: 1.0000\n",
      "Epoch 10/10\n",
      "47/47 [==============================] - 32s 683ms/step - loss: 0.2500 - accuracy: 0.5013 - f1: 0.6673 - precision_f: 0.5015 - recall_f: 1.0000 - val_loss: 0.2500 - val_accuracy: 0.4929 - val_f1: 0.6636 - val_precision_f: 0.4973 - val_recall_f: 1.0000\n"
     ]
    }
   ],
   "source": [
    "epochs=10\n",
    "history_model_mobilenet_v3 = model_mobilenet_v3.fit(train_dataset_rgb, validation_data=test_dataset_rgb, epochs=epochs, \n",
    "                             callbacks=[keras.callbacks.EarlyStopping(monitor='val_loss', verbose=1, patience=15), \n",
    "                                       keras.callbacks.ReduceLROnPlateau(monitor='val_loss', factor=0.4, verbose=1, patience=5)])"
   ]
  },
  {
   "cell_type": "code",
   "execution_count": 225,
   "id": "4e4c927c-771e-4061-839b-b8620bc922f9",
   "metadata": {},
   "outputs": [
    {
     "data": {
      "image/png": "[encoded data removed]",
      "text/plain": [
       "<Figure size 432x288 with 1 Axes>"
      ]
     },
     "metadata": {},
     "output_type": "display_data"
    }
   ],
   "source": [
    "plot_training(history_model_mobilenet_v3)"
   ]
  },
  {
   "cell_type": "code",
   "execution_count": 226,
   "id": "085b9a27-6aaa-4b06-9d10-719a9e0bbfaa",
   "metadata": {},
   "outputs": [
    {
     "name": "stdout",
     "output_type": "stream",
     "text": [
      "3/3 [==============================] - 2s 340ms/step - loss: 0.2500 - accuracy: 0.5017 - f1: 0.6779 - precision_f: 0.5137 - recall_f: 1.0000\n"
     ]
    }
   ],
   "source": [
    "mobilenet_v3_results = evaluate_preds(model_mobilenet_v3, val_dataset_rgb)"
   ]
  },
  {
   "cell_type": "markdown",
   "id": "5e041eea-688a-4ccc-890e-cdf114588cc5",
   "metadata": {},
   "source": [
    "# Xception"
   ]
  },
  {
   "cell_type": "code",
   "execution_count": 227,
   "id": "8d4a8d9a-2246-485f-8045-fedbcc2cf516",
   "metadata": {},
   "outputs": [],
   "source": [
    "img_width = 224\n",
    "img_height = 224"
   ]
  },
  {
   "cell_type": "code",
   "execution_count": 228,
   "id": "74bc0570-57a9-4617-be0f-6e22b9be0296",
   "metadata": {},
   "outputs": [],
   "source": [
    "#Set seed\n",
    "tf.random.set_seed(42)\n",
    "\n",
    "base_model = tf.keras.applications.xception.Xception(include_top=False)\n",
    "base_model.trainable = False\n",
    "\n",
    "inputs = keras.layers.Input((img_width, img_height, 3))\n",
    "x = base_model(inputs, training=False)\n",
    "x = keras.layers.GlobalAveragePooling2D()(x)\n",
    "x = keras.layers.Dense(512, activation=\"relu\")(x)\n",
    "x = keras.layers.Dropout(0.1)(x)\n",
    "outputs = keras.layers.Dense(256, activation=\"relu\")(x)\n",
    "\n",
    "base_model_xception = keras.models.Model(inputs, outputs)"
   ]
  },
  {
   "cell_type": "code",
   "execution_count": 229,
   "id": "2c7fc69d-5aee-458d-8997-f863908bb3e6",
   "metadata": {},
   "outputs": [
    {
     "name": "stdout",
     "output_type": "stream",
     "text": [
      "Model: \"model_53\"\n",
      "_________________________________________________________________\n",
      "Layer (type)                 Output Shape              Param #   \n",
      "=================================================================\n",
      "input_98 (InputLayer)        [(None, 224, 224, 3)]     0         \n",
      "_________________________________________________________________\n",
      "xception (Functional)        (None, None, None, 2048)  20861480  \n",
      "_________________________________________________________________\n",
      "global_average_pooling2d_24  (None, 2048)              0         \n",
      "_________________________________________________________________\n",
      "dense_74 (Dense)             (None, 512)               1049088   \n",
      "_________________________________________________________________\n",
      "dropout_24 (Dropout)         (None, 512)               0         \n",
      "_________________________________________________________________\n",
      "dense_75 (Dense)             (None, 256)               131328    \n",
      "=================================================================\n",
      "Total params: 22,041,896\n",
      "Trainable params: 1,180,416\n",
      "Non-trainable params: 20,861,480\n",
      "_________________________________________________________________\n"
     ]
    }
   ],
   "source": [
    "base_model_xception.summary()"
   ]
  },
  {
   "cell_type": "code",
   "execution_count": 230,
   "id": "dcf31ef3-1c64-4e07-9d8c-5560e9750c58",
   "metadata": {},
   "outputs": [],
   "source": [
    "#define inputs and ouputs\n",
    "img_a = keras.layers.Input((img_width, img_height, 3))\n",
    "img_b = keras.layers.Input((img_width, img_height, 3))\n",
    "\n",
    "feat_vect_a = base_model_xception(img_a)\n",
    "feat_vect_b = base_model_xception(img_b)\n",
    "\n",
    "distance = keras.layers.Lambda(euclidean_distance)([feat_vect_a, feat_vect_b])\n",
    "outputs = keras.layers.Dense(1, activation=\"sigmoid\")(distance)"
   ]
  },
  {
   "cell_type": "code",
   "execution_count": 231,
   "id": "bec9e742-fa51-4816-bda1-90f6fde22ec6",
   "metadata": {},
   "outputs": [],
   "source": [
    "#Compile the model \n",
    "model_xception = keras.models.Model(inputs=[img_a, img_b], outputs=outputs)\n",
    "model_xception.compile(loss=contrastive_loss, optimizer=\"Adam\", metrics=[\"accuracy\", f1, precision_f, recall_f])"
   ]
  },
  {
   "cell_type": "code",
   "execution_count": 232,
   "id": "ba8b4fc2-2e55-4e6d-8af0-4ea1fd1c5dde",
   "metadata": {},
   "outputs": [
    {
     "name": "stdout",
     "output_type": "stream",
     "text": [
      "Epoch 1/10\n",
      "47/47 [==============================] - 49s 995ms/step - loss: 0.2470 - accuracy: 0.4988 - f1: 0.0030 - precision_f: 0.1078 - recall_f: 0.0015 - val_loss: 0.2392 - val_accuracy: 0.5225 - val_f1: 0.1686 - val_precision_f: 0.5904 - val_recall_f: 0.0997\n",
      "Epoch 2/10\n",
      "47/47 [==============================] - 46s 977ms/step - loss: 0.2371 - accuracy: 0.5225 - f1: 0.1487 - precision_f: 0.7134 - recall_f: 0.0868 - val_loss: 0.2325 - val_accuracy: 0.5612 - val_f1: 0.3681 - val_precision_f: 0.6138 - val_recall_f: 0.2650\n",
      "Epoch 3/10\n",
      "47/47 [==============================] - 46s 979ms/step - loss: 0.2312 - accuracy: 0.5723 - f1: 0.3772 - precision_f: 0.7004 - recall_f: 0.2671 - val_loss: 0.2293 - val_accuracy: 0.5804 - val_f1: 0.4441 - val_precision_f: 0.6272 - val_recall_f: 0.3444\n",
      "Epoch 4/10\n",
      "47/47 [==============================] - 46s 979ms/step - loss: 0.2264 - accuracy: 0.5985 - f1: 0.4815 - precision_f: 0.6839 - recall_f: 0.3777 - val_loss: 0.2267 - val_accuracy: 0.5954 - val_f1: 0.5189 - val_precision_f: 0.6229 - val_recall_f: 0.4469\n",
      "Epoch 5/10\n",
      "47/47 [==============================] - 46s 979ms/step - loss: 0.2215 - accuracy: 0.6321 - f1: 0.5674 - precision_f: 0.6924 - recall_f: 0.4853 - val_loss: 0.2244 - val_accuracy: 0.6025 - val_f1: 0.5472 - val_precision_f: 0.6205 - val_recall_f: 0.4909\n",
      "Epoch 6/10\n",
      "47/47 [==============================] - 46s 978ms/step - loss: 0.2174 - accuracy: 0.6475 - f1: 0.5939 - precision_f: 0.7016 - recall_f: 0.5203 - val_loss: 0.2232 - val_accuracy: 0.6062 - val_f1: 0.5525 - val_precision_f: 0.6322 - val_recall_f: 0.4928\n",
      "Epoch 7/10\n",
      "47/47 [==============================] - 46s 980ms/step - loss: 0.2128 - accuracy: 0.6700 - f1: 0.6336 - precision_f: 0.7145 - recall_f: 0.5743 - val_loss: 0.2224 - val_accuracy: 0.6129 - val_f1: 0.5613 - val_precision_f: 0.6271 - val_recall_f: 0.5106\n",
      "Epoch 8/10\n",
      "47/47 [==============================] - 46s 980ms/step - loss: 0.2094 - accuracy: 0.6758 - f1: 0.6420 - precision_f: 0.7186 - recall_f: 0.5846 - val_loss: 0.2214 - val_accuracy: 0.6237 - val_f1: 0.6002 - val_precision_f: 0.6306 - val_recall_f: 0.5752\n",
      "Epoch 9/10\n",
      "47/47 [==============================] - 46s 980ms/step - loss: 0.2045 - accuracy: 0.6943 - f1: 0.6707 - precision_f: 0.7296 - recall_f: 0.6241 - val_loss: 0.2202 - val_accuracy: 0.6229 - val_f1: 0.5945 - val_precision_f: 0.6354 - val_recall_f: 0.5627\n",
      "Epoch 10/10\n",
      "47/47 [==============================] - 46s 981ms/step - loss: 0.2004 - accuracy: 0.7096 - f1: 0.6908 - precision_f: 0.7392 - recall_f: 0.6514 - val_loss: 0.2173 - val_accuracy: 0.6333 - val_f1: 0.6098 - val_precision_f: 0.6370 - val_recall_f: 0.5865\n"
     ]
    }
   ],
   "source": [
    "epochs=10\n",
    "history_model_xception = model_xception.fit(train_dataset_rgb, validation_data=test_dataset_rgb, epochs=epochs, \n",
    "                             callbacks=[keras.callbacks.EarlyStopping(monitor='val_loss', verbose=1, patience=15), \n",
    "                                       keras.callbacks.ReduceLROnPlateau(monitor='val_loss', factor=0.4, verbose=1, patience=5)])"
   ]
  },
  {
   "cell_type": "code",
   "execution_count": 233,
   "id": "2591227b-2b13-4d26-955d-a7f7f288918c",
   "metadata": {},
   "outputs": [
    {
     "data": {
      "image/png": "[encoded data removed]",
      "text/plain": [
       "<Figure size 432x288 with 1 Axes>"
      ]
     },
     "metadata": {},
     "output_type": "display_data"
    }
   ],
   "source": [
    "plot_training(history_model_xception)"
   ]
  },
  {
   "cell_type": "code",
   "execution_count": 234,
   "id": "83ff065b-782a-45b1-8302-b53ff98a6a5c",
   "metadata": {},
   "outputs": [
    {
     "name": "stdout",
     "output_type": "stream",
     "text": [
      "3/3 [==============================] - 3s 515ms/step - loss: 0.2256 - accuracy: 0.6100 - f1: 0.5862 - precision_f: 0.6117 - recall_f: 0.5635\n"
     ]
    }
   ],
   "source": [
    "xception_results = evaluate_preds(model_xception, val_dataset_rgb)"
   ]
  },
  {
   "cell_type": "markdown",
   "id": "9c5c0fc2-acbd-4b46-b1f5-b4ae9f21b6e6",
   "metadata": {},
   "source": [
    "# Inception V3"
   ]
  },
  {
   "cell_type": "code",
   "execution_count": 235,
   "id": "50e28fd5-7b3e-4e13-a6b3-cbd4514eb208",
   "metadata": {},
   "outputs": [],
   "source": [
    "img_width = 224\n",
    "img_height = 224"
   ]
  },
  {
   "cell_type": "code",
   "execution_count": 236,
   "id": "6e9ea01b-aa0e-42a4-987a-3d118c0d3ad1",
   "metadata": {},
   "outputs": [],
   "source": [
    "#Set seed\n",
    "tf.random.set_seed(42)\n",
    "\n",
    "base_model = tf.keras.applications.inception_v3.InceptionV3(include_top=False)\n",
    "base_model.trainable = False\n",
    "\n",
    "inputs = keras.layers.Input((img_width, img_height, 3))\n",
    "x = base_model(inputs, training=False)\n",
    "x = keras.layers.GlobalAveragePooling2D()(x)\n",
    "x = keras.layers.Dense(512, activation=\"relu\")(x)\n",
    "x = keras.layers.Dropout(0.1)(x)\n",
    "outputs = keras.layers.Dense(256, activation=\"relu\")(x)\n",
    "\n",
    "base_model_inception_v3 = keras.models.Model(inputs, outputs)"
   ]
  },
  {
   "cell_type": "code",
   "execution_count": 237,
   "id": "45b6bb86-b0f4-470c-a168-67ffe7c15e71",
   "metadata": {},
   "outputs": [
    {
     "name": "stdout",
     "output_type": "stream",
     "text": [
      "Model: \"model_55\"\n",
      "_________________________________________________________________\n",
      "Layer (type)                 Output Shape              Param #   \n",
      "=================================================================\n",
      "input_102 (InputLayer)       [(None, 224, 224, 3)]     0         \n",
      "_________________________________________________________________\n",
      "inception_v3 (Functional)    (None, None, None, 2048)  21802784  \n",
      "_________________________________________________________________\n",
      "global_average_pooling2d_25  (None, 2048)              0         \n",
      "_________________________________________________________________\n",
      "dense_77 (Dense)             (None, 512)               1049088   \n",
      "_________________________________________________________________\n",
      "dropout_25 (Dropout)         (None, 512)               0         \n",
      "_________________________________________________________________\n",
      "dense_78 (Dense)             (None, 256)               131328    \n",
      "=================================================================\n",
      "Total params: 22,983,200\n",
      "Trainable params: 1,180,416\n",
      "Non-trainable params: 21,802,784\n",
      "_________________________________________________________________\n"
     ]
    }
   ],
   "source": [
    "base_model_inception_v3.summary()"
   ]
  },
  {
   "cell_type": "code",
   "execution_count": 238,
   "id": "7cb6e739-60c5-44c3-af44-10170302696c",
   "metadata": {},
   "outputs": [],
   "source": [
    "#define inputs and ouputs\n",
    "img_a = keras.layers.Input((img_width, img_height, 3))\n",
    "img_b = keras.layers.Input((img_width, img_height, 3))\n",
    "\n",
    "feat_vect_a = base_model_inception_v3(img_a)\n",
    "feat_vect_b = base_model_inception_v3(img_b)\n",
    "\n",
    "distance = keras.layers.Lambda(euclidean_distance)([feat_vect_a, feat_vect_b])\n",
    "outputs = keras.layers.Dense(1, activation=\"sigmoid\")(distance)"
   ]
  },
  {
   "cell_type": "code",
   "execution_count": 239,
   "id": "a2f17624-fd34-4d09-8765-72b6f94139c9",
   "metadata": {},
   "outputs": [],
   "source": [
    "#Compile the model \n",
    "model_inception_v3 = keras.models.Model(inputs=[img_a, img_b], outputs=outputs)\n",
    "model_inception_v3.compile(loss=contrastive_loss, optimizer=\"Adam\", metrics=[\"accuracy\", f1, precision_f, recall_f])"
   ]
  },
  {
   "cell_type": "code",
   "execution_count": 240,
   "id": "5d2b9b85-14ee-4d23-a50c-484d3ac8ed08",
   "metadata": {},
   "outputs": [
    {
     "name": "stdout",
     "output_type": "stream",
     "text": [
      "Epoch 1/10\n",
      "47/47 [==============================] - 42s 810ms/step - loss: 0.2775 - accuracy: 0.5102 - f1: 0.3464 - precision_f: 0.3508 - recall_f: 0.3897 - val_loss: 0.2501 - val_accuracy: 0.5029 - val_f1: 0.6326 - val_precision_f: 0.4957 - val_recall_f: 0.8761\n",
      "Epoch 2/10\n",
      "47/47 [==============================] - 36s 780ms/step - loss: 0.2500 - accuracy: 0.5056 - f1: 0.6247 - precision_f: 0.5040 - recall_f: 0.8745 - val_loss: 0.2501 - val_accuracy: 0.4929 - val_f1: 0.6641 - val_precision_f: 0.4986 - val_recall_f: 1.0000\n",
      "Epoch 3/10\n",
      "47/47 [==============================] - 36s 778ms/step - loss: 0.2500 - accuracy: 0.5010 - f1: 0.6664 - precision_f: 0.5012 - recall_f: 0.9964 - val_loss: 0.2501 - val_accuracy: 0.4929 - val_f1: 0.6631 - val_precision_f: 0.4973 - val_recall_f: 1.0000\n",
      "Epoch 4/10\n",
      "47/47 [==============================] - 36s 779ms/step - loss: 0.2500 - accuracy: 0.5013 - f1: 0.6675 - precision_f: 0.5014 - recall_f: 0.9997 - val_loss: 0.2501 - val_accuracy: 0.4929 - val_f1: 0.6585 - val_precision_f: 0.4914 - val_recall_f: 1.0000\n",
      "Epoch 5/10\n",
      "47/47 [==============================] - 36s 779ms/step - loss: 0.2500 - accuracy: 0.5014 - f1: 0.6672 - precision_f: 0.5015 - recall_f: 0.9994 - val_loss: 0.2501 - val_accuracy: 0.4929 - val_f1: 0.6633 - val_precision_f: 0.4979 - val_recall_f: 1.0000\n",
      "Epoch 6/10\n",
      "47/47 [==============================] - 36s 778ms/step - loss: 0.2500 - accuracy: 0.5018 - f1: 0.6667 - precision_f: 0.5016 - recall_f: 0.9962 - val_loss: 0.2501 - val_accuracy: 0.4929 - val_f1: 0.6610 - val_precision_f: 0.4940 - val_recall_f: 1.0000\n",
      "\n",
      "Epoch 00006: ReduceLROnPlateau reducing learning rate to 0.0004000000189989805.\n",
      "Epoch 7/10\n",
      "47/47 [==============================] - 36s 778ms/step - loss: 0.2500 - accuracy: 0.5013 - f1: 0.6662 - precision_f: 0.5013 - recall_f: 0.9957 - val_loss: 0.2500 - val_accuracy: 0.4925 - val_f1: 0.6585 - val_precision_f: 0.4935 - val_recall_f: 0.9935\n",
      "Epoch 8/10\n",
      "47/47 [==============================] - 36s 778ms/step - loss: 0.2500 - accuracy: 0.5071 - f1: 0.6434 - precision_f: 0.5057 - recall_f: 0.9059 - val_loss: 0.2501 - val_accuracy: 0.4929 - val_f1: 0.6592 - val_precision_f: 0.4921 - val_recall_f: 1.0000\n",
      "Epoch 9/10\n",
      "47/47 [==============================] - 36s 777ms/step - loss: 0.2500 - accuracy: 0.5018 - f1: 0.6676 - precision_f: 0.5017 - recall_f: 0.9999 - val_loss: 0.2501 - val_accuracy: 0.4929 - val_f1: 0.6602 - val_precision_f: 0.4963 - val_recall_f: 0.9896\n",
      "Epoch 10/10\n",
      "47/47 [==============================] - 36s 779ms/step - loss: 0.2499 - accuracy: 0.5026 - f1: 0.6631 - precision_f: 0.5021 - recall_f: 0.9787 - val_loss: 0.2502 - val_accuracy: 0.4917 - val_f1: 0.6570 - val_precision_f: 0.4930 - val_recall_f: 0.9860\n"
     ]
    }
   ],
   "source": [
    "epochs=10\n",
    "history_model_inception_v3 = model_inception_v3.fit(train_dataset_rgb, validation_data=test_dataset_rgb, epochs=epochs, \n",
    "                             callbacks=[keras.callbacks.EarlyStopping(monitor='val_loss', verbose=1, patience=15), \n",
    "                                       keras.callbacks.ReduceLROnPlateau(monitor='val_loss', factor=0.4, verbose=1, patience=5)])"
   ]
  },
  {
   "cell_type": "code",
   "execution_count": 241,
   "id": "d76f75f3-34a0-4981-9149-0068585ad36e",
   "metadata": {},
   "outputs": [
    {
     "data": {
      "image/png": "[encoded data removed]",
      "text/plain": [
       "<Figure size 432x288 with 1 Axes>"
      ]
     },
     "metadata": {},
     "output_type": "display_data"
    }
   ],
   "source": [
    "plot_training(history_model_inception_v3)"
   ]
  },
  {
   "cell_type": "code",
   "execution_count": 242,
   "id": "fc0f52d8-a5d8-4746-92fa-2682fed8dca3",
   "metadata": {},
   "outputs": [
    {
     "name": "stdout",
     "output_type": "stream",
     "text": [
      "3/3 [==============================] - 2s 414ms/step - loss: 0.2496 - accuracy: 0.5033 - f1: 0.6735 - precision_f: 0.5122 - recall_f: 0.9851\n"
     ]
    }
   ],
   "source": [
    "inception_v3_results = evaluate_preds(model_inception_v3, val_dataset_rgb)"
   ]
  },
  {
   "cell_type": "markdown",
   "id": "26dce9ce-af48-40ac-8678-68805e82cda4",
   "metadata": {},
   "source": [
    "# Model comparison"
   ]
  },
  {
   "cell_type": "code",
   "execution_count": 246,
   "id": "717d304c-2b4f-4c09-bb0c-3c3d319d03cf",
   "metadata": {},
   "outputs": [],
   "source": [
    "model_results = pd.DataFrame({\"EfficientNetB0\": efficientnet_b0_results,\n",
    "                              \"VGG16\": vgg16_results,\n",
    "                              \"VGG19\": vgg19_results,\n",
    "                              \"Resnet 101 V2\": resnet_101_results,\n",
    "                              \"Inception Resnet V2\": inception_resnet_results,\n",
    "                              \"MobileNet V3 Large\": mobilenet_v3_results,\n",
    "                              \"Xcpetion\": xception_results,\n",
    "                              \"Inception V3\": inception_v3_results\n",
    "}).T"
   ]
  },
  {
   "cell_type": "code",
   "execution_count": 248,
   "id": "6d0d924d-3831-454f-ab75-5933f0eff8d3",
   "metadata": {},
   "outputs": [
    {
     "data": {
      "text/html": [
       "<div>\n",
       "<style scoped>\n",
       "    .dataframe tbody tr th:only-of-type {\n",
       "        vertical-align: middle;\n",
       "    }\n",
       "\n",
       "    .dataframe tbody tr th {\n",
       "        vertical-align: top;\n",
       "    }\n",
       "\n",
       "    .dataframe thead th {\n",
       "        text-align: right;\n",
       "    }\n",
       "</style>\n",
       "<table border=\"1\" class=\"dataframe\">\n",
       "  <thead>\n",
       "    <tr style=\"text-align: right;\">\n",
       "      <th></th>\n",
       "      <th>loss</th>\n",
       "      <th>accuracy</th>\n",
       "      <th>f1-score</th>\n",
       "      <th>precision</th>\n",
       "      <th>recall</th>\n",
       "    </tr>\n",
       "  </thead>\n",
       "  <tbody>\n",
       "    <tr>\n",
       "      <th>EfficientNetB0</th>\n",
       "      <td>0.249997</td>\n",
       "      <td>0.501667</td>\n",
       "      <td>0.675909</td>\n",
       "      <td>0.511245</td>\n",
       "      <td>1.000000</td>\n",
       "    </tr>\n",
       "    <tr>\n",
       "      <th>VGG19</th>\n",
       "      <td>0.250000</td>\n",
       "      <td>0.501667</td>\n",
       "      <td>0.675995</td>\n",
       "      <td>0.511245</td>\n",
       "      <td>1.000000</td>\n",
       "    </tr>\n",
       "    <tr>\n",
       "      <th>MobileNet V3 Large</th>\n",
       "      <td>0.249997</td>\n",
       "      <td>0.501667</td>\n",
       "      <td>0.677933</td>\n",
       "      <td>0.513731</td>\n",
       "      <td>1.000000</td>\n",
       "    </tr>\n",
       "    <tr>\n",
       "      <th>Inception V3</th>\n",
       "      <td>0.249595</td>\n",
       "      <td>0.503333</td>\n",
       "      <td>0.673529</td>\n",
       "      <td>0.512189</td>\n",
       "      <td>0.985095</td>\n",
       "    </tr>\n",
       "    <tr>\n",
       "      <th>Xcpetion</th>\n",
       "      <td>0.225565</td>\n",
       "      <td>0.610000</td>\n",
       "      <td>0.586169</td>\n",
       "      <td>0.611699</td>\n",
       "      <td>0.563531</td>\n",
       "    </tr>\n",
       "    <tr>\n",
       "      <th>Resnet 101 V2</th>\n",
       "      <td>0.223314</td>\n",
       "      <td>0.621667</td>\n",
       "      <td>0.581072</td>\n",
       "      <td>0.687549</td>\n",
       "      <td>0.512559</td>\n",
       "    </tr>\n",
       "    <tr>\n",
       "      <th>Inception Resnet V2</th>\n",
       "      <td>0.220454</td>\n",
       "      <td>0.621667</td>\n",
       "      <td>0.624908</td>\n",
       "      <td>0.642437</td>\n",
       "      <td>0.609410</td>\n",
       "    </tr>\n",
       "    <tr>\n",
       "      <th>VGG16</th>\n",
       "      <td>0.223556</td>\n",
       "      <td>0.630000</td>\n",
       "      <td>0.642112</td>\n",
       "      <td>0.618743</td>\n",
       "      <td>0.668314</td>\n",
       "    </tr>\n",
       "  </tbody>\n",
       "</table>\n",
       "</div>"
      ],
      "text/plain": [
       "                         loss  accuracy  f1-score  precision    recall\n",
       "EfficientNetB0       0.249997  0.501667  0.675909   0.511245  1.000000\n",
       "VGG19                0.250000  0.501667  0.675995   0.511245  1.000000\n",
       "MobileNet V3 Large   0.249997  0.501667  0.677933   0.513731  1.000000\n",
       "Inception V3         0.249595  0.503333  0.673529   0.512189  0.985095\n",
       "Xcpetion             0.225565  0.610000  0.586169   0.611699  0.563531\n",
       "Resnet 101 V2        0.223314  0.621667  0.581072   0.687549  0.512559\n",
       "Inception Resnet V2  0.220454  0.621667  0.624908   0.642437  0.609410\n",
       "VGG16                0.223556  0.630000  0.642112   0.618743  0.668314"
      ]
     },
     "execution_count": 248,
     "metadata": {},
     "output_type": "execute_result"
    }
   ],
   "source": [
    "model_results.sort_values(by=\"accuracy\")"
   ]
  }
 ],
 "metadata": {
  "kernelspec": {
   "display_name": "Python 3",
   "language": "python",
   "name": "python3"
  },
  "language_info": {
   "codemirror_mode": {
    "name": "ipython",
    "version": 3
   },
   "file_extension": ".py",
   "mimetype": "text/x-python",
   "name": "python",
   "nbconvert_exporter": "python",
   "pygments_lexer": "ipython3",
   "version": "3.6.9"
  }
 },
 "nbformat": 4,
 "nbformat_minor": 5
}
