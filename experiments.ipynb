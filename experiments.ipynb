{
 "cells": [
  {
   "cell_type": "code",
   "execution_count": 2,
   "id": "ecbd41d2-0312-46cb-9daf-13f1853d525b",
   "metadata": {},
   "outputs": [],
   "source": [
    "%load_ext autoreload\n",
    "%autoreload 2"
   ]
  },
  {
   "cell_type": "code",
   "execution_count": 3,
   "id": "085a9386",
   "metadata": {},
   "outputs": [],
   "source": [
    "import tensorflow as tf\n",
    "from tensorflow import keras\n",
    "from tensorflow.keras import backend as K\n",
    "\n",
    "from helper_functions import euclidean_distance\n",
    "from helper_functions import contrastive_loss\n",
    "from helper_functions import load_arrays\n",
    "from helper_functions import plot_training\n",
    "from helper_functions import load_and_split_data\n",
    "from helper_functions import plot_confusion_matrix\n",
    "from helper_functions import get_model_predictions\n",
    "from helper_functions import plot_roc_curve\n",
    "from helper_functions import plot_prec_rec_curve"
   ]
  },
  {
   "cell_type": "markdown",
   "id": "66c644c0",
   "metadata": {},
   "source": [
    "# Load and prepare Data"
   ]
  },
  {
   "cell_type": "markdown",
   "id": "534b17dd",
   "metadata": {},
   "source": [
    "### Load and create fast input pipeline with tf.data.dataset"
   ]
  },
  {
   "cell_type": "code",
   "execution_count": 4,
   "id": "d91cf3d7",
   "metadata": {},
   "outputs": [
    {
     "name": "stdout",
     "output_type": "stream",
     "text": [
      "CPU times: user 11.9 s, sys: 2.81 s, total: 14.7 s\n",
      "Wall time: 14.7 s\n"
     ]
    }
   ],
   "source": [
    "%%time\n",
    "train_dataset, test_dataset, val_dataset = load_and_split_data(\"npz_datasets/data_x_10000.npz\", \"npz_datasets/data_y_10000.npz\", split_size=80, batch_size=256)"
   ]
  },
  {
   "cell_type": "markdown",
   "id": "5982ae04",
   "metadata": {},
   "source": [
    "# Baseline Model"
   ]
  },
  {
   "cell_type": "code",
   "execution_count": 4,
   "id": "88e7c6b6",
   "metadata": {},
   "outputs": [],
   "source": [
    "img_width = 224\n",
    "img_height = 224"
   ]
  },
  {
   "cell_type": "code",
   "execution_count": 5,
   "id": "ad6bb6c7",
   "metadata": {},
   "outputs": [],
   "source": [
    "#Set seed\n",
    "tf.random.set_seed(42)\n",
    "\n",
    "#Build the model\n",
    "inputs = keras.layers.Input((img_width, img_height, 1))\n",
    "\n",
    "x = keras.layers.Conv2D(4, (3,3), activation=\"relu\")(inputs)\n",
    "x = keras.layers.MaxPool2D(3,3)(x)\n",
    "x = keras.layers.Conv2D(16, (3,3), activation=\"relu\")(x)\n",
    "x = keras.layers.MaxPool2D(3,3)(x)\n",
    "x = keras.layers.Conv2D(32, (3,3), activation=\"relu\")(x)\n",
    "x = keras.layers.MaxPool2D(3,3)(x)\n",
    "\n",
    "x = keras.layers.Flatten()(x)\n",
    "\n",
    "outputs = keras.layers.Dense(48, activation=\"relu\")(x)\n",
    "\n",
    "base_model_1 = keras.models.Model(inputs, outputs)"
   ]
  },
  {
   "cell_type": "code",
   "execution_count": 6,
   "id": "a083cf48",
   "metadata": {},
   "outputs": [
    {
     "name": "stdout",
     "output_type": "stream",
     "text": [
      "Model: \"model\"\n",
      "_________________________________________________________________\n",
      "Layer (type)                 Output Shape              Param #   \n",
      "=================================================================\n",
      "input_1 (InputLayer)         [(None, 224, 224, 1)]     0         \n",
      "_________________________________________________________________\n",
      "conv2d (Conv2D)              (None, 222, 222, 4)       40        \n",
      "_________________________________________________________________\n",
      "max_pooling2d (MaxPooling2D) (None, 74, 74, 4)         0         \n",
      "_________________________________________________________________\n",
      "conv2d_1 (Conv2D)            (None, 72, 72, 16)        592       \n",
      "_________________________________________________________________\n",
      "max_pooling2d_1 (MaxPooling2 (None, 24, 24, 16)        0         \n",
      "_________________________________________________________________\n",
      "conv2d_2 (Conv2D)            (None, 22, 22, 32)        4640      \n",
      "_________________________________________________________________\n",
      "max_pooling2d_2 (MaxPooling2 (None, 7, 7, 32)          0         \n",
      "_________________________________________________________________\n",
      "flatten (Flatten)            (None, 1568)              0         \n",
      "_________________________________________________________________\n",
      "dense (Dense)                (None, 48)                75312     \n",
      "=================================================================\n",
      "Total params: 80,584\n",
      "Trainable params: 80,584\n",
      "Non-trainable params: 0\n",
      "_________________________________________________________________\n"
     ]
    }
   ],
   "source": [
    "base_model_1.summary()"
   ]
  },
  {
   "cell_type": "code",
   "execution_count": 7,
   "id": "41cf29d8",
   "metadata": {},
   "outputs": [],
   "source": [
    "#define inputs and ouputs\n",
    "img_a = keras.layers.Input((img_width, img_height, 1))\n",
    "img_b = keras.layers.Input((img_width, img_height, 1))\n",
    "\n",
    "feat_vect_a = base_model_1(img_a)\n",
    "feat_vect_b = base_model_1(img_b)\n",
    "\n",
    "distance = keras.layers.Lambda(euclidean_distance)([feat_vect_a, feat_vect_b])"
   ]
  },
  {
   "cell_type": "code",
   "execution_count": 8,
   "id": "447d279a",
   "metadata": {},
   "outputs": [],
   "source": [
    "#Compile the model \n",
    "model_1 = keras.models.Model(inputs=[img_a, img_b], outputs=distance)\n",
    "model_1.compile(loss=contrastive_loss, optimizer=\"Adam\", metrics=[\"accuracy\"])"
   ]
  },
  {
   "cell_type": "code",
   "execution_count": 9,
   "id": "a44b5680",
   "metadata": {},
   "outputs": [
    {
     "name": "stdout",
     "output_type": "stream",
     "text": [
      "Epoch 1/10\n",
      "32/32 [==============================] - 9s 212ms/step - loss: 0.3103 - accuracy: 0.4841 - val_loss: 0.2907 - val_accuracy: 0.4619\n",
      "Epoch 2/10\n",
      "32/32 [==============================] - 6s 204ms/step - loss: 0.2682 - accuracy: 0.5094 - val_loss: 0.2735 - val_accuracy: 0.4725\n",
      "Epoch 3/10\n",
      "32/32 [==============================] - 6s 204ms/step - loss: 0.2540 - accuracy: 0.5332 - val_loss: 0.2682 - val_accuracy: 0.4819\n",
      "Epoch 4/10\n",
      "32/32 [==============================] - 6s 203ms/step - loss: 0.2454 - accuracy: 0.5609 - val_loss: 0.2674 - val_accuracy: 0.4913\n",
      "Epoch 5/10\n",
      "32/32 [==============================] - 7s 206ms/step - loss: 0.2384 - accuracy: 0.5890 - val_loss: 0.2666 - val_accuracy: 0.4956\n",
      "Epoch 6/10\n",
      "32/32 [==============================] - 7s 205ms/step - loss: 0.2327 - accuracy: 0.6097 - val_loss: 0.2663 - val_accuracy: 0.4944\n",
      "Epoch 7/10\n",
      "32/32 [==============================] - 6s 204ms/step - loss: 0.2258 - accuracy: 0.6376 - val_loss: 0.2665 - val_accuracy: 0.4844\n",
      "Epoch 8/10\n",
      "32/32 [==============================] - 6s 202ms/step - loss: 0.2196 - accuracy: 0.6622 - val_loss: 0.2673 - val_accuracy: 0.4888\n",
      "Epoch 9/10\n",
      "32/32 [==============================] - 7s 205ms/step - loss: 0.2134 - accuracy: 0.6805 - val_loss: 0.2681 - val_accuracy: 0.4894\n",
      "Epoch 10/10\n",
      "32/32 [==============================] - 6s 203ms/step - loss: 0.2072 - accuracy: 0.7039 - val_loss: 0.2679 - val_accuracy: 0.4925\n"
     ]
    }
   ],
   "source": [
    "epochs=10\n",
    "history_model_1 = model_1.fit(train_dataset, validation_data=test_dataset, epochs=epochs)"
   ]
  },
  {
   "cell_type": "code",
   "execution_count": 10,
   "id": "7e4345a5",
   "metadata": {},
   "outputs": [
    {
     "data": {
      "image/png": "[encoded data removed]",
      "text/plain": [
       "<Figure size 432x288 with 1 Axes>"
      ]
     },
     "metadata": {},
     "output_type": "display_data"
    }
   ],
   "source": [
    "plot_training(history_model_1)"
   ]
  },
  {
   "cell_type": "markdown",
   "id": "b4ef0dce-06ba-4868-b768-5cbd84ef3821",
   "metadata": {},
   "source": [
    "# Evaluate the model"
   ]
  },
  {
   "cell_type": "code",
   "execution_count": 11,
   "id": "4034b0e1-ff11-4ba6-9908-85a92b596ecb",
   "metadata": {},
   "outputs": [
    {
     "name": "stdout",
     "output_type": "stream",
     "text": [
      "2/2 [==============================] - 0s 174ms/step - loss: 0.2650 - accuracy: 0.4800\n"
     ]
    },
    {
     "data": {
      "text/plain": [
       "[0.2650398313999176, 0.47999998927116394]"
      ]
     },
     "execution_count": 11,
     "metadata": {},
     "output_type": "execute_result"
    }
   ],
   "source": [
    "model_1.evaluate(val_dataset)"
   ]
  },
  {
   "cell_type": "code",
   "execution_count": 12,
   "id": "c3f0551b-4e70-4599-90bf-57a428700c9b",
   "metadata": {},
   "outputs": [
    {
     "data": {
      "image/png": "[encoded data removed]",
      "text/plain": [
       "<Figure size 432x288 with 2 Axes>"
      ]
     },
     "metadata": {},
     "output_type": "display_data"
    }
   ],
   "source": [
    "preds, labels = get_model_predictions(val_dataset, model_1)\n",
    "plot_confusion_matrix(preds, labels)"
   ]
  },
  {
   "cell_type": "code",
   "execution_count": 13,
   "id": "3e8a59e4-9703-4d79-9fed-243ef4f04f3a",
   "metadata": {},
   "outputs": [
    {
     "data": {
      "image/png": "[encoded data removed]",
      "text/plain": [
       "<Figure size 432x288 with 1 Axes>"
      ]
     },
     "metadata": {},
     "output_type": "display_data"
    }
   ],
   "source": [
    "plot_roc_curve(preds, labels)"
   ]
  },
  {
   "cell_type": "code",
   "execution_count": 14,
   "id": "97dc18e9-653c-49c4-b983-737311049258",
   "metadata": {},
   "outputs": [
    {
     "data": {
      "image/png": "[encoded data removed]",
      "text/plain": [
       "<Figure size 432x288 with 1 Axes>"
      ]
     },
     "metadata": {},
     "output_type": "display_data"
    }
   ],
   "source": [
    "plot_prec_rec_curve(preds, labels)"
   ]
  },
  {
   "cell_type": "markdown",
   "id": "ba794820-d54c-4377-b652-13cf9d07be33",
   "metadata": {},
   "source": [
    "# EfficientNetB0"
   ]
  },
  {
   "cell_type": "code",
   "execution_count": 6,
   "id": "7437cede-1017-4419-9e77-4cacfea2f36b",
   "metadata": {},
   "outputs": [],
   "source": [
    "img_width = 224\n",
    "img_height = 224"
   ]
  },
  {
   "cell_type": "code",
   "execution_count": 10,
   "id": "287d7630-857b-4bc7-88e7-9a532c5ccf29",
   "metadata": {},
   "outputs": [
    {
     "name": "stdout",
     "output_type": "stream",
     "text": [
      "WARNING:tensorflow:Model was constructed with shape (None, None, None, 3) for input KerasTensor(type_spec=TensorSpec(shape=(None, None, None, 3), dtype=tf.float32, name='input_8'), name='input_8', description=\"created by layer 'input_8'\"), but it was called on an input with incompatible shape (None, 224, 224, 1).\n"
     ]
    }
   ],
   "source": [
    "#Set seed\n",
    "tf.random.set_seed(42)\n",
    "\n",
    "base_model = tf.keras.applications.EfficientNetB0(include_top=False)\n",
    "base_model.trainable = False\n",
    "\n",
    "inputs = keras.layers.Input((img_width, img_height, 1))\n",
    "x = base_model(inputs, training=False)\n",
    "x = keras.layers.GlobalAveragePooling2D()(x)\n",
    "outputs = keras.layers.Dense(48, activation=\"relu\")(x)\n",
    "\n",
    "base_model_2 = keras.models.Model(inputs, outputs)"
   ]
  },
  {
   "cell_type": "code",
   "execution_count": 11,
   "id": "7b869c7f-62ab-4d8a-b134-df017a3565ba",
   "metadata": {},
   "outputs": [
    {
     "name": "stdout",
     "output_type": "stream",
     "text": [
      "Model: \"model\"\n",
      "_________________________________________________________________\n",
      "Layer (type)                 Output Shape              Param #   \n",
      "=================================================================\n",
      "input_9 (InputLayer)         [(None, 224, 224, 1)]     0         \n",
      "_________________________________________________________________\n",
      "efficientnetb0 (Functional)  (None, None, None, 1280)  4049571   \n",
      "_________________________________________________________________\n",
      "global_average_pooling2d (Gl (None, 1280)              0         \n",
      "_________________________________________________________________\n",
      "dense (Dense)                (None, 48)                61488     \n",
      "=================================================================\n",
      "Total params: 4,111,059\n",
      "Trainable params: 61,488\n",
      "Non-trainable params: 4,049,571\n",
      "_________________________________________________________________\n"
     ]
    }
   ],
   "source": [
    "base_model_2.summary()"
   ]
  },
  {
   "cell_type": "code",
   "execution_count": 12,
   "id": "16733770-730a-4123-bdbf-5db11d822761",
   "metadata": {},
   "outputs": [
    {
     "name": "stdout",
     "output_type": "stream",
     "text": [
      "WARNING:tensorflow:Model was constructed with shape (None, None, None, 3) for input KerasTensor(type_spec=TensorSpec(shape=(None, None, None, 3), dtype=tf.float32, name='input_8'), name='input_8', description=\"created by layer 'input_8'\"), but it was called on an input with incompatible shape (None, 224, 224, 1).\n",
      "WARNING:tensorflow:Model was constructed with shape (None, None, None, 3) for input KerasTensor(type_spec=TensorSpec(shape=(None, None, None, 3), dtype=tf.float32, name='input_8'), name='input_8', description=\"created by layer 'input_8'\"), but it was called on an input with incompatible shape (None, 224, 224, 1).\n"
     ]
    }
   ],
   "source": [
    "#define inputs and ouputs\n",
    "img_a = keras.layers.Input((img_width, img_height, 1))\n",
    "img_b = keras.layers.Input((img_width, img_height, 1))\n",
    "\n",
    "feat_vect_a = base_model_2(img_a)\n",
    "feat_vect_b = base_model_2(img_b)\n",
    "\n",
    "distance = keras.layers.Lambda(euclidean_distance)([feat_vect_a, feat_vect_b])"
   ]
  },
  {
   "cell_type": "code",
   "execution_count": 13,
   "id": "51231f82-488d-49d6-9b4c-a9a9564ab44a",
   "metadata": {},
   "outputs": [],
   "source": [
    "#Compile the model \n",
    "model_2 = keras.models.Model(inputs=[img_a, img_b], outputs=distance)\n",
    "model_2.compile(loss=contrastive_loss, optimizer=\"Adam\", metrics=[\"accuracy\"])"
   ]
  },
  {
   "cell_type": "code",
   "execution_count": 14,
   "id": "a64b5360-39dc-44d8-903b-13c525d3438e",
   "metadata": {},
   "outputs": [
    {
     "name": "stdout",
     "output_type": "stream",
     "text": [
      "Epoch 1/10\n",
      "WARNING:tensorflow:Model was constructed with shape (None, None, None, 3) for input KerasTensor(type_spec=TensorSpec(shape=(None, None, None, 3), dtype=tf.float32, name='input_8'), name='input_8', description=\"created by layer 'input_8'\"), but it was called on an input with incompatible shape (None, 224, 224, 1).\n",
      "WARNING:tensorflow:Model was constructed with shape (None, None, None, 3) for input KerasTensor(type_spec=TensorSpec(shape=(None, None, None, 3), dtype=tf.float32, name='input_8'), name='input_8', description=\"created by layer 'input_8'\"), but it was called on an input with incompatible shape (None, 224, 224, 1).\n",
      "WARNING:tensorflow:Model was constructed with shape (None, None, None, 3) for input KerasTensor(type_spec=TensorSpec(shape=(None, None, None, 3), dtype=tf.float32, name='input_8'), name='input_8', description=\"created by layer 'input_8'\"), but it was called on an input with incompatible shape (None, 224, 224, 1).\n",
      "WARNING:tensorflow:Model was constructed with shape (None, None, None, 3) for input KerasTensor(type_spec=TensorSpec(shape=(None, None, None, 3), dtype=tf.float32, name='input_8'), name='input_8', description=\"created by layer 'input_8'\"), but it was called on an input with incompatible shape (None, 224, 224, 1).\n",
      "32/32 [==============================] - ETA: 0s - loss: 0.4887 - accuracy: 0.5016WARNING:tensorflow:Model was constructed with shape (None, None, None, 3) for input KerasTensor(type_spec=TensorSpec(shape=(None, None, None, 3), dtype=tf.float32, name='input_8'), name='input_8', description=\"created by layer 'input_8'\"), but it was called on an input with incompatible shape (None, 224, 224, 1).\n",
      "WARNING:tensorflow:Model was constructed with shape (None, None, None, 3) for input KerasTensor(type_spec=TensorSpec(shape=(None, None, None, 3), dtype=tf.float32, name='input_8'), name='input_8', description=\"created by layer 'input_8'\"), but it was called on an input with incompatible shape (None, 224, 224, 1).\n",
      "32/32 [==============================] - 24s 517ms/step - loss: 0.4887 - accuracy: 0.5016 - val_loss: 0.4960 - val_accuracy: 0.4831\n",
      "Epoch 2/10\n",
      "32/32 [==============================] - 15s 457ms/step - loss: 0.4712 - accuracy: 0.5016 - val_loss: 0.4776 - val_accuracy: 0.4831\n",
      "Epoch 3/10\n",
      "32/32 [==============================] - 14s 455ms/step - loss: 0.4550 - accuracy: 0.5016 - val_loss: 0.4611 - val_accuracy: 0.4831\n",
      "Epoch 4/10\n",
      "32/32 [==============================] - 15s 456ms/step - loss: 0.4407 - accuracy: 0.5016 - val_loss: 0.4464 - val_accuracy: 0.4831\n",
      "Epoch 5/10\n",
      "32/32 [==============================] - 15s 457ms/step - loss: 0.4279 - accuracy: 0.5015 - val_loss: 0.4333 - val_accuracy: 0.4837\n",
      "Epoch 6/10\n",
      "32/32 [==============================] - 14s 456ms/step - loss: 0.4166 - accuracy: 0.5014 - val_loss: 0.4218 - val_accuracy: 0.4837\n",
      "Epoch 7/10\n",
      "32/32 [==============================] - 15s 456ms/step - loss: 0.4064 - accuracy: 0.5013 - val_loss: 0.4114 - val_accuracy: 0.4825\n",
      "Epoch 8/10\n",
      "32/32 [==============================] - 15s 457ms/step - loss: 0.3975 - accuracy: 0.5009 - val_loss: 0.4023 - val_accuracy: 0.4800\n",
      "Epoch 9/10\n",
      "32/32 [==============================] - 15s 458ms/step - loss: 0.3895 - accuracy: 0.4996 - val_loss: 0.3943 - val_accuracy: 0.4781\n",
      "Epoch 10/10\n",
      "32/32 [==============================] - 14s 454ms/step - loss: 0.3825 - accuracy: 0.4988 - val_loss: 0.3872 - val_accuracy: 0.4762\n"
     ]
    }
   ],
   "source": [
    "epochs=10\n",
    "history_model_2 = model_2.fit(train_dataset, validation_data=test_dataset, epochs=epochs)"
   ]
  }
 ],
 "metadata": {
  "kernelspec": {
   "display_name": "Python 3",
   "language": "python",
   "name": "python3"
  },
  "language_info": {
   "codemirror_mode": {
    "name": "ipython",
    "version": 3
   },
   "file_extension": ".py",
   "mimetype": "text/x-python",
   "name": "python",
   "nbconvert_exporter": "python",
   "pygments_lexer": "ipython3",
   "version": "3.6.9"
  }
 },
 "nbformat": 4,
 "nbformat_minor": 5
}
