{
 "cells": [
  {
   "cell_type": "code",
   "execution_count": 1,
   "id": "085a9386",
   "metadata": {},
   "outputs": [],
   "source": [
    "import tensorflow as tf\n",
    "from tensorflow import keras\n",
    "from tensorflow.keras import backend as K\n",
    "\n",
    "from helper_functions import euclidean_distance\n",
    "from helper_functions import contrastive_loss\n",
    "from helper_functions import load_arrays\n",
    "from helper_functions import plot_training\n",
    "from helper_functions import load_and_split_data"
   ]
  },
  {
   "cell_type": "markdown",
   "id": "66c644c0",
   "metadata": {},
   "source": [
    "# Load and prepare Data"
   ]
  },
  {
   "cell_type": "markdown",
   "id": "534b17dd",
   "metadata": {},
   "source": [
    "### Load and create fast input pipeline with tf.data.dataset"
   ]
  },
  {
   "cell_type": "code",
   "execution_count": 2,
   "id": "d91cf3d7",
   "metadata": {},
   "outputs": [],
   "source": [
    "train_dataset, test_dataset, val_dataset = load_and_split_data(\"npz_datasets/data_x_10000.npz\", \"npz_datasets/data_y_10000.npz\", split_size=80, batch_size=256)"
   ]
  },
  {
   "cell_type": "markdown",
   "id": "5982ae04",
   "metadata": {},
   "source": [
    "# Baseline Model"
   ]
  },
  {
   "cell_type": "code",
   "execution_count": 3,
   "id": "88e7c6b6",
   "metadata": {},
   "outputs": [],
   "source": [
    "img_width = 224\n",
    "img_height = 224"
   ]
  },
  {
   "cell_type": "code",
   "execution_count": 4,
   "id": "ad6bb6c7",
   "metadata": {},
   "outputs": [],
   "source": [
    "#Set seed\n",
    "tf.random.set_seed(42)\n",
    "\n",
    "#Build the model\n",
    "inputs = keras.layers.Input((img_width, img_height, 1))\n",
    "\n",
    "x = keras.layers.Conv2D(4, (3,3), activation=\"relu\")(inputs)\n",
    "x = keras.layers.MaxPool2D(3,3)(x)\n",
    "x = keras.layers.Conv2D(16, (3,3), activation=\"relu\")(x)\n",
    "x = keras.layers.MaxPool2D(3,3)(x)\n",
    "x = keras.layers.Conv2D(32, (3,3), activation=\"relu\")(x)\n",
    "x = keras.layers.MaxPool2D(3,3)(x)\n",
    "\n",
    "x = keras.layers.Flatten()(x)\n",
    "\n",
    "outputs = keras.layers.Dense(48, activation=\"relu\")(x)\n",
    "\n",
    "base_model_1 = keras.models.Model(inputs, outputs)"
   ]
  },
  {
   "cell_type": "code",
   "execution_count": 5,
   "id": "a083cf48",
   "metadata": {},
   "outputs": [
    {
     "name": "stdout",
     "output_type": "stream",
     "text": [
      "Model: \"model\"\n",
      "_________________________________________________________________\n",
      "Layer (type)                 Output Shape              Param #   \n",
      "=================================================================\n",
      "input_1 (InputLayer)         [(None, 224, 224, 1)]     0         \n",
      "_________________________________________________________________\n",
      "conv2d (Conv2D)              (None, 222, 222, 4)       40        \n",
      "_________________________________________________________________\n",
      "max_pooling2d (MaxPooling2D) (None, 74, 74, 4)         0         \n",
      "_________________________________________________________________\n",
      "conv2d_1 (Conv2D)            (None, 72, 72, 16)        592       \n",
      "_________________________________________________________________\n",
      "max_pooling2d_1 (MaxPooling2 (None, 24, 24, 16)        0         \n",
      "_________________________________________________________________\n",
      "conv2d_2 (Conv2D)            (None, 22, 22, 32)        4640      \n",
      "_________________________________________________________________\n",
      "max_pooling2d_2 (MaxPooling2 (None, 7, 7, 32)          0         \n",
      "_________________________________________________________________\n",
      "flatten (Flatten)            (None, 1568)              0         \n",
      "_________________________________________________________________\n",
      "dense (Dense)                (None, 48)                75312     \n",
      "=================================================================\n",
      "Total params: 80,584\n",
      "Trainable params: 80,584\n",
      "Non-trainable params: 0\n",
      "_________________________________________________________________\n"
     ]
    }
   ],
   "source": [
    "base_model_1.summary()"
   ]
  },
  {
   "cell_type": "code",
   "execution_count": 6,
   "id": "41cf29d8",
   "metadata": {},
   "outputs": [],
   "source": [
    "#define inputs and ouputs\n",
    "img_a = keras.layers.Input((img_width, img_height, 1))\n",
    "img_b = keras.layers.Input((img_width, img_height, 1))\n",
    "\n",
    "feat_vect_a = base_model_1(img_a)\n",
    "feat_vect_b = base_model_1(img_b)\n",
    "\n",
    "distance = keras.layers.Lambda(euclidean_distance)([feat_vect_a, feat_vect_b])"
   ]
  },
  {
   "cell_type": "code",
   "execution_count": 7,
   "id": "447d279a",
   "metadata": {},
   "outputs": [],
   "source": [
    "#Compile the model \n",
    "model_1 = keras.models.Model(inputs=[img_a, img_b], outputs=distance)\n",
    "model_1.compile(loss=contrastive_loss, optimizer=\"Adam\", metrics=[\"accuracy\"])"
   ]
  },
  {
   "cell_type": "code",
   "execution_count": 8,
   "id": "a44b5680",
   "metadata": {},
   "outputs": [
    {
     "name": "stdout",
     "output_type": "stream",
     "text": [
      "Epoch 1/10\n",
      "32/32 [==============================] - 9s 216ms/step - loss: 0.3098 - accuracy: 0.4843 - val_loss: 0.2906 - val_accuracy: 0.4700\n",
      "Epoch 2/10\n",
      "32/32 [==============================] - 7s 205ms/step - loss: 0.2684 - accuracy: 0.5071 - val_loss: 0.2730 - val_accuracy: 0.4781\n",
      "Epoch 3/10\n",
      "32/32 [==============================] - 6s 203ms/step - loss: 0.2540 - accuracy: 0.5361 - val_loss: 0.2686 - val_accuracy: 0.4700\n",
      "Epoch 4/10\n",
      "32/32 [==============================] - 6s 203ms/step - loss: 0.2458 - accuracy: 0.5625 - val_loss: 0.2662 - val_accuracy: 0.4925\n",
      "Epoch 5/10\n",
      "32/32 [==============================] - 6s 204ms/step - loss: 0.2384 - accuracy: 0.5909 - val_loss: 0.2660 - val_accuracy: 0.4894\n",
      "Epoch 6/10\n",
      "32/32 [==============================] - 6s 202ms/step - loss: 0.2325 - accuracy: 0.6131 - val_loss: 0.2649 - val_accuracy: 0.4988\n",
      "Epoch 7/10\n",
      "32/32 [==============================] - 7s 204ms/step - loss: 0.2257 - accuracy: 0.6352 - val_loss: 0.2652 - val_accuracy: 0.4931\n",
      "Epoch 8/10\n",
      "32/32 [==============================] - 6s 202ms/step - loss: 0.2192 - accuracy: 0.6587 - val_loss: 0.2648 - val_accuracy: 0.4938\n",
      "Epoch 9/10\n",
      "32/32 [==============================] - 7s 205ms/step - loss: 0.2133 - accuracy: 0.6848 - val_loss: 0.2651 - val_accuracy: 0.4931\n",
      "Epoch 10/10\n",
      "32/32 [==============================] - 6s 202ms/step - loss: 0.2080 - accuracy: 0.7034 - val_loss: 0.2657 - val_accuracy: 0.4981\n"
     ]
    }
   ],
   "source": [
    "epochs=10\n",
    "history_model_1 = model_1.fit(train_dataset, validation_data=test_dataset, epochs=epochs)"
   ]
  },
  {
   "cell_type": "code",
   "execution_count": 9,
   "id": "7e4345a5",
   "metadata": {},
   "outputs": [
    {
     "data": {
      "image/png": "[encoded data removed]",
      "text/plain": [
       "<Figure size 432x288 with 1 Axes>"
      ]
     },
     "metadata": {},
     "output_type": "display_data"
    }
   ],
   "source": [
    "plot_training(history_model_1)"
   ]
  }
 ],
 "metadata": {
  "kernelspec": {
   "display_name": "Python 3",
   "language": "python",
   "name": "python3"
  },
  "language_info": {
   "codemirror_mode": {
    "name": "ipython",
    "version": 3
   },
   "file_extension": ".py",
   "mimetype": "text/x-python",
   "name": "python",
   "nbconvert_exporter": "python",
   "pygments_lexer": "ipython3",
   "version": "3.6.9"
  }
 },
 "nbformat": 4,
 "nbformat_minor": 5
}
