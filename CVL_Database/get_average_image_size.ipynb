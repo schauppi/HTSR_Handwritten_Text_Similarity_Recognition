{
 "cells": [
  {
   "cell_type": "code",
   "execution_count": 29,
   "id": "491febed",
   "metadata": {},
   "outputs": [],
   "source": [
    "import os\n",
    "from PIL import Image\n",
    "import statistics"
   ]
  },
  {
   "cell_type": "code",
   "execution_count": 45,
   "id": "aa47b27e",
   "metadata": {},
   "outputs": [],
   "source": [
    "def get_image_size(path):\n",
    "    width = []\n",
    "    height = []\n",
    "    for i in range(len(os.listdir(path))):\n",
    "        directory = os.listdir(path + \"/\" + os.listdir(path)[i])\n",
    "        for j in range(len(directory)):\n",
    "            image = Image.open(path + \"/\" + os.listdir(path)[i] + \"/\" + directory[j])\n",
    "            w, h = image.size\n",
    "            width.append(w)\n",
    "            height.append(h)\n",
    "    #calculate mean\n",
    "    mean_width = statistics.mean(width)\n",
    "    mean_height = statistics.mean(height)\n",
    "    mean_width, mean_height = int(mean_width), int(mean_height)\n",
    "    return mean_width, mean_height"
   ]
  },
  {
   "cell_type": "code",
   "execution_count": 46,
   "id": "c5ed2971",
   "metadata": {},
   "outputs": [],
   "source": [
    "width, height = get_image_size(\"testset/lines\")"
   ]
  },
  {
   "cell_type": "code",
   "execution_count": 47,
   "id": "a2bacc99",
   "metadata": {},
   "outputs": [
    {
     "name": "stdout",
     "output_type": "stream",
     "text": [
      "1650 123\n"
     ]
    }
   ],
   "source": [
    "print(width,height)"
   ]
  }
 ],
 "metadata": {
  "kernelspec": {
   "display_name": "Python 3",
   "language": "python",
   "name": "python3"
  },
  "language_info": {
   "codemirror_mode": {
    "name": "ipython",
    "version": 3
   },
   "file_extension": ".py",
   "mimetype": "text/x-python",
   "name": "python",
   "nbconvert_exporter": "python",
   "pygments_lexer": "ipython3",
   "version": "3.6.9"
  }
 },
 "nbformat": 4,
 "nbformat_minor": 5
}
