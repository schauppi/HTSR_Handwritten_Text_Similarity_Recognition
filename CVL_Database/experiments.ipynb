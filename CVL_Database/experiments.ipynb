{
 "cells": [
  {
   "cell_type": "code",
   "execution_count": 1,
   "id": "6fb1babf",
   "metadata": {},
   "outputs": [],
   "source": [
    "from numpy import load\n",
    "import tensorflow as tf\n",
    "from tensorflow import keras\n",
    "from sklearn.model_selection import train_test_split\n",
    "from matplotlib import pyplot as plt\n",
    "from tensorflow.keras import backend as K"
   ]
  },
  {
   "cell_type": "code",
   "execution_count": 2,
   "id": "49a2e842",
   "metadata": {},
   "outputs": [],
   "source": [
    "#Loading arrays from disk\n",
    "def load_arrays(pathx, pathy):\n",
    "    dict_data_x = load(pathx)\n",
    "    dict_data_y = load(pathy)\n",
    "    x = dict_data_x['arr_0']\n",
    "    y = dict_data_y['arr_0']\n",
    "    return x, y"
   ]
  },
  {
   "cell_type": "code",
   "execution_count": 36,
   "id": "116b7c32",
   "metadata": {},
   "outputs": [],
   "source": [
    "#Function for plotting training afterwards\n",
    "def plot_training(H):\n",
    "    plt.style.use(\"ggplot\")\n",
    "    plt.figure()\n",
    "    plt.plot(H.history[\"loss\"], label=\"train_loss\")\n",
    "    plt.plot(H.history[\"val_loss\"], label=\"val_loss\")\n",
    "    plt.plot(H.history[\"accuracy\"], label=\"train_acc\")\n",
    "    plt.plot(H.history[\"val_accuracy\"], label=\"val_acc\")\n",
    "    plt.title(\"Training Loss and Accuracy\")\n",
    "    plt.xlabel(\"Epoch\")\n",
    "    plt.ylabel(\"Loss/Accuracy\")\n",
    "    plt.legend(loc=\"lower left\")"
   ]
  },
  {
   "cell_type": "code",
   "execution_count": 3,
   "id": "fe27a24f",
   "metadata": {},
   "outputs": [],
   "source": [
    "#Load the arrays\n",
    "x, y = load_arrays(\"data_2500_samples/data_x_2500.npz\", \"data_2500_samples/data_y_2500.npz\")"
   ]
  },
  {
   "cell_type": "code",
   "execution_count": 4,
   "id": "e7c87a1e",
   "metadata": {},
   "outputs": [
    {
     "name": "stdout",
     "output_type": "stream",
     "text": [
      "(5000, 2, 123, 1650, 1)\n",
      "(5000, 1)\n"
     ]
    }
   ],
   "source": [
    "#Check shapes of the arrays\n",
    "print(x.shape)\n",
    "print(y.shape)"
   ]
  },
  {
   "cell_type": "code",
   "execution_count": 5,
   "id": "1d965f9f",
   "metadata": {},
   "outputs": [],
   "source": [
    "#Split the dataset randomly\n",
    "x_train, x_test, y_train, y_test = train_test_split(x, y, test_size=0.25)"
   ]
  },
  {
   "cell_type": "code",
   "execution_count": 6,
   "id": "ad59c379",
   "metadata": {},
   "outputs": [
    {
     "name": "stdout",
     "output_type": "stream",
     "text": [
      "(3750, 2, 123, 1650, 1)\n",
      "(3750, 1)\n",
      "(1250, 2, 123, 1650, 1)\n",
      "(1250, 1)\n"
     ]
    }
   ],
   "source": [
    "print(x_train.shape)\n",
    "print(y_train.shape)\n",
    "print(x_test.shape)\n",
    "print(y_test.shape)"
   ]
  },
  {
   "cell_type": "code",
   "execution_count": 7,
   "id": "aff31ba8",
   "metadata": {},
   "outputs": [],
   "source": [
    "#Preprocessing\n",
    "x_train = x_train / 255.\n",
    "x_test = x_test / 255."
   ]
  },
  {
   "cell_type": "code",
   "execution_count": 78,
   "id": "304d1376",
   "metadata": {},
   "outputs": [],
   "source": [
    "def build_siamese_model(input_shape):\n",
    "    \n",
    "    inputs = keras.layers.Input(input_shape)\n",
    "    \n",
    "    x = keras.layers.Conv2D(16, (2,2), activation=\"relu\")(inputs)\n",
    "    x = keras.layers.MaxPool2D(2,2)(x)\n",
    "    x = keras.layers.Dropout(0.2)(x)\n",
    "    \n",
    "    x = keras.layers.Conv2D(32, (2,2), activation=\"relu\")(x)\n",
    "    x = keras.layers.MaxPool2D(2,2)(x)\n",
    "    x = keras.layers.Dropout(0.2)(x)\n",
    "    \n",
    "    x = keras.layers.Conv2D(64, (2,2), activation=\"relu\")(x)\n",
    "    x = keras.layers.MaxPool2D(2,2)(x)\n",
    "    x = keras.layers.Dropout(0.2)(x)\n",
    "    \n",
    "    x = keras.layers.Conv2D(128, (2,2), activation=\"relu\")(x)\n",
    "    x = keras.layers.MaxPool2D(2,2)(x)\n",
    "    x = keras.layers.Dropout(0.2)(x)\n",
    "    \n",
    "    x = keras.layers.Conv2D(256, (2,2), activation=\"relu\")(x)\n",
    "    x = keras.layers.MaxPool2D(2,2)(x)\n",
    "    x = keras.layers.Dropout(0.2)(x)\n",
    "    \n",
    "    x = keras.layers.Flatten()(x)\n",
    "    \n",
    "    x = keras.layers.Dense(256, activation=\"relu\")(x)\n",
    "    x = keras.layers.Dense(128, activation=\"relu\")(x)\n",
    "    outputs = keras.layers.Dense(64, activation=\"relu\")(x)\n",
    "    \n",
    "    model = keras.models.Model(inputs, outputs)\n",
    "    \n",
    "    return model"
   ]
  },
  {
   "cell_type": "code",
   "execution_count": 79,
   "id": "6bd9956e",
   "metadata": {},
   "outputs": [],
   "source": [
    "input_dim = (x_train.shape[2:])\n",
    "base_network = build_siamese_model(input_dim)"
   ]
  },
  {
   "cell_type": "code",
   "execution_count": 80,
   "id": "c6cbf49f",
   "metadata": {},
   "outputs": [],
   "source": [
    "img_a = keras.layers.Input(shape=input_dim)\n",
    "img_b = keras.layers.Input(shape=input_dim)"
   ]
  },
  {
   "cell_type": "code",
   "execution_count": 81,
   "id": "5be76afb",
   "metadata": {},
   "outputs": [],
   "source": [
    "feat_vec_a = base_network(img_a)\n",
    "feat_vec_b = base_network(img_b)"
   ]
  },
  {
   "cell_type": "code",
   "execution_count": 82,
   "id": "862fb1c0",
   "metadata": {},
   "outputs": [
    {
     "name": "stdout",
     "output_type": "stream",
     "text": [
      "Model: \"model_10\"\n",
      "_________________________________________________________________\n",
      "Layer (type)                 Output Shape              Param #   \n",
      "=================================================================\n",
      "input_29 (InputLayer)        [(None, 123, 1650, 1)]    0         \n",
      "_________________________________________________________________\n",
      "conv2d_47 (Conv2D)           (None, 122, 1649, 16)     80        \n",
      "_________________________________________________________________\n",
      "max_pooling2d_47 (MaxPooling (None, 61, 824, 16)       0         \n",
      "_________________________________________________________________\n",
      "dropout_44 (Dropout)         (None, 61, 824, 16)       0         \n",
      "_________________________________________________________________\n",
      "conv2d_48 (Conv2D)           (None, 60, 823, 32)       2080      \n",
      "_________________________________________________________________\n",
      "max_pooling2d_48 (MaxPooling (None, 30, 411, 32)       0         \n",
      "_________________________________________________________________\n",
      "dropout_45 (Dropout)         (None, 30, 411, 32)       0         \n",
      "_________________________________________________________________\n",
      "conv2d_49 (Conv2D)           (None, 29, 410, 64)       8256      \n",
      "_________________________________________________________________\n",
      "max_pooling2d_49 (MaxPooling (None, 14, 205, 64)       0         \n",
      "_________________________________________________________________\n",
      "dropout_46 (Dropout)         (None, 14, 205, 64)       0         \n",
      "_________________________________________________________________\n",
      "conv2d_50 (Conv2D)           (None, 13, 204, 128)      32896     \n",
      "_________________________________________________________________\n",
      "max_pooling2d_50 (MaxPooling (None, 6, 102, 128)       0         \n",
      "_________________________________________________________________\n",
      "dropout_47 (Dropout)         (None, 6, 102, 128)       0         \n",
      "_________________________________________________________________\n",
      "conv2d_51 (Conv2D)           (None, 5, 101, 256)       131328    \n",
      "_________________________________________________________________\n",
      "max_pooling2d_51 (MaxPooling (None, 2, 50, 256)        0         \n",
      "_________________________________________________________________\n",
      "dropout_48 (Dropout)         (None, 2, 50, 256)        0         \n",
      "_________________________________________________________________\n",
      "flatten_7 (Flatten)          (None, 25600)             0         \n",
      "_________________________________________________________________\n",
      "dense_29 (Dense)             (None, 256)               6553856   \n",
      "_________________________________________________________________\n",
      "dense_30 (Dense)             (None, 128)               32896     \n",
      "_________________________________________________________________\n",
      "dense_31 (Dense)             (None, 64)                8256      \n",
      "=================================================================\n",
      "Total params: 6,769,648\n",
      "Trainable params: 6,769,648\n",
      "Non-trainable params: 0\n",
      "_________________________________________________________________\n"
     ]
    }
   ],
   "source": [
    "base_network.summary()"
   ]
  },
  {
   "cell_type": "code",
   "execution_count": 83,
   "id": "7ebb0a71",
   "metadata": {},
   "outputs": [],
   "source": [
    "def euclidian_distance(vects):\n",
    "    x, y = vects\n",
    "    distance = K.sqrt(K.sum(K.square(x-y), axis=1, keepdims=True))\n",
    "    return distance"
   ]
  },
  {
   "cell_type": "code",
   "execution_count": 84,
   "id": "a1d59243",
   "metadata": {},
   "outputs": [],
   "source": [
    "def euclidian_output_shape(shapes):\n",
    "    shape1, shape2 = shapes\n",
    "    return (shape1[0], 1)"
   ]
  },
  {
   "cell_type": "code",
   "execution_count": 85,
   "id": "23c598c2",
   "metadata": {},
   "outputs": [],
   "source": [
    "distance = keras.layers.Lambda(euclidian_distance, output_shape=euclidian_output_shape)([feat_vec_a, feat_vec_b])"
   ]
  },
  {
   "cell_type": "code",
   "execution_count": 86,
   "id": "87cddaed",
   "metadata": {},
   "outputs": [],
   "source": [
    "model = keras.models.Model(inputs=[img_a, img_b], outputs=distance)"
   ]
  },
  {
   "cell_type": "code",
   "execution_count": 87,
   "id": "6b438f32",
   "metadata": {},
   "outputs": [],
   "source": [
    "model.compile(loss=\"binary_crossentropy\", optimizer=\"Adam\", metrics=[\"accuracy\"])"
   ]
  },
  {
   "cell_type": "code",
   "execution_count": 90,
   "id": "7e7b25ce",
   "metadata": {},
   "outputs": [
    {
     "name": "stdout",
     "output_type": "stream",
     "text": [
      "Epoch 1/10\n",
      "118/118 [==============================] - 11s 89ms/step - loss: 0.7212 - accuracy: 0.5056 - val_loss: 8.0333 - val_accuracy: 0.4792\n",
      "Epoch 2/10\n",
      "118/118 [==============================] - 9s 76ms/step - loss: 0.7282 - accuracy: 0.4965 - val_loss: 8.0333 - val_accuracy: 0.4792\n",
      "Epoch 3/10\n",
      "118/118 [==============================] - 9s 76ms/step - loss: 0.7263 - accuracy: 0.5091 - val_loss: 8.0333 - val_accuracy: 0.4792\n",
      "Epoch 4/10\n",
      "118/118 [==============================] - 9s 76ms/step - loss: 0.7239 - accuracy: 0.5003 - val_loss: 8.0333 - val_accuracy: 0.4792\n",
      "Epoch 5/10\n",
      "118/118 [==============================] - 9s 76ms/step - loss: 0.7328 - accuracy: 0.4840 - val_loss: 8.0333 - val_accuracy: 0.4792\n",
      "Epoch 6/10\n",
      "118/118 [==============================] - 9s 76ms/step - loss: 0.7272 - accuracy: 0.5024 - val_loss: 8.0333 - val_accuracy: 0.4792\n",
      "Epoch 7/10\n",
      "118/118 [==============================] - 9s 76ms/step - loss: 0.7267 - accuracy: 0.4949 - val_loss: 8.0333 - val_accuracy: 0.4792\n",
      "Epoch 8/10\n",
      "118/118 [==============================] - 9s 77ms/step - loss: 0.7226 - accuracy: 0.5088 - val_loss: 8.0333 - val_accuracy: 0.4792\n",
      "Epoch 9/10\n",
      "118/118 [==============================] - 9s 77ms/step - loss: 0.7282 - accuracy: 0.5040 - val_loss: 8.0333 - val_accuracy: 0.4792\n",
      "Epoch 10/10\n",
      "118/118 [==============================] - 9s 76ms/step - loss: 0.7131 - accuracy: 0.5147 - val_loss: 8.0333 - val_accuracy: 0.4792\n"
     ]
    }
   ],
   "source": [
    "history=model.fit([x_train[:, 0], x_train[:, 1]], y_train, validation_data=([x_test[:, 0], x_test[:, 1]], y_test), epochs=10, batch_size=32)"
   ]
  },
  {
   "cell_type": "code",
   "execution_count": 91,
   "id": "f5636039",
   "metadata": {},
   "outputs": [
    {
     "data": {
      "image/png": "[encoded data removed]",
      "text/plain": [
       "<Figure size 432x288 with 1 Axes>"
      ]
     },
     "metadata": {},
     "output_type": "display_data"
    }
   ],
   "source": [
    "plot_training(history)"
   ]
  }
 ],
 "metadata": {
  "kernelspec": {
   "display_name": "Python 3",
   "language": "python",
   "name": "python3"
  },
  "language_info": {
   "codemirror_mode": {
    "name": "ipython",
    "version": 3
   },
   "file_extension": ".py",
   "mimetype": "text/x-python",
   "name": "python",
   "nbconvert_exporter": "python",
   "pygments_lexer": "ipython3",
   "version": "3.6.9"
  }
 },
 "nbformat": 4,
 "nbformat_minor": 5
}
