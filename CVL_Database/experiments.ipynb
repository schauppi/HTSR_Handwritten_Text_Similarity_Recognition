{
 "cells": [
  {
   "cell_type": "code",
   "execution_count": 50,
   "id": "6fb1babf",
   "metadata": {},
   "outputs": [],
   "source": [
    "from numpy import load\n",
    "import numpy as np\n",
    "import tensorflow as tf\n",
    "from tensorflow import keras\n",
    "from sklearn.model_selection import train_test_split\n",
    "from sklearn.metrics import confusion_matrix\n",
    "from matplotlib import pyplot as plt\n",
    "from tensorflow.keras import backend as K"
   ]
  },
  {
   "cell_type": "code",
   "execution_count": 2,
   "id": "49a2e842",
   "metadata": {},
   "outputs": [],
   "source": [
    "#Loading arrays from disk\n",
    "def load_arrays(pathx, pathy):\n",
    "    dict_data_x = load(pathx)\n",
    "    dict_data_y = load(pathy)\n",
    "    x = dict_data_x['arr_0']\n",
    "    y = dict_data_y['arr_0']\n",
    "    return x, y"
   ]
  },
  {
   "cell_type": "code",
   "execution_count": 240,
   "id": "116b7c32",
   "metadata": {},
   "outputs": [],
   "source": [
    "#Function for plotting training afterwards\n",
    "def plot_training(H):\n",
    "    plt.style.use(\"ggplot\")\n",
    "    plt.figure()\n",
    "    plt.plot(H.history[\"loss\"], label=\"train_loss\")\n",
    "    plt.plot(H.history[\"val_loss\"], label=\"val_loss\")\n",
    "    #plt.plot(H.history[\"accuracy\"], label=\"train_acc\")\n",
    "    #plt.plot(H.history[\"val_accuracy\"], label=\"val_acc\")\n",
    "    #plt.title(\"Training Loss and Accuracy\")\n",
    "    plt.title(\"Training Loss\")\n",
    "    plt.xlabel(\"Epoch\")\n",
    "    #plt.ylabel(\"Loss/Accuracy\")\n",
    "    plt.ylabel(\"Loss\")\n",
    "    plt.legend(loc=\"lower left\")"
   ]
  },
  {
   "cell_type": "code",
   "execution_count": 4,
   "id": "55ae439e",
   "metadata": {},
   "outputs": [],
   "source": [
    "#Function for loading and preprocessing data\n",
    "def load_and_preprocess(path_to_features, path_to_labels, test_size):\n",
    "    #load data\n",
    "    x, y, = load_arrays(path_to_features, path_to_labels)\n",
    "    #split data\n",
    "    x_train, x_test, y_train, y_test = train_test_split(x, y, test_size=test_size)\n",
    "    #get the data between 0 and 1\n",
    "    x_train = x_train / 255.\n",
    "    x_test = x_test / 255.\n",
    "    #print shapes of the data\n",
    "    print(f\"x_train: {x_train.shape}\")\n",
    "    print(f\"y_train: {y_train.shape}\")\n",
    "    print(f\"x_test: {x_test.shape}\")\n",
    "    print(f\"y_test: {y_test.shape}\")\n",
    "    \n",
    "    return x_train, x_test, y_train, y_test"
   ]
  },
  {
   "cell_type": "code",
   "execution_count": 249,
   "id": "447f370f",
   "metadata": {},
   "outputs": [],
   "source": [
    "#Function for computing accuracy\n",
    "def compute_accuracy(predictions, labels):\n",
    "    #compute the mean of the distances\n",
    "    return labels[predictions.ravel() < 0.5].mean()"
   ]
  },
  {
   "cell_type": "code",
   "execution_count": 5,
   "id": "3983b845",
   "metadata": {},
   "outputs": [],
   "source": [
    "#Function for calculating the euclidian distance between the output feature vectors\n",
    "#def euclidian_distance(vects):\n",
    "#    x, y = vects\n",
    "#    distance = K.sqrt(K.sum(K.square(x-y), axis=1, keepdims=True))\n",
    "#    return distance"
   ]
  },
  {
   "cell_type": "code",
   "execution_count": 412,
   "id": "376f41ee",
   "metadata": {},
   "outputs": [],
   "source": [
    "def euclidean_distance(vectors):\n",
    "    (featsA, featsB) = vectors\n",
    "    sumSquared = K.sum(K.square(featsA - featsB), axis=1,keepdims=True)\n",
    "    return K.sqrt(K.maximum(sumSquared, K.epsilon()))"
   ]
  },
  {
   "cell_type": "code",
   "execution_count": 6,
   "id": "248f9554",
   "metadata": {},
   "outputs": [
    {
     "name": "stdout",
     "output_type": "stream",
     "text": [
      "x_train: (4500, 2, 150, 150, 1)\n",
      "y_train: (4500, 1)\n",
      "x_test: (1500, 2, 150, 150, 1)\n",
      "y_test: (1500, 1)\n"
     ]
    }
   ],
   "source": [
    "x_train, x_test, y_train, y_test = load_and_preprocess(\"data_3000_samples/data_x_3000.npz\", \"data_3000_samples/data_y_3000.npz\", 0.25)"
   ]
  },
  {
   "cell_type": "code",
   "execution_count": 556,
   "id": "974078a9",
   "metadata": {},
   "outputs": [],
   "source": [
    "#Build base model 1\n",
    "tf.random.set_seed(42)\n",
    "\n",
    "inputs = keras.layers.Input(x_train.shape[2:])\n",
    "\n",
    "x = keras.layers.Conv2D(16, (3,3), activation=\"relu\")(inputs)\n",
    "x = keras.layers.MaxPool2D(3,3)(x)\n",
    "x = keras.layers.Dropout(0.3)(x)\n",
    "\n",
    "x = keras.layers.Flatten()(x)\n",
    "outputs = keras.layers.Dense(48, activation=\"relu\")(x)\n",
    "\n",
    "base_model_1 = keras.models.Model(inputs, outputs)"
   ]
  },
  {
   "cell_type": "code",
   "execution_count": 557,
   "id": "123d17b0",
   "metadata": {},
   "outputs": [
    {
     "name": "stdout",
     "output_type": "stream",
     "text": [
      "Model: \"model_68\"\n",
      "_________________________________________________________________\n",
      "Layer (type)                 Output Shape              Param #   \n",
      "=================================================================\n",
      "input_84 (InputLayer)        [(None, 150, 150, 1)]     0         \n",
      "_________________________________________________________________\n",
      "conv2d_62 (Conv2D)           (None, 148, 148, 16)      160       \n",
      "_________________________________________________________________\n",
      "max_pooling2d_62 (MaxPooling (None, 49, 49, 16)        0         \n",
      "_________________________________________________________________\n",
      "dropout_52 (Dropout)         (None, 49, 49, 16)        0         \n",
      "_________________________________________________________________\n",
      "flatten_31 (Flatten)         (None, 38416)             0         \n",
      "_________________________________________________________________\n",
      "dense_33 (Dense)             (None, 48)                1844016   \n",
      "=================================================================\n",
      "Total params: 1,844,176\n",
      "Trainable params: 1,844,176\n",
      "Non-trainable params: 0\n",
      "_________________________________________________________________\n"
     ]
    }
   ],
   "source": [
    "base_model_1.summary()"
   ]
  },
  {
   "cell_type": "code",
   "execution_count": 558,
   "id": "30a113d6",
   "metadata": {},
   "outputs": [],
   "source": [
    "#define inputs and outputs\n",
    "img_a = keras.layers.Input(shape=x_train.shape[2:])\n",
    "img_b = keras.layers.Input(shape=x_train.shape[2:])\n",
    "feat_vec_a = base_model_1(img_a)\n",
    "feat_vec_b = base_model_1(img_b)\n",
    "distance = keras.layers.Lambda(euclidian_distance)([feat_vec_a, feat_vec_b])"
   ]
  },
  {
   "cell_type": "code",
   "execution_count": 559,
   "id": "403a6dfc",
   "metadata": {},
   "outputs": [],
   "source": [
    "#def contrastive_loss(y_true, y_pred):\n",
    "#    margin = 1\n",
    "#    return K.mean(y_true * K.square(y_pred) + (1 - y_true) * K.square(K.maximum(margin - y_pred, 0)))"
   ]
  },
  {
   "cell_type": "code",
   "execution_count": 560,
   "id": "ea00f70d",
   "metadata": {},
   "outputs": [],
   "source": [
    "def contrastive_loss(y, preds, margin=1):\n",
    "    y = tf.cast(y, preds.dtype)\n",
    "    squaredPreds = K.square(preds)\n",
    "    squaredMargin = K.square(K.maximum(margin - preds, 0))\n",
    "    loss = K.mean(y * squaredPreds + (1 - y) * squaredMargin)\n",
    "    return loss"
   ]
  },
  {
   "cell_type": "code",
   "execution_count": 561,
   "id": "6c1c0552",
   "metadata": {},
   "outputs": [],
   "source": [
    "#Build and compile the model\n",
    "model_1 = keras.models.Model(inputs=[img_a, img_b], outputs=distance)\n",
    "model_1.compile(loss=contrastive_loss, optimizer=\"Adam\")"
   ]
  },
  {
   "cell_type": "code",
   "execution_count": 562,
   "id": "2e146c1c",
   "metadata": {},
   "outputs": [],
   "source": [
    "history_model_1=model_1.fit([x_train[:, 0], x_train[:, 1]], y_train, validation_data=([x_test[:, 0], x_test[:, 1]], y_test), epochs=20, batch_size=128, verbose=0)"
   ]
  },
  {
   "cell_type": "code",
   "execution_count": 563,
   "id": "c8afeed7",
   "metadata": {},
   "outputs": [
    {
     "data": {
      "image/png": "[encoded data removed]",
      "text/plain": [
       "<Figure size 432x288 with 1 Axes>"
      ]
     },
     "metadata": {},
     "output_type": "display_data"
    }
   ],
   "source": [
    "plot_training(history_model_1)"
   ]
  },
  {
   "cell_type": "code",
   "execution_count": 564,
   "id": "5d60fd66",
   "metadata": {},
   "outputs": [],
   "source": [
    "y_pred_model_1 = model_1.predict([x_test[:, 0], x_test[:, 1]])"
   ]
  },
  {
   "cell_type": "code",
   "execution_count": 565,
   "id": "0eaa4c25",
   "metadata": {},
   "outputs": [
    {
     "data": {
      "text/plain": [
       "0.7657657657657657"
      ]
     },
     "execution_count": 565,
     "metadata": {},
     "output_type": "execute_result"
    }
   ],
   "source": [
    "compute_accuracy(y_pred_model_1, y_test)"
   ]
  },
  {
   "cell_type": "code",
   "execution_count": 566,
   "id": "0329a555",
   "metadata": {},
   "outputs": [],
   "source": [
    "from PIL import Image, ImageOps\n",
    "def read_image(filename, width, height):\n",
    "    #read image and get size\n",
    "    image = Image.open(filename)\n",
    "    \n",
    "    #convert image to grayscale\n",
    "    gray = ImageOps.grayscale(image)\n",
    "    \n",
    "    #resize the image\n",
    "    resize = gray.resize((width, height), Image.ANTIALIAS)\n",
    "    \n",
    "    #convert grayscale image to numpy array\n",
    "    im_array = np.array(resize)\n",
    "\n",
    "    return(im_array)"
   ]
  },
  {
   "cell_type": "code",
   "execution_count": 567,
   "id": "e8fe5030",
   "metadata": {},
   "outputs": [],
   "source": [
    "im_1_path = \"testset/lines/0052/0052-1-0.tif\"\n",
    "im_2_path = \"testset/lines/0052/0052-1-1.tif\"\n",
    "im_3_path = \"testset/lines/0053/0053-1-0.tif\"\n",
    "im_4_path = \"testset/lines/0053/0053-1-1.tif\""
   ]
  },
  {
   "cell_type": "code",
   "execution_count": 568,
   "id": "3d75b84e",
   "metadata": {},
   "outputs": [],
   "source": [
    "im_1 = read_image(im_1_path, 150, 150)\n",
    "im_2 = read_image(im_2_path, 150, 150)\n",
    "im_3 = read_image(im_3_path, 150, 150)\n",
    "im_4 = read_image(im_4_path, 150, 150)"
   ]
  },
  {
   "cell_type": "code",
   "execution_count": 569,
   "id": "9eefd4f9",
   "metadata": {},
   "outputs": [],
   "source": [
    "im_1 = im_1 / 255.\n",
    "im_2 = im_2 / 255.\n",
    "im_3 = im_3 / 255.\n",
    "im_4 = im_4 / 255."
   ]
  },
  {
   "cell_type": "code",
   "execution_count": 570,
   "id": "ce03e63f",
   "metadata": {},
   "outputs": [],
   "source": [
    "im_1 = np.expand_dims(im_1, axis=0)\n",
    "im_2 = np.expand_dims(im_2, axis=0)\n",
    "im_3 = np.expand_dims(im_3, axis=0)\n",
    "im_4 = np.expand_dims(im_4, axis=0)"
   ]
  },
  {
   "cell_type": "code",
   "execution_count": 571,
   "id": "0dccfabf",
   "metadata": {},
   "outputs": [
    {
     "data": {
      "text/plain": [
       "array([[1.1391553]], dtype=float32)"
      ]
     },
     "execution_count": 571,
     "metadata": {},
     "output_type": "execute_result"
    }
   ],
   "source": [
    "model_1.predict([im_1, im_2])"
   ]
  },
  {
   "cell_type": "code",
   "execution_count": 572,
   "id": "fc0aab42",
   "metadata": {},
   "outputs": [
    {
     "data": {
      "text/plain": [
       "array([[0.9240499]], dtype=float32)"
      ]
     },
     "execution_count": 572,
     "metadata": {},
     "output_type": "execute_result"
    }
   ],
   "source": [
    "model_1.predict([im_3, im_4])"
   ]
  },
  {
   "cell_type": "code",
   "execution_count": 573,
   "id": "816a8bad",
   "metadata": {},
   "outputs": [
    {
     "data": {
      "text/plain": [
       "array([[0.4562663]], dtype=float32)"
      ]
     },
     "execution_count": 573,
     "metadata": {},
     "output_type": "execute_result"
    }
   ],
   "source": [
    "model_1.predict([im_1, im_3])"
   ]
  }
 ],
 "metadata": {
  "kernelspec": {
   "display_name": "Python 3",
   "language": "python",
   "name": "python3"
  },
  "language_info": {
   "codemirror_mode": {
    "name": "ipython",
    "version": 3
   },
   "file_extension": ".py",
   "mimetype": "text/x-python",
   "name": "python",
   "nbconvert_exporter": "python",
   "pygments_lexer": "ipython3",
   "version": "3.6.9"
  }
 },
 "nbformat": 4,
 "nbformat_minor": 5
}
