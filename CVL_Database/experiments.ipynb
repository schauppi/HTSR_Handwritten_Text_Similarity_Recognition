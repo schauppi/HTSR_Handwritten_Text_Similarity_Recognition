{
 "cells": [
  {
   "cell_type": "code",
   "execution_count": 4,
   "id": "6fb1babf",
   "metadata": {},
   "outputs": [],
   "source": [
    "from numpy import load\n",
    "import tensorflow as tf\n",
    "from tensorflow import keras\n",
    "from sklearn.model_selection import train_test_split\n",
    "from matplotlib import pyplot as plt\n",
    "from tensorflow.keras import backend as K"
   ]
  },
  {
   "cell_type": "code",
   "execution_count": 5,
   "id": "49a2e842",
   "metadata": {},
   "outputs": [],
   "source": [
    "#Loading arrays from disk\n",
    "def load_arrays(pathx, pathy):\n",
    "    dict_data_x = load(pathx)\n",
    "    dict_data_y = load(pathy)\n",
    "    x = dict_data_x['arr_0']\n",
    "    y = dict_data_y['arr_0']\n",
    "    return x, y"
   ]
  },
  {
   "cell_type": "code",
   "execution_count": 6,
   "id": "116b7c32",
   "metadata": {},
   "outputs": [],
   "source": [
    "#Function for plotting training afterwards\n",
    "def plot_training(H):\n",
    "    plt.style.use(\"ggplot\")\n",
    "    plt.figure()\n",
    "    plt.plot(H.history[\"loss\"], label=\"train_loss\")\n",
    "    plt.plot(H.history[\"val_loss\"], label=\"val_loss\")\n",
    "    plt.plot(H.history[\"accuracy\"], label=\"train_acc\")\n",
    "    plt.plot(H.history[\"val_accuracy\"], label=\"val_acc\")\n",
    "    plt.title(\"Training Loss and Accuracy\")\n",
    "    plt.xlabel(\"Epoch\")\n",
    "    plt.ylabel(\"Loss/Accuracy\")\n",
    "    plt.legend(loc=\"lower left\")"
   ]
  },
  {
   "cell_type": "code",
   "execution_count": 3,
   "id": "fe27a24f",
   "metadata": {},
   "outputs": [],
   "source": [
    "#Load the arrays\n",
    "x, y = load_arrays(\"data_2500_samples/data_x_2500.npz\", \"data_2500_samples/data_y_2500.npz\")"
   ]
  },
  {
   "cell_type": "code",
   "execution_count": 4,
   "id": "e7c87a1e",
   "metadata": {},
   "outputs": [
    {
     "name": "stdout",
     "output_type": "stream",
     "text": [
      "(5000, 2, 123, 1650, 1)\n",
      "(5000, 1)\n"
     ]
    }
   ],
   "source": [
    "#Check shapes of the arrays\n",
    "print(x.shape)\n",
    "print(y.shape)"
   ]
  },
  {
   "cell_type": "code",
   "execution_count": 5,
   "id": "1d965f9f",
   "metadata": {},
   "outputs": [],
   "source": [
    "#Split the dataset randomly\n",
    "x_train, x_test, y_train, y_test = train_test_split(x, y, test_size=0.25)"
   ]
  },
  {
   "cell_type": "code",
   "execution_count": 6,
   "id": "ad59c379",
   "metadata": {},
   "outputs": [
    {
     "name": "stdout",
     "output_type": "stream",
     "text": [
      "(3750, 2, 123, 1650, 1)\n",
      "(3750, 1)\n",
      "(1250, 2, 123, 1650, 1)\n",
      "(1250, 1)\n"
     ]
    }
   ],
   "source": [
    "print(x_train.shape)\n",
    "print(y_train.shape)\n",
    "print(x_test.shape)\n",
    "print(y_test.shape)"
   ]
  },
  {
   "cell_type": "code",
   "execution_count": 7,
   "id": "aff31ba8",
   "metadata": {},
   "outputs": [],
   "source": [
    "#Preprocessing\n",
    "x_train = x_train / 255.\n",
    "x_test = x_test / 255."
   ]
  },
  {
   "cell_type": "code",
   "execution_count": 56,
   "id": "304d1376",
   "metadata": {},
   "outputs": [],
   "source": [
    "def build_siamese_model(input_shape):\n",
    "    \n",
    "    inputs = keras.layers.Input(input_shape)\n",
    "    \n",
    "    x = keras.layers.Conv2D(16, (2,2), activation=\"relu\")(inputs)\n",
    "    x = keras.layers.MaxPool2D(2,2)(x)\n",
    "\n",
    "    x = keras.layers.Conv2D(32, (2,2), activation=\"relu\")(x)\n",
    "    x = keras.layers.MaxPool2D(2,2)(x)\n",
    "    \n",
    "    x = keras.layers.Flatten()(x)\n",
    "    outputs = keras.layers.Dense(16, activation=\"relu\")(x)\n",
    "    \n",
    "    model = keras.models.Model(inputs, outputs)\n",
    "    \n",
    "    return model"
   ]
  },
  {
   "cell_type": "code",
   "execution_count": 48,
   "id": "6bd9956e",
   "metadata": {},
   "outputs": [],
   "source": [
    "input_dim = (x_train.shape[2:])\n",
    "base_network = build_siamese_model(input_dim)"
   ]
  },
  {
   "cell_type": "code",
   "execution_count": 49,
   "id": "c6cbf49f",
   "metadata": {},
   "outputs": [],
   "source": [
    "img_a = keras.layers.Input(shape=input_dim)\n",
    "img_b = keras.layers.Input(shape=input_dim)"
   ]
  },
  {
   "cell_type": "code",
   "execution_count": 50,
   "id": "5be76afb",
   "metadata": {},
   "outputs": [],
   "source": [
    "feat_vec_a = base_network(img_a)\n",
    "feat_vec_b = base_network(img_b)"
   ]
  },
  {
   "cell_type": "code",
   "execution_count": 51,
   "id": "7ebb0a71",
   "metadata": {},
   "outputs": [],
   "source": [
    "def euclidian_distance(vects):\n",
    "    x, y = vects\n",
    "    distance = K.sqrt(K.sum(K.square(x-y), axis=1, keepdims=True))\n",
    "    return distance"
   ]
  },
  {
   "cell_type": "code",
   "execution_count": 52,
   "id": "a1d59243",
   "metadata": {},
   "outputs": [],
   "source": [
    "def euclidian_output_shape(shapes):\n",
    "    shape1, shape2 = shapes\n",
    "    return (shape1[0], 1)"
   ]
  },
  {
   "cell_type": "code",
   "execution_count": 53,
   "id": "23c598c2",
   "metadata": {},
   "outputs": [],
   "source": [
    "distance = keras.layers.Lambda(euclidian_distance, output_shape=euclidian_output_shape)([feat_vec_a, feat_vec_b])"
   ]
  },
  {
   "cell_type": "code",
   "execution_count": 54,
   "id": "87cddaed",
   "metadata": {},
   "outputs": [],
   "source": [
    "model = keras.models.Model(inputs=[img_a, img_b], outputs=distance)"
   ]
  },
  {
   "cell_type": "code",
   "execution_count": 55,
   "id": "6b438f32",
   "metadata": {},
   "outputs": [],
   "source": [
    "model.compile(loss=\"binary_crossentropy\", optimizer=\"Adam\", metrics=[\"accuracy\"])"
   ]
  },
  {
   "cell_type": "code",
   "execution_count": 90,
   "id": "7e7b25ce",
   "metadata": {},
   "outputs": [
    {
     "name": "stdout",
     "output_type": "stream",
     "text": [
      "Epoch 1/10\n",
      "118/118 [==============================] - 11s 89ms/step - loss: 0.7212 - accuracy: 0.5056 - val_loss: 8.0333 - val_accuracy: 0.4792\n",
      "Epoch 2/10\n",
      "118/118 [==============================] - 9s 76ms/step - loss: 0.7282 - accuracy: 0.4965 - val_loss: 8.0333 - val_accuracy: 0.4792\n",
      "Epoch 3/10\n",
      "118/118 [==============================] - 9s 76ms/step - loss: 0.7263 - accuracy: 0.5091 - val_loss: 8.0333 - val_accuracy: 0.4792\n",
      "Epoch 4/10\n",
      "118/118 [==============================] - 9s 76ms/step - loss: 0.7239 - accuracy: 0.5003 - val_loss: 8.0333 - val_accuracy: 0.4792\n",
      "Epoch 5/10\n",
      "118/118 [==============================] - 9s 76ms/step - loss: 0.7328 - accuracy: 0.4840 - val_loss: 8.0333 - val_accuracy: 0.4792\n",
      "Epoch 6/10\n",
      "118/118 [==============================] - 9s 76ms/step - loss: 0.7272 - accuracy: 0.5024 - val_loss: 8.0333 - val_accuracy: 0.4792\n",
      "Epoch 7/10\n",
      "118/118 [==============================] - 9s 76ms/step - loss: 0.7267 - accuracy: 0.4949 - val_loss: 8.0333 - val_accuracy: 0.4792\n",
      "Epoch 8/10\n",
      "118/118 [==============================] - 9s 77ms/step - loss: 0.7226 - accuracy: 0.5088 - val_loss: 8.0333 - val_accuracy: 0.4792\n",
      "Epoch 9/10\n",
      "118/118 [==============================] - 9s 77ms/step - loss: 0.7282 - accuracy: 0.5040 - val_loss: 8.0333 - val_accuracy: 0.4792\n",
      "Epoch 10/10\n",
      "118/118 [==============================] - 9s 76ms/step - loss: 0.7131 - accuracy: 0.5147 - val_loss: 8.0333 - val_accuracy: 0.4792\n"
     ]
    }
   ],
   "source": [
    "history=model.fit([x_train[:, 0], x_train[:, 1]], y_train, validation_data=([x_test[:, 0], x_test[:, 1]], y_test), epochs=10, batch_size=32)"
   ]
  },
  {
   "cell_type": "code",
   "execution_count": 91,
   "id": "f5636039",
   "metadata": {},
   "outputs": [
    {
     "data": {
      "image/png": "[encoded data removed]",
      "text/plain": [
       "<Figure size 432x288 with 1 Axes>"
      ]
     },
     "metadata": {},
     "output_type": "display_data"
    }
   ],
   "source": [
    "plot_training(history)"
   ]
  },
  {
   "cell_type": "code",
   "execution_count": 7,
   "id": "9e5b3fa8",
   "metadata": {},
   "outputs": [],
   "source": [
    "#Load the arrays\n",
    "x, y = load_arrays(\"data_3000_samples/data_x_3000.npz\", \"data_3000_samples/data_y_3000.npz\")"
   ]
  },
  {
   "cell_type": "code",
   "execution_count": 8,
   "id": "20d47d50",
   "metadata": {},
   "outputs": [],
   "source": [
    "#Split the dataset randomly\n",
    "x_train, x_test, y_train, y_test = train_test_split(x, y, test_size=0.25)"
   ]
  },
  {
   "cell_type": "code",
   "execution_count": 9,
   "id": "954b9a0a",
   "metadata": {},
   "outputs": [],
   "source": [
    "#Preprocessing\n",
    "x_train = x_train / 255.\n",
    "x_test = x_test / 255."
   ]
  },
  {
   "cell_type": "code",
   "execution_count": 10,
   "id": "ca12cf23",
   "metadata": {},
   "outputs": [
    {
     "name": "stdout",
     "output_type": "stream",
     "text": [
      "(4500, 2, 150, 150, 1)\n",
      "(4500, 1)\n",
      "(1500, 2, 150, 150, 1)\n",
      "(1500, 1)\n"
     ]
    }
   ],
   "source": [
    "print(x_train.shape)\n",
    "print(y_train.shape)\n",
    "print(x_test.shape)\n",
    "print(y_test.shape)"
   ]
  },
  {
   "cell_type": "code",
   "execution_count": 57,
   "id": "d4d9222a",
   "metadata": {},
   "outputs": [],
   "source": [
    "input_dim = (x_train.shape[2:])\n",
    "base_network = build_siamese_model(input_dim)"
   ]
  },
  {
   "cell_type": "code",
   "execution_count": 58,
   "id": "5cb2d661",
   "metadata": {},
   "outputs": [],
   "source": [
    "img_a = keras.layers.Input(shape=input_dim)\n",
    "img_b = keras.layers.Input(shape=input_dim)"
   ]
  },
  {
   "cell_type": "code",
   "execution_count": 59,
   "id": "00fdb1e2",
   "metadata": {},
   "outputs": [],
   "source": [
    "feat_vec_a = base_network(img_a)\n",
    "feat_vec_b = base_network(img_b)"
   ]
  },
  {
   "cell_type": "code",
   "execution_count": 60,
   "id": "4b975131",
   "metadata": {},
   "outputs": [],
   "source": [
    "def euclidian_distance(vects):\n",
    "    x, y = vects\n",
    "    distance = K.sqrt(K.sum(K.square(x-y), axis=1, keepdims=True))\n",
    "    return distance\n",
    "\n",
    "def euclidian_output_shape(shapes):\n",
    "    shape1, shape2 = shapes\n",
    "    return (shape1[0], 1)"
   ]
  },
  {
   "cell_type": "code",
   "execution_count": 61,
   "id": "cac8a0ea",
   "metadata": {},
   "outputs": [],
   "source": [
    "distance = keras.layers.Lambda(euclidian_distance, output_shape=euclidian_output_shape)([feat_vec_a, feat_vec_b])"
   ]
  },
  {
   "cell_type": "code",
   "execution_count": 62,
   "id": "1b0bc443",
   "metadata": {},
   "outputs": [],
   "source": [
    "model = keras.models.Model(inputs=[img_a, img_b], outputs=distance)"
   ]
  },
  {
   "cell_type": "code",
   "execution_count": 63,
   "id": "36b41d9c",
   "metadata": {},
   "outputs": [
    {
     "name": "stdout",
     "output_type": "stream",
     "text": [
      "Model: \"model_8\"\n",
      "_________________________________________________________________\n",
      "Layer (type)                 Output Shape              Param #   \n",
      "=================================================================\n",
      "input_13 (InputLayer)        [(None, 150, 150, 1)]     0         \n",
      "_________________________________________________________________\n",
      "conv2d_9 (Conv2D)            (None, 149, 149, 16)      80        \n",
      "_________________________________________________________________\n",
      "max_pooling2d_9 (MaxPooling2 (None, 74, 74, 16)        0         \n",
      "_________________________________________________________________\n",
      "conv2d_10 (Conv2D)           (None, 73, 73, 32)        2080      \n",
      "_________________________________________________________________\n",
      "max_pooling2d_10 (MaxPooling (None, 36, 36, 32)        0         \n",
      "_________________________________________________________________\n",
      "flatten_4 (Flatten)          (None, 41472)             0         \n",
      "_________________________________________________________________\n",
      "dense_6 (Dense)              (None, 16)                663568    \n",
      "=================================================================\n",
      "Total params: 665,728\n",
      "Trainable params: 665,728\n",
      "Non-trainable params: 0\n",
      "_________________________________________________________________\n"
     ]
    }
   ],
   "source": [
    "base_network.summary()"
   ]
  },
  {
   "cell_type": "code",
   "execution_count": 64,
   "id": "84942608",
   "metadata": {},
   "outputs": [],
   "source": [
    "model.compile(loss=\"binary_crossentropy\", optimizer=\"Adam\", metrics=[\"accuracy\"])"
   ]
  },
  {
   "cell_type": "code",
   "execution_count": 67,
   "id": "d90a833d",
   "metadata": {},
   "outputs": [
    {
     "name": "stdout",
     "output_type": "stream",
     "text": [
      "Epoch 1/100\n",
      "36/36 [==============================] - 1s 37ms/step - loss: 0.6658 - accuracy: 0.7858 - val_loss: 1.3970 - val_accuracy: 0.4773\n",
      "Epoch 2/100\n",
      "36/36 [==============================] - 1s 31ms/step - loss: 0.6575 - accuracy: 0.8000 - val_loss: 1.4101 - val_accuracy: 0.4820\n",
      "Epoch 3/100\n",
      "36/36 [==============================] - 1s 32ms/step - loss: 0.6620 - accuracy: 0.8136 - val_loss: 1.4970 - val_accuracy: 0.4927\n",
      "Epoch 4/100\n",
      "36/36 [==============================] - 1s 31ms/step - loss: 0.6442 - accuracy: 0.8202 - val_loss: 1.5589 - val_accuracy: 0.5000\n",
      "Epoch 5/100\n",
      "36/36 [==============================] - 1s 32ms/step - loss: 0.6907 - accuracy: 0.7871 - val_loss: 1.4611 - val_accuracy: 0.5000\n",
      "Epoch 6/100\n",
      "36/36 [==============================] - 1s 32ms/step - loss: 0.7366 - accuracy: 0.7547 - val_loss: 1.5584 - val_accuracy: 0.5040\n",
      "Epoch 7/100\n",
      "36/36 [==============================] - 1s 32ms/step - loss: 0.7372 - accuracy: 0.7660 - val_loss: 1.5185 - val_accuracy: 0.5033\n",
      "Epoch 8/100\n",
      "36/36 [==============================] - 1s 32ms/step - loss: 0.7407 - accuracy: 0.7713 - val_loss: 1.6221 - val_accuracy: 0.4960\n",
      "Epoch 9/100\n",
      "36/36 [==============================] - 1s 31ms/step - loss: 0.7260 - accuracy: 0.7767 - val_loss: 1.7546 - val_accuracy: 0.4913\n",
      "Epoch 10/100\n",
      "36/36 [==============================] - 1s 32ms/step - loss: 0.7361 - accuracy: 0.7809 - val_loss: 1.7254 - val_accuracy: 0.4827\n",
      "Epoch 11/100\n",
      "36/36 [==============================] - 1s 31ms/step - loss: 0.7169 - accuracy: 0.7978 - val_loss: 1.7606 - val_accuracy: 0.4927\n",
      "Epoch 12/100\n",
      "36/36 [==============================] - 1s 31ms/step - loss: 0.7359 - accuracy: 0.7987 - val_loss: 1.8095 - val_accuracy: 0.4947\n",
      "Epoch 13/100\n",
      "36/36 [==============================] - 1s 31ms/step - loss: 0.7132 - accuracy: 0.8147 - val_loss: 1.9705 - val_accuracy: 0.4973\n",
      "Epoch 14/100\n",
      "36/36 [==============================] - 1s 32ms/step - loss: 0.6919 - accuracy: 0.8151 - val_loss: 2.0193 - val_accuracy: 0.4973\n",
      "Epoch 15/100\n",
      "36/36 [==============================] - 1s 31ms/step - loss: 0.6775 - accuracy: 0.8229 - val_loss: 2.0633 - val_accuracy: 0.5033\n",
      "Epoch 16/100\n",
      "36/36 [==============================] - 1s 31ms/step - loss: 0.6910 - accuracy: 0.8158 - val_loss: 2.0197 - val_accuracy: 0.4887\n",
      "Epoch 17/100\n",
      "36/36 [==============================] - 1s 32ms/step - loss: 0.6762 - accuracy: 0.8293 - val_loss: 2.1534 - val_accuracy: 0.5013\n",
      "Epoch 18/100\n",
      "36/36 [==============================] - 1s 32ms/step - loss: 0.6660 - accuracy: 0.8373 - val_loss: 2.2543 - val_accuracy: 0.5000\n",
      "Epoch 19/100\n",
      "36/36 [==============================] - 1s 32ms/step - loss: 0.6614 - accuracy: 0.8376 - val_loss: 2.2338 - val_accuracy: 0.4980\n",
      "Epoch 20/100\n",
      "36/36 [==============================] - 1s 31ms/step - loss: 0.6574 - accuracy: 0.8333 - val_loss: 2.2959 - val_accuracy: 0.4980\n",
      "Epoch 21/100\n",
      "36/36 [==============================] - 1s 31ms/step - loss: 0.6553 - accuracy: 0.8373 - val_loss: 2.3474 - val_accuracy: 0.4980\n",
      "Epoch 22/100\n",
      "36/36 [==============================] - 1s 32ms/step - loss: 0.6524 - accuracy: 0.8413 - val_loss: 2.3152 - val_accuracy: 0.4920\n",
      "Epoch 23/100\n",
      "36/36 [==============================] - 1s 31ms/step - loss: 0.6491 - accuracy: 0.8476 - val_loss: 2.4246 - val_accuracy: 0.4953\n",
      "Epoch 24/100\n",
      "36/36 [==============================] - 1s 32ms/step - loss: 0.6472 - accuracy: 0.8504 - val_loss: 2.3980 - val_accuracy: 0.5000\n",
      "Epoch 25/100\n",
      "36/36 [==============================] - 1s 32ms/step - loss: 0.6883 - accuracy: 0.8449 - val_loss: 2.3095 - val_accuracy: 0.4973\n",
      "Epoch 26/100\n",
      "36/36 [==============================] - 1s 31ms/step - loss: 0.6935 - accuracy: 0.8464 - val_loss: 2.3919 - val_accuracy: 0.5027\n",
      "Epoch 27/100\n",
      "36/36 [==============================] - 1s 31ms/step - loss: 0.6776 - accuracy: 0.8469 - val_loss: 2.4154 - val_accuracy: 0.5073\n",
      "Epoch 28/100\n",
      "36/36 [==============================] - 1s 31ms/step - loss: 0.6794 - accuracy: 0.8491 - val_loss: 2.4494 - val_accuracy: 0.5027\n",
      "Epoch 29/100\n",
      "36/36 [==============================] - 1s 32ms/step - loss: 0.6685 - accuracy: 0.8540 - val_loss: 2.4093 - val_accuracy: 0.4973\n",
      "Epoch 30/100\n",
      "36/36 [==============================] - 1s 31ms/step - loss: 0.6642 - accuracy: 0.8562 - val_loss: 2.5180 - val_accuracy: 0.4967\n",
      "Epoch 31/100\n",
      "36/36 [==============================] - 1s 30ms/step - loss: 0.6698 - accuracy: 0.8558 - val_loss: 2.4157 - val_accuracy: 0.4880\n",
      "Epoch 32/100\n",
      "36/36 [==============================] - 1s 31ms/step - loss: 0.6605 - accuracy: 0.8591 - val_loss: 2.5444 - val_accuracy: 0.5007\n",
      "Epoch 33/100\n",
      "36/36 [==============================] - 1s 32ms/step - loss: 0.6577 - accuracy: 0.8560 - val_loss: 2.5295 - val_accuracy: 0.4947\n",
      "Epoch 34/100\n",
      "36/36 [==============================] - 1s 32ms/step - loss: 0.6573 - accuracy: 0.8582 - val_loss: 2.5032 - val_accuracy: 0.4933\n",
      "Epoch 35/100\n",
      "36/36 [==============================] - 1s 31ms/step - loss: 0.6658 - accuracy: 0.8584 - val_loss: 2.5471 - val_accuracy: 0.4993\n",
      "Epoch 36/100\n",
      "36/36 [==============================] - 1s 31ms/step - loss: 0.6516 - accuracy: 0.8593 - val_loss: 2.6050 - val_accuracy: 0.5013\n",
      "Epoch 37/100\n",
      "36/36 [==============================] - 1s 32ms/step - loss: 0.6362 - accuracy: 0.8631 - val_loss: 2.6053 - val_accuracy: 0.4993\n",
      "Epoch 38/100\n",
      "36/36 [==============================] - 1s 31ms/step - loss: 0.6323 - accuracy: 0.8624 - val_loss: 2.5377 - val_accuracy: 0.4920\n",
      "Epoch 39/100\n",
      "36/36 [==============================] - 1s 32ms/step - loss: 0.6314 - accuracy: 0.8673 - val_loss: 2.6580 - val_accuracy: 0.5013\n",
      "Epoch 40/100\n",
      "36/36 [==============================] - 1s 31ms/step - loss: 0.6400 - accuracy: 0.8631 - val_loss: 2.6498 - val_accuracy: 0.4953\n",
      "Epoch 41/100\n",
      "36/36 [==============================] - 1s 32ms/step - loss: 0.6379 - accuracy: 0.8602 - val_loss: 2.6667 - val_accuracy: 0.5013\n",
      "Epoch 42/100\n",
      "36/36 [==============================] - 1s 31ms/step - loss: 0.6364 - accuracy: 0.8624 - val_loss: 2.5372 - val_accuracy: 0.4973\n",
      "Epoch 43/100\n",
      "36/36 [==============================] - 1s 31ms/step - loss: 0.6348 - accuracy: 0.8671 - val_loss: 2.5700 - val_accuracy: 0.4980\n",
      "Epoch 44/100\n",
      "36/36 [==============================] - 1s 32ms/step - loss: 0.6392 - accuracy: 0.8640 - val_loss: 2.7180 - val_accuracy: 0.4993\n",
      "Epoch 45/100\n",
      "36/36 [==============================] - 1s 31ms/step - loss: 0.6314 - accuracy: 0.8644 - val_loss: 2.7450 - val_accuracy: 0.4960\n",
      "Epoch 46/100\n",
      "36/36 [==============================] - 1s 31ms/step - loss: 0.6336 - accuracy: 0.8642 - val_loss: 2.7303 - val_accuracy: 0.4993\n",
      "Epoch 47/100\n",
      "36/36 [==============================] - 1s 32ms/step - loss: 0.6323 - accuracy: 0.8696 - val_loss: 2.7298 - val_accuracy: 0.4920\n",
      "Epoch 48/100\n",
      "36/36 [==============================] - 1s 33ms/step - loss: 0.6320 - accuracy: 0.8649 - val_loss: 2.7531 - val_accuracy: 0.4907\n",
      "Epoch 49/100\n",
      "36/36 [==============================] - 1s 31ms/step - loss: 0.6313 - accuracy: 0.8733 - val_loss: 2.8251 - val_accuracy: 0.4967\n",
      "Epoch 50/100\n",
      "36/36 [==============================] - 1s 31ms/step - loss: 0.6320 - accuracy: 0.8684 - val_loss: 2.7357 - val_accuracy: 0.4940\n",
      "Epoch 51/100\n",
      "36/36 [==============================] - 1s 32ms/step - loss: 0.6304 - accuracy: 0.8689 - val_loss: 2.7699 - val_accuracy: 0.4887\n",
      "Epoch 52/100\n",
      "36/36 [==============================] - 1s 32ms/step - loss: 0.6293 - accuracy: 0.8731 - val_loss: 2.7839 - val_accuracy: 0.5000\n",
      "Epoch 53/100\n",
      "36/36 [==============================] - 1s 31ms/step - loss: 0.6296 - accuracy: 0.8753 - val_loss: 2.8073 - val_accuracy: 0.4927\n",
      "Epoch 54/100\n",
      "36/36 [==============================] - 1s 31ms/step - loss: 0.6258 - accuracy: 0.8747 - val_loss: 2.7435 - val_accuracy: 0.4940\n",
      "Epoch 55/100\n",
      "36/36 [==============================] - 1s 32ms/step - loss: 0.6257 - accuracy: 0.8718 - val_loss: 2.8235 - val_accuracy: 0.4887\n",
      "Epoch 56/100\n",
      "36/36 [==============================] - 1s 32ms/step - loss: 0.6434 - accuracy: 0.8704 - val_loss: 2.8644 - val_accuracy: 0.4960\n",
      "Epoch 57/100\n",
      "36/36 [==============================] - 1s 31ms/step - loss: 0.6445 - accuracy: 0.8776 - val_loss: 2.7737 - val_accuracy: 0.4940\n",
      "Epoch 58/100\n"
     ]
    },
    {
     "name": "stdout",
     "output_type": "stream",
     "text": [
      "36/36 [==============================] - 1s 32ms/step - loss: 0.6604 - accuracy: 0.8700 - val_loss: 2.7514 - val_accuracy: 0.4907\n",
      "Epoch 59/100\n",
      "36/36 [==============================] - 1s 31ms/step - loss: 0.6939 - accuracy: 0.8720 - val_loss: 2.5531 - val_accuracy: 0.4873\n",
      "Epoch 60/100\n",
      "36/36 [==============================] - 1s 31ms/step - loss: 0.7353 - accuracy: 0.8622 - val_loss: 2.5486 - val_accuracy: 0.4847\n",
      "Epoch 61/100\n",
      "36/36 [==============================] - 1s 32ms/step - loss: 0.7302 - accuracy: 0.8716 - val_loss: 2.6726 - val_accuracy: 0.4860\n",
      "Epoch 62/100\n",
      "36/36 [==============================] - 1s 32ms/step - loss: 0.7082 - accuracy: 0.8722 - val_loss: 2.6807 - val_accuracy: 0.4887\n",
      "Epoch 63/100\n",
      "36/36 [==============================] - 1s 32ms/step - loss: 0.7054 - accuracy: 0.8756 - val_loss: 2.7292 - val_accuracy: 0.4920\n",
      "Epoch 64/100\n",
      "36/36 [==============================] - 1s 32ms/step - loss: 0.6958 - accuracy: 0.8749 - val_loss: 2.7598 - val_accuracy: 0.4907\n",
      "Epoch 65/100\n",
      "36/36 [==============================] - 1s 31ms/step - loss: 0.6877 - accuracy: 0.8764 - val_loss: 2.7333 - val_accuracy: 0.4893\n",
      "Epoch 66/100\n",
      "36/36 [==============================] - 1s 31ms/step - loss: 0.6945 - accuracy: 0.8769 - val_loss: 2.6534 - val_accuracy: 0.4973\n",
      "Epoch 67/100\n",
      "36/36 [==============================] - 1s 31ms/step - loss: 0.7271 - accuracy: 0.8758 - val_loss: 2.7867 - val_accuracy: 0.4893\n",
      "Epoch 68/100\n",
      "36/36 [==============================] - 1s 32ms/step - loss: 0.7145 - accuracy: 0.8771 - val_loss: 2.8018 - val_accuracy: 0.4873\n",
      "Epoch 69/100\n",
      "36/36 [==============================] - 1s 32ms/step - loss: 0.8480 - accuracy: 0.8160 - val_loss: 1.9738 - val_accuracy: 0.4793\n",
      "Epoch 70/100\n",
      "36/36 [==============================] - 1s 32ms/step - loss: 0.8445 - accuracy: 0.7929 - val_loss: 2.0115 - val_accuracy: 0.4867\n",
      "Epoch 71/100\n",
      "36/36 [==============================] - 1s 31ms/step - loss: 0.7844 - accuracy: 0.8320 - val_loss: 2.0649 - val_accuracy: 0.4900\n",
      "Epoch 72/100\n",
      "36/36 [==============================] - 1s 32ms/step - loss: 0.8092 - accuracy: 0.8311 - val_loss: 2.1764 - val_accuracy: 0.4960\n",
      "Epoch 73/100\n",
      "36/36 [==============================] - 1s 32ms/step - loss: 0.7632 - accuracy: 0.8598 - val_loss: 2.3594 - val_accuracy: 0.5000\n",
      "Epoch 74/100\n",
      "36/36 [==============================] - 1s 32ms/step - loss: 0.7459 - accuracy: 0.8682 - val_loss: 2.5570 - val_accuracy: 0.5047\n",
      "Epoch 75/100\n",
      "36/36 [==============================] - 1s 32ms/step - loss: 0.7313 - accuracy: 0.8751 - val_loss: 2.6307 - val_accuracy: 0.4980\n",
      "Epoch 76/100\n",
      "36/36 [==============================] - 1s 32ms/step - loss: 0.7150 - accuracy: 0.8740 - val_loss: 2.7034 - val_accuracy: 0.4973\n",
      "Epoch 77/100\n",
      "36/36 [==============================] - 1s 32ms/step - loss: 0.7016 - accuracy: 0.8744 - val_loss: 2.7869 - val_accuracy: 0.4960\n",
      "Epoch 78/100\n",
      "36/36 [==============================] - 1s 31ms/step - loss: 0.6967 - accuracy: 0.8782 - val_loss: 2.7803 - val_accuracy: 0.5000\n",
      "Epoch 79/100\n",
      "36/36 [==============================] - 1s 32ms/step - loss: 0.7095 - accuracy: 0.8773 - val_loss: 2.8045 - val_accuracy: 0.5013\n",
      "Epoch 80/100\n",
      "36/36 [==============================] - 1s 32ms/step - loss: 0.7040 - accuracy: 0.8787 - val_loss: 2.9319 - val_accuracy: 0.4993\n",
      "Epoch 81/100\n",
      "36/36 [==============================] - 1s 32ms/step - loss: 0.7006 - accuracy: 0.8802 - val_loss: 2.9244 - val_accuracy: 0.4967\n",
      "Epoch 82/100\n",
      "36/36 [==============================] - 1s 32ms/step - loss: 0.6994 - accuracy: 0.8820 - val_loss: 2.9612 - val_accuracy: 0.4993\n",
      "Epoch 83/100\n",
      "36/36 [==============================] - 1s 31ms/step - loss: 0.6966 - accuracy: 0.8804 - val_loss: 2.9691 - val_accuracy: 0.4940\n",
      "Epoch 84/100\n",
      "36/36 [==============================] - 1s 32ms/step - loss: 0.6955 - accuracy: 0.8813 - val_loss: 2.9383 - val_accuracy: 0.4927\n",
      "Epoch 85/100\n",
      "36/36 [==============================] - 1s 31ms/step - loss: 0.6942 - accuracy: 0.8822 - val_loss: 2.9825 - val_accuracy: 0.4933\n",
      "Epoch 86/100\n",
      "36/36 [==============================] - 1s 32ms/step - loss: 0.6920 - accuracy: 0.8816 - val_loss: 3.0333 - val_accuracy: 0.4947\n",
      "Epoch 87/100\n",
      "36/36 [==============================] - 1s 31ms/step - loss: 0.6922 - accuracy: 0.8800 - val_loss: 2.9671 - val_accuracy: 0.4907\n",
      "Epoch 88/100\n",
      "36/36 [==============================] - 1s 31ms/step - loss: 0.6905 - accuracy: 0.8831 - val_loss: 2.9896 - val_accuracy: 0.4953\n",
      "Epoch 89/100\n",
      "36/36 [==============================] - 1s 31ms/step - loss: 0.6897 - accuracy: 0.8851 - val_loss: 3.0605 - val_accuracy: 0.4907\n",
      "Epoch 90/100\n",
      "36/36 [==============================] - 1s 31ms/step - loss: 0.6896 - accuracy: 0.8796 - val_loss: 3.0091 - val_accuracy: 0.4900\n",
      "Epoch 91/100\n",
      "36/36 [==============================] - 1s 31ms/step - loss: 0.6879 - accuracy: 0.8787 - val_loss: 3.0071 - val_accuracy: 0.4913\n",
      "Epoch 92/100\n",
      "36/36 [==============================] - 1s 32ms/step - loss: 0.6916 - accuracy: 0.8840 - val_loss: 3.0359 - val_accuracy: 0.4920\n",
      "Epoch 93/100\n",
      "36/36 [==============================] - 1s 31ms/step - loss: 0.6997 - accuracy: 0.8818 - val_loss: 2.9720 - val_accuracy: 0.4947\n",
      "Epoch 94/100\n",
      "36/36 [==============================] - 1s 31ms/step - loss: 0.7430 - accuracy: 0.8784 - val_loss: 2.9386 - val_accuracy: 0.4927\n",
      "Epoch 95/100\n",
      "36/36 [==============================] - 1s 31ms/step - loss: 0.7268 - accuracy: 0.8853 - val_loss: 3.0326 - val_accuracy: 0.4907\n",
      "Epoch 96/100\n",
      "36/36 [==============================] - 1s 31ms/step - loss: 0.7207 - accuracy: 0.8867 - val_loss: 3.0628 - val_accuracy: 0.4840\n",
      "Epoch 97/100\n",
      "36/36 [==============================] - 1s 31ms/step - loss: 0.7202 - accuracy: 0.8827 - val_loss: 3.0772 - val_accuracy: 0.4907\n",
      "Epoch 98/100\n",
      "36/36 [==============================] - 1s 32ms/step - loss: 0.7174 - accuracy: 0.8842 - val_loss: 3.0479 - val_accuracy: 0.4900\n",
      "Epoch 99/100\n",
      "36/36 [==============================] - 1s 31ms/step - loss: 0.7176 - accuracy: 0.8829 - val_loss: 3.0541 - val_accuracy: 0.4927\n",
      "Epoch 100/100\n",
      "36/36 [==============================] - 1s 30ms/step - loss: 0.7168 - accuracy: 0.8824 - val_loss: 3.0935 - val_accuracy: 0.4933\n"
     ]
    }
   ],
   "source": [
    "history=model.fit([x_train[:, 0], x_train[:, 1]], y_train, validation_data=([x_test[:, 0], x_test[:, 1]], y_test), epochs=100, batch_size=128)"
   ]
  },
  {
   "cell_type": "code",
   "execution_count": 68,
   "id": "85705c4a",
   "metadata": {},
   "outputs": [
    {
     "data": {
      "image/png": "[encoded data removed]",
      "text/plain": [
       "<Figure size 432x288 with 1 Axes>"
      ]
     },
     "metadata": {},
     "output_type": "display_data"
    }
   ],
   "source": [
    "plot_training(history)"
   ]
  },
  {
   "cell_type": "code",
   "execution_count": null,
   "id": "b70a2147",
   "metadata": {},
   "outputs": [],
   "source": []
  }
 ],
 "metadata": {
  "kernelspec": {
   "display_name": "Python 3",
   "language": "python",
   "name": "python3"
  },
  "language_info": {
   "codemirror_mode": {
    "name": "ipython",
    "version": 3
   },
   "file_extension": ".py",
   "mimetype": "text/x-python",
   "name": "python",
   "nbconvert_exporter": "python",
   "pygments_lexer": "ipython3",
   "version": "3.6.9"
  }
 },
 "nbformat": 4,
 "nbformat_minor": 5
}
