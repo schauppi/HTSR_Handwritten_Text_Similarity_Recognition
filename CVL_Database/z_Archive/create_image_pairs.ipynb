{
 "cells": [
  {
   "cell_type": "code",
   "execution_count": 385,
   "metadata": {},
   "outputs": [],
   "source": [
    "import re\n",
    "import numpy as np\n",
    "from PIL import Image, ImageOps\n",
    "import os\n",
    "from itertools import cycle \n",
    "import random\n",
    "from sklearn.model_selection import train_test_split\n",
    "import tensorflow as tf\n",
    "from tensorflow import keras\n",
    "from tensorflow.keras import backend as K\n",
    "import matplotlib.pyplot as plt"
   ]
  },
  {
   "cell_type": "code",
   "execution_count": 2,
   "metadata": {},
   "outputs": [],
   "source": [
    "def read_image(filename):\n",
    "    #read image and get size\n",
    "    image = Image.open(filename)\n",
    "    w, h = image.size\n",
    "    \n",
    "    #convert to grayscale\n",
    "    gray_im = ImageOps.grayscale(image)\n",
    "    \n",
    "    #convert image to numpy array\n",
    "    im_array = np.array(gray_im)\n",
    "    \n",
    "    return(im_array)"
   ]
  },
  {
   "cell_type": "code",
   "execution_count": 97,
   "metadata": {},
   "outputs": [
    {
     "name": "stdout",
     "output_type": "stream",
     "text": [
      "(128, 64)\n"
     ]
    }
   ],
   "source": [
    "image = '/Users/davidschaupp/Downloads/Market-1501-v15.09.15/splitted_data/0001/0001_c1s1_001051_00.jpg'\n",
    "array = read_image(image)\n",
    "print(array.shape)"
   ]
  },
  {
   "cell_type": "code",
   "execution_count": 34,
   "metadata": {},
   "outputs": [],
   "source": [
    "sample_size = 10000\n",
    "#samples, number of pairs, dim1, dim2\n",
    "x_same_pair = np.zeros([sample_size, 2, 1, 128, 64])\n",
    "y_same_pair = np.zeros([sample_size, 1])\n",
    "\n",
    "x_different_pair = np.zeros([sample_size, 2, 1, 128, 64])\n",
    "y_different_pair = np.zeros([sample_size, 1])"
   ]
  },
  {
   "cell_type": "code",
   "execution_count": 35,
   "metadata": {},
   "outputs": [
    {
     "name": "stdout",
     "output_type": "stream",
     "text": [
      "(10000, 2, 1, 128, 64)\n",
      "(10000, 1)\n",
      "(10000, 2, 1, 128, 64)\n",
      "(10000, 1)\n"
     ]
    }
   ],
   "source": [
    "print(x_same_pair.shape)\n",
    "print(y_same_pair.shape)\n",
    "print(x_different_pair.shape)\n",
    "print(y_different_pair.shape)"
   ]
  },
  {
   "cell_type": "code",
   "execution_count": 98,
   "metadata": {},
   "outputs": [
    {
     "name": "stdout",
     "output_type": "stream",
     "text": [
      "1503\n",
      "1501\n"
     ]
    }
   ],
   "source": [
    "source_folder = '/Users/davidschaupp/Downloads/Market-1501-v15.09.15/splitted_data/'\n",
    "folder_count = os.listdir(source_folder)\n",
    "folder_count.sort()\n",
    "print(len(folder_count))\n",
    "#delete DS_Store files from folders\n",
    "folder_count.pop(0)\n",
    "folder_count.pop(0)\n",
    "print(len(folder_count))"
   ]
  },
  {
   "cell_type": "code",
   "execution_count": 275,
   "metadata": {},
   "outputs": [],
   "source": [
    "import glob\n",
    "def get_data():\n",
    "    \n",
    "    #Create same pairs\n",
    "    \n",
    "    #create iterable object\n",
    "    iter_obj_same = cycle(folder_count)\n",
    "    #iterate over sample size\n",
    "    for i in range(sample_size):\n",
    "        current_folder = next(iter_obj_same)\n",
    "        #get dir of image directory without hidden files\n",
    "        image_dir = os.path.join(source_folder, current_folder)\n",
    "        image_dir_copy = glob.glob(os.path.join(image_dir, '*'))\n",
    "        #how many images in dir\n",
    "        len_image_dir = len(image_dir_copy)\n",
    "        \n",
    "        #create two random numbers\n",
    "        randoms = random.sample(range(len_image_dir), 2)\n",
    "        im_1 = randoms[0]\n",
    "        im_2 = randoms[1]\n",
    "        \n",
    "        #path of files\n",
    "        path_im_1 = image_dir_copy[im_1]\n",
    "        path_im_2 = image_dir_copy[im_2]\n",
    "        \n",
    "        #convert to arrays\n",
    "        im_array_1 = read_image(path_im_1)\n",
    "        im_array_2 = read_image(path_im_2)\n",
    "  \n",
    "        x_same_pair[i, 0, 0, :, :] = im_array_1\n",
    "        x_same_pair[i, 1, 0, :, :] = im_array_2\n",
    "        \n",
    "        y_same_pair[i] = 1\n",
    "        \n",
    "    \n",
    "    #create different pairs\n",
    "    \n",
    "    #list folders in source folder without hidden files\n",
    "    folder_dir = glob.glob(os.path.join(source_folder, '*'))\n",
    "    \n",
    "    for i in range(sample_size):\n",
    "    \n",
    "        #select 2 folders\n",
    "        randoms = random.sample(range(len(folder_dir)), 2)\n",
    "        folder_1 = randoms[0]\n",
    "        folder_2 = randoms[1]\n",
    "        \n",
    "        #get folder dir\n",
    "        folder_1 = folder_dir[folder_1]\n",
    "        folder_2 = folder_dir[folder_2]\n",
    "        \n",
    "        #len_of_folder\n",
    "        folder_1_im = glob.glob(os.path.join(folder_1, '*'))\n",
    "        len_folder_1 = len(folder_1_im)\n",
    "        folder_2_im = glob.glob(os.path.join(folder_2, '*'))\n",
    "        len_folder_2 = len(folder_2_im)\n",
    "        \n",
    "        \n",
    "        #select random image in folder\n",
    "        random_im_1 = random.sample(range(len_folder_1), 1)\n",
    "        random_im_2 = random.sample(range(len_folder_2), 1)\n",
    "        im_1 = random_im_1[0]\n",
    "        im_2 = random_im_2[0] \n",
    "        \n",
    "        #path of files\n",
    "        path_im_1 = folder_1_im[im_1]\n",
    "        path_im_2 = folder_2_im[im_2]\n",
    "        \n",
    "        #convert to arrays\n",
    "        im_array_1 = read_image(path_im_1)\n",
    "        im_array_2 = read_image(path_im_2)\n",
    "\n",
    "        x_different_pair[i, 0, 0, :, :] = im_array_1\n",
    "        x_different_pair[i, 1, 0, :, :] = im_array_2\n",
    "        \n",
    "        y_different_pair[i] = 0\n",
    "    \n",
    "    X = np.concatenate([x_same_pair, x_different_pair], axis=0)/255\n",
    "    Y = np.concatenate([y_same_pair, y_different_pair], axis=0)\n",
    "        \n",
    "    return X, Y\n",
    "\n",
    "        \n",
    "        \n",
    "    "
   ]
  },
  {
   "cell_type": "code",
   "execution_count": 276,
   "metadata": {},
   "outputs": [],
   "source": [
    "X, Y = get_data()"
   ]
  },
  {
   "cell_type": "code",
   "execution_count": 329,
   "metadata": {},
   "outputs": [],
   "source": [
    "#train / test split\n",
    "x_train, x_test, y_train, y_test = train_test_split(X, Y, test_size=.25)"
   ]
  },
  {
   "cell_type": "code",
   "execution_count": 330,
   "metadata": {},
   "outputs": [
    {
     "name": "stdout",
     "output_type": "stream",
     "text": [
      "(15000, 2, 1, 128, 64)\n",
      "(15000, 1)\n",
      "(5000, 2, 1, 128, 64)\n",
      "(5000, 1)\n"
     ]
    }
   ],
   "source": [
    "print(x_train.shape)\n",
    "print(y_train.shape)\n",
    "print(x_test.shape)\n",
    "print(y_test.shape)"
   ]
  },
  {
   "cell_type": "code",
   "execution_count": 331,
   "metadata": {},
   "outputs": [
    {
     "name": "stdout",
     "output_type": "stream",
     "text": [
      "(15000, 2, 128, 64, 1)\n",
      "(5000, 2, 128, 64, 1)\n"
     ]
    }
   ],
   "source": [
    "#switch axis for correct input\n",
    "x_train = np.einsum(\"abcde->abdec\", x_train)\n",
    "x_test = np.einsum(\"abcde->abdec\", x_test)\n",
    "print(x_train.shape)\n",
    "print(x_test.shape)"
   ]
  },
  {
   "cell_type": "code",
   "execution_count": 383,
   "metadata": {},
   "outputs": [],
   "source": [
    "def plot_training(H):\n",
    "\tplt.style.use(\"ggplot\")\n",
    "\tplt.figure()\n",
    "\tplt.plot(H.history[\"loss\"], label=\"train_loss\")\n",
    "\tplt.plot(H.history[\"val_loss\"], label=\"val_loss\")\n",
    "\tplt.plot(H.history[\"accuracy\"], label=\"train_acc\")\n",
    "\tplt.plot(H.history[\"val_accuracy\"], label=\"val_acc\")\n",
    "\tplt.title(\"Training Loss and Accuracy\")\n",
    "\tplt.xlabel(\"Epoch #\")\n",
    "\tplt.ylabel(\"Loss/Accuracy\")\n",
    "\tplt.legend(loc=\"lower left\")"
   ]
  },
  {
   "cell_type": "code",
   "execution_count": 348,
   "metadata": {},
   "outputs": [],
   "source": [
    "def build_siamese_model(input_shape):\n",
    "    \n",
    "    inputs = keras.layers.Input(input_shape)\n",
    "    \n",
    "    x = keras.layers.Conv2D(32, (2,2), padding=\"same\", activation=\"relu\")(inputs)\n",
    "    x = keras.layers.MaxPool2D(2,2)(x)\n",
    "    x = keras.layers.Dropout(0.2)(x)\n",
    "    \n",
    "    x = keras.layers.Conv2D(64, (2,2), padding=\"same\", activation=\"relu\")(x)\n",
    "    x = keras.layers.MaxPool2D(2,2)(x)\n",
    "    x = keras.layers.Dropout(0.2)(x)\n",
    "    \n",
    "    x = keras.layers.Conv2D(128, (2,2), padding=\"same\", activation=\"relu\")(x)\n",
    "    x = keras.layers.MaxPool2D(2,2)(x)\n",
    "    x = keras.layers.Dropout(0.2)(x)\n",
    "    \n",
    "    x = keras.layers.Flatten()(x)\n",
    "    x = keras.layers.Dense(128, activation=\"relu\")(x)\n",
    "    x = keras.layers.Dropout(0.2)(x)\n",
    "    outputs = keras.layers.Dense(64, activation=\"relu\")(x)\n",
    "    \n",
    "    model = keras.models.Model(inputs, outputs)\n",
    "    \n",
    "    return model"
   ]
  },
  {
   "cell_type": "code",
   "execution_count": 364,
   "metadata": {},
   "outputs": [],
   "source": [
    "input_dim = (x_train.shape[2:])\n",
    "img_a = keras.layers.Input(shape=input_dim)\n",
    "img_b = keras.layers.Input(shape=input_dim)\n",
    "\n",
    "#build the network\n",
    "base_network = build_siamese_model(input_dim)\n",
    "\n",
    "#return feature vectors\n",
    "feat_vecs_a = base_network(img_a)\n",
    "feat_vecs_b = base_network(img_b)"
   ]
  },
  {
   "cell_type": "code",
   "execution_count": 365,
   "metadata": {},
   "outputs": [
    {
     "name": "stdout",
     "output_type": "stream",
     "text": [
      "Model: \"model_14\"\n",
      "_________________________________________________________________\n",
      "Layer (type)                 Output Shape              Param #   \n",
      "=================================================================\n",
      "input_51 (InputLayer)        [(None, 128, 64, 1)]      0         \n",
      "_________________________________________________________________\n",
      "conv2d_39 (Conv2D)           (None, 128, 64, 32)       160       \n",
      "_________________________________________________________________\n",
      "max_pooling2d_38 (MaxPooling (None, 64, 32, 32)        0         \n",
      "_________________________________________________________________\n",
      "dropout_49 (Dropout)         (None, 64, 32, 32)        0         \n",
      "_________________________________________________________________\n",
      "conv2d_40 (Conv2D)           (None, 64, 32, 64)        8256      \n",
      "_________________________________________________________________\n",
      "max_pooling2d_39 (MaxPooling (None, 32, 16, 64)        0         \n",
      "_________________________________________________________________\n",
      "dropout_50 (Dropout)         (None, 32, 16, 64)        0         \n",
      "_________________________________________________________________\n",
      "conv2d_41 (Conv2D)           (None, 32, 16, 128)       32896     \n",
      "_________________________________________________________________\n",
      "max_pooling2d_40 (MaxPooling (None, 16, 8, 128)        0         \n",
      "_________________________________________________________________\n",
      "dropout_51 (Dropout)         (None, 16, 8, 128)        0         \n",
      "_________________________________________________________________\n",
      "flatten_15 (Flatten)         (None, 16384)             0         \n",
      "_________________________________________________________________\n",
      "dense_30 (Dense)             (None, 128)               2097280   \n",
      "_________________________________________________________________\n",
      "dropout_52 (Dropout)         (None, 128)               0         \n",
      "_________________________________________________________________\n",
      "dense_31 (Dense)             (None, 64)                8256      \n",
      "=================================================================\n",
      "Total params: 2,146,848\n",
      "Trainable params: 2,146,848\n",
      "Non-trainable params: 0\n",
      "_________________________________________________________________\n"
     ]
    }
   ],
   "source": [
    "base_network.summary()"
   ]
  },
  {
   "cell_type": "code",
   "execution_count": 366,
   "metadata": {},
   "outputs": [],
   "source": [
    "#compute distance between vects\n",
    "def euclidean_distance(vects):\n",
    "    x, y = vects\n",
    "    return K.sqrt(K.sum(K.square(x-y), axis=1, keepdims=True))\n",
    "\n",
    "def eucl_dist_output_shape(shapes):\n",
    "    shape1, shape2 = shapes\n",
    "    return (shape1[0], 1)\n",
    "\n",
    "distance = keras.layers.Lambda(euclidean_distance, output_shape=eucl_dist_output_shape)([feat_vecs_a, feat_vecs_b])"
   ]
  },
  {
   "cell_type": "code",
   "execution_count": 372,
   "metadata": {},
   "outputs": [],
   "source": [
    "epochs = 10\n",
    "model = keras.models.Model(inputs=[img_a, img_b], outputs=distance)"
   ]
  },
  {
   "cell_type": "code",
   "execution_count": 375,
   "metadata": {},
   "outputs": [
    {
     "name": "stdout",
     "output_type": "stream",
     "text": [
      "Failed to import pydot. You must install pydot and graphviz for `pydotprint` to work.\n"
     ]
    }
   ],
   "source": [
    "dot_img_file = '/tmp/model_1.png'\n",
    "tf.keras.utils.plot_model(model, to_file=dot_img_file, show_shapes=True)"
   ]
  },
  {
   "cell_type": "code",
   "execution_count": 376,
   "metadata": {},
   "outputs": [],
   "source": [
    "model.compile(loss=\"binary_crossentropy\", optimizer=\"adam\", metrics=[\"accuracy\"])"
   ]
  },
  {
   "cell_type": "code",
   "execution_count": 379,
   "metadata": {},
   "outputs": [
    {
     "name": "stdout",
     "output_type": "stream",
     "text": [
      "Train on 11250 samples, validate on 3750 samples\n",
      "Epoch 1/10\n",
      "11250/11250 [==============================] - 147s 13ms/sample - loss: 0.7398 - accuracy: 0.4954 - val_loss: 1.6777 - val_accuracy: 0.5048\n",
      "Epoch 2/10\n",
      "11250/11250 [==============================] - 151s 13ms/sample - loss: 0.7274 - accuracy: 0.4945 - val_loss: 1.6047 - val_accuracy: 0.5048\n",
      "Epoch 3/10\n",
      "11250/11250 [==============================] - 143s 13ms/sample - loss: 0.7246 - accuracy: 0.5048 - val_loss: 1.4784 - val_accuracy: 0.5048\n",
      "Epoch 4/10\n",
      "11250/11250 [==============================] - 143s 13ms/sample - loss: 0.7249 - accuracy: 0.4987 - val_loss: 1.3331 - val_accuracy: 0.5048\n",
      "Epoch 5/10\n",
      "11250/11250 [==============================] - 143s 13ms/sample - loss: 0.7218 - accuracy: 0.4991 - val_loss: 1.2705 - val_accuracy: 0.5048\n",
      "Epoch 6/10\n",
      "11250/11250 [==============================] - 143s 13ms/sample - loss: 0.7182 - accuracy: 0.5039 - val_loss: 1.3145 - val_accuracy: 0.5048\n",
      "Epoch 7/10\n",
      "11250/11250 [==============================] - 143s 13ms/sample - loss: 0.7198 - accuracy: 0.5037 - val_loss: 1.2033 - val_accuracy: 0.5048\n",
      "Epoch 8/10\n",
      "11250/11250 [==============================] - 143s 13ms/sample - loss: 0.7206 - accuracy: 0.5044 - val_loss: 1.0939 - val_accuracy: 0.5048\n",
      "Epoch 9/10\n",
      "11250/11250 [==============================] - 143s 13ms/sample - loss: 0.7186 - accuracy: 0.5073 - val_loss: 1.1277 - val_accuracy: 0.5048\n",
      "Epoch 10/10\n",
      "11250/11250 [==============================] - 144s 13ms/sample - loss: 0.7127 - accuracy: 0.5079 - val_loss: 1.0078 - val_accuracy: 0.5048\n"
     ]
    }
   ],
   "source": [
    "img_1 = x_train[:, 0]\n",
    "img_2 = x_train[:, 1]\n",
    "history = model.fit([img_1, img_2], y_train, validation_split=.25, batch_size=128, epochs=epochs)"
   ]
  },
  {
   "cell_type": "code",
   "execution_count": 380,
   "metadata": {},
   "outputs": [],
   "source": [
    "pred = model.predict([x_test[:, 0], x_test[:, 1]])"
   ]
  },
  {
   "cell_type": "code",
   "execution_count": 381,
   "metadata": {},
   "outputs": [],
   "source": [
    "def compute_accuracy(predictions, labels):\n",
    "    return labels[predictions.ravel() < 0.5].mean()"
   ]
  },
  {
   "cell_type": "code",
   "execution_count": 382,
   "metadata": {},
   "outputs": [
    {
     "data": {
      "text/plain": [
       "0.5134"
      ]
     },
     "execution_count": 382,
     "metadata": {},
     "output_type": "execute_result"
    }
   ],
   "source": [
    "compute_accuracy(pred, y_test)"
   ]
  },
  {
   "cell_type": "code",
   "execution_count": 386,
   "metadata": {},
   "outputs": [
    {
     "data": {
      "image/png": "[encoded data removed]",
      "text/plain": [
       "<Figure size 432x288 with 1 Axes>"
      ]
     },
     "metadata": {},
     "output_type": "display_data"
    }
   ],
   "source": [
    "plot_training(history)"
   ]
  }
 ],
 "metadata": {
  "kernelspec": {
   "display_name": "Python 3",
   "language": "python",
   "name": "python3"
  },
  "language_info": {
   "codemirror_mode": {
    "name": "ipython",
    "version": 3
   },
   "file_extension": ".py",
   "mimetype": "text/x-python",
   "name": "python",
   "nbconvert_exporter": "python",
   "pygments_lexer": "ipython3",
   "version": "3.6.9"
  }
 },
 "nbformat": 4,
 "nbformat_minor": 4
}
